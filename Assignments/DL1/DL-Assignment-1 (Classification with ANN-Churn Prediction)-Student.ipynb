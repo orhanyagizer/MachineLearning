{
 "cells": [
  {
   "cell_type": "markdown",
   "metadata": {},
   "source": [
    "___\n",
    "\n",
    "<p style=\"text-align: center;\"><img src=\"https://docs.google.com/uc?id=1lY0Uj5R04yMY3-ZppPWxqCr5pvBLYPnV\" class=\"img-fluid\" alt=\"CLRSWY\"></p>\n",
    "\n",
    "___"
   ]
  },
  {
   "cell_type": "markdown",
   "metadata": {},
   "source": [
    "<h1 style=\"text-align: center;\">Deep Learning<br><br>Assignment-1 (ANN)<br><br>Churn Prediction for Bank Customer<br><h1>"
   ]
  },
  {
   "cell_type": "markdown",
   "metadata": {},
   "source": [
    "## Dataset Info"
   ]
  },
  {
   "cell_type": "markdown",
   "metadata": {},
   "source": [
    "We have a dataset in which there are details of a bank's customers and the target variable is a binary variable reflecting the fact whether the customer left the bank (closed his account) or he continues to be a customer."
   ]
  },
  {
   "cell_type": "markdown",
   "metadata": {},
   "source": [
    "## Import Libraries"
   ]
  },
  {
   "cell_type": "code",
   "execution_count": 1,
   "metadata": {},
   "outputs": [],
   "source": [
    "import numpy as np\n",
    "import pandas as pd\n",
    "import matplotlib.pyplot as plt\n",
    "import seaborn as sns\n",
    "\n",
    "import warnings\n",
    "warnings.filterwarnings(\"ignore\")\n",
    "warnings.warn(\"this will not show\")\n",
    "\n",
    "plt.rcParams[\"figure.figsize\"] = (10,6)\n",
    "\n",
    "sns.set_style(\"whitegrid\")\n",
    "pd.set_option('display.float_format', lambda x: '%.3f' % x)\n",
    "\n",
    "# Set it None to display all rows in the dataframe\n",
    "# pd.set_option('display.max_rows', None)\n",
    "\n",
    "# Set it to None to display all columns in the dataframe\n",
    "pd.set_option('display.max_columns', None)"
   ]
  },
  {
   "cell_type": "markdown",
   "metadata": {},
   "source": [
    "## Indest Data"
   ]
  },
  {
   "cell_type": "code",
   "execution_count": 2,
   "metadata": {},
   "outputs": [],
   "source": [
    "df=pd.read_csv('Churn_Modelling.csv')"
   ]
  },
  {
   "cell_type": "markdown",
   "metadata": {},
   "source": [
    "## Exploratory Data Analysis and Visualization"
   ]
  },
  {
   "cell_type": "markdown",
   "metadata": {},
   "source": [
    "1. Implement basic steps to see how is your data looks like\n",
    "2. Check for missing values\n",
    "3. Drop the features that not suitable for modelling\n",
    "4. Implement basic visualization steps such as histogram, countplot, heatmap\n",
    "5. Convert categorical variables to dummy variables"
   ]
  },
  {
   "cell_type": "code",
   "execution_count": 3,
   "metadata": {},
   "outputs": [
    {
     "data": {
      "text/plain": [
       "(10000, 14)"
      ]
     },
     "execution_count": 3,
     "metadata": {},
     "output_type": "execute_result"
    }
   ],
   "source": [
    "df.shape"
   ]
  },
  {
   "cell_type": "code",
   "execution_count": 4,
   "metadata": {},
   "outputs": [
    {
     "data": {
      "text/html": [
       "<div>\n",
       "<style scoped>\n",
       "    .dataframe tbody tr th:only-of-type {\n",
       "        vertical-align: middle;\n",
       "    }\n",
       "\n",
       "    .dataframe tbody tr th {\n",
       "        vertical-align: top;\n",
       "    }\n",
       "\n",
       "    .dataframe thead th {\n",
       "        text-align: right;\n",
       "    }\n",
       "</style>\n",
       "<table border=\"1\" class=\"dataframe\">\n",
       "  <thead>\n",
       "    <tr style=\"text-align: right;\">\n",
       "      <th></th>\n",
       "      <th>RowNumber</th>\n",
       "      <th>CustomerId</th>\n",
       "      <th>Surname</th>\n",
       "      <th>CreditScore</th>\n",
       "      <th>Geography</th>\n",
       "      <th>Gender</th>\n",
       "      <th>Age</th>\n",
       "      <th>Tenure</th>\n",
       "      <th>Balance</th>\n",
       "      <th>NumOfProducts</th>\n",
       "      <th>HasCrCard</th>\n",
       "      <th>IsActiveMember</th>\n",
       "      <th>EstimatedSalary</th>\n",
       "      <th>Exited</th>\n",
       "    </tr>\n",
       "  </thead>\n",
       "  <tbody>\n",
       "    <tr>\n",
       "      <th>0</th>\n",
       "      <td>1</td>\n",
       "      <td>15634602</td>\n",
       "      <td>Hargrave</td>\n",
       "      <td>619</td>\n",
       "      <td>France</td>\n",
       "      <td>Female</td>\n",
       "      <td>42</td>\n",
       "      <td>2</td>\n",
       "      <td>0.000</td>\n",
       "      <td>1</td>\n",
       "      <td>1</td>\n",
       "      <td>1</td>\n",
       "      <td>101348.880</td>\n",
       "      <td>1</td>\n",
       "    </tr>\n",
       "    <tr>\n",
       "      <th>1</th>\n",
       "      <td>2</td>\n",
       "      <td>15647311</td>\n",
       "      <td>Hill</td>\n",
       "      <td>608</td>\n",
       "      <td>Spain</td>\n",
       "      <td>Female</td>\n",
       "      <td>41</td>\n",
       "      <td>1</td>\n",
       "      <td>83807.860</td>\n",
       "      <td>1</td>\n",
       "      <td>0</td>\n",
       "      <td>1</td>\n",
       "      <td>112542.580</td>\n",
       "      <td>0</td>\n",
       "    </tr>\n",
       "    <tr>\n",
       "      <th>2</th>\n",
       "      <td>3</td>\n",
       "      <td>15619304</td>\n",
       "      <td>Onio</td>\n",
       "      <td>502</td>\n",
       "      <td>France</td>\n",
       "      <td>Female</td>\n",
       "      <td>42</td>\n",
       "      <td>8</td>\n",
       "      <td>159660.800</td>\n",
       "      <td>3</td>\n",
       "      <td>1</td>\n",
       "      <td>0</td>\n",
       "      <td>113931.570</td>\n",
       "      <td>1</td>\n",
       "    </tr>\n",
       "    <tr>\n",
       "      <th>3</th>\n",
       "      <td>4</td>\n",
       "      <td>15701354</td>\n",
       "      <td>Boni</td>\n",
       "      <td>699</td>\n",
       "      <td>France</td>\n",
       "      <td>Female</td>\n",
       "      <td>39</td>\n",
       "      <td>1</td>\n",
       "      <td>0.000</td>\n",
       "      <td>2</td>\n",
       "      <td>0</td>\n",
       "      <td>0</td>\n",
       "      <td>93826.630</td>\n",
       "      <td>0</td>\n",
       "    </tr>\n",
       "    <tr>\n",
       "      <th>4</th>\n",
       "      <td>5</td>\n",
       "      <td>15737888</td>\n",
       "      <td>Mitchell</td>\n",
       "      <td>850</td>\n",
       "      <td>Spain</td>\n",
       "      <td>Female</td>\n",
       "      <td>43</td>\n",
       "      <td>2</td>\n",
       "      <td>125510.820</td>\n",
       "      <td>1</td>\n",
       "      <td>1</td>\n",
       "      <td>1</td>\n",
       "      <td>79084.100</td>\n",
       "      <td>0</td>\n",
       "    </tr>\n",
       "  </tbody>\n",
       "</table>\n",
       "</div>"
      ],
      "text/plain": [
       "   RowNumber  CustomerId   Surname  CreditScore Geography  Gender  Age  \\\n",
       "0          1    15634602  Hargrave          619    France  Female   42   \n",
       "1          2    15647311      Hill          608     Spain  Female   41   \n",
       "2          3    15619304      Onio          502    France  Female   42   \n",
       "3          4    15701354      Boni          699    France  Female   39   \n",
       "4          5    15737888  Mitchell          850     Spain  Female   43   \n",
       "\n",
       "   Tenure    Balance  NumOfProducts  HasCrCard  IsActiveMember  \\\n",
       "0       2      0.000              1          1               1   \n",
       "1       1  83807.860              1          0               1   \n",
       "2       8 159660.800              3          1               0   \n",
       "3       1      0.000              2          0               0   \n",
       "4       2 125510.820              1          1               1   \n",
       "\n",
       "   EstimatedSalary  Exited  \n",
       "0       101348.880       1  \n",
       "1       112542.580       0  \n",
       "2       113931.570       1  \n",
       "3        93826.630       0  \n",
       "4        79084.100       0  "
      ]
     },
     "execution_count": 4,
     "metadata": {},
     "output_type": "execute_result"
    }
   ],
   "source": [
    "df.head()"
   ]
  },
  {
   "cell_type": "code",
   "execution_count": 5,
   "metadata": {},
   "outputs": [
    {
     "name": "stdout",
     "output_type": "stream",
     "text": [
      "<class 'pandas.core.frame.DataFrame'>\n",
      "RangeIndex: 10000 entries, 0 to 9999\n",
      "Data columns (total 14 columns):\n",
      " #   Column           Non-Null Count  Dtype  \n",
      "---  ------           --------------  -----  \n",
      " 0   RowNumber        10000 non-null  int64  \n",
      " 1   CustomerId       10000 non-null  int64  \n",
      " 2   Surname          10000 non-null  object \n",
      " 3   CreditScore      10000 non-null  int64  \n",
      " 4   Geography        10000 non-null  object \n",
      " 5   Gender           10000 non-null  object \n",
      " 6   Age              10000 non-null  int64  \n",
      " 7   Tenure           10000 non-null  int64  \n",
      " 8   Balance          10000 non-null  float64\n",
      " 9   NumOfProducts    10000 non-null  int64  \n",
      " 10  HasCrCard        10000 non-null  int64  \n",
      " 11  IsActiveMember   10000 non-null  int64  \n",
      " 12  EstimatedSalary  10000 non-null  float64\n",
      " 13  Exited           10000 non-null  int64  \n",
      "dtypes: float64(2), int64(9), object(3)\n",
      "memory usage: 1.1+ MB\n"
     ]
    }
   ],
   "source": [
    "df.info()"
   ]
  },
  {
   "cell_type": "code",
   "execution_count": 6,
   "metadata": {},
   "outputs": [
    {
     "data": {
      "text/plain": [
       "RowNumber          0\n",
       "CustomerId         0\n",
       "Surname            0\n",
       "CreditScore        0\n",
       "Geography          0\n",
       "Gender             0\n",
       "Age                0\n",
       "Tenure             0\n",
       "Balance            0\n",
       "NumOfProducts      0\n",
       "HasCrCard          0\n",
       "IsActiveMember     0\n",
       "EstimatedSalary    0\n",
       "Exited             0\n",
       "dtype: int64"
      ]
     },
     "execution_count": 6,
     "metadata": {},
     "output_type": "execute_result"
    }
   ],
   "source": [
    "df.isnull().sum()"
   ]
  },
  {
   "cell_type": "code",
   "execution_count": 7,
   "metadata": {
    "scrolled": true
   },
   "outputs": [
    {
     "data": {
      "text/html": [
       "<div>\n",
       "<style scoped>\n",
       "    .dataframe tbody tr th:only-of-type {\n",
       "        vertical-align: middle;\n",
       "    }\n",
       "\n",
       "    .dataframe tbody tr th {\n",
       "        vertical-align: top;\n",
       "    }\n",
       "\n",
       "    .dataframe thead th {\n",
       "        text-align: right;\n",
       "    }\n",
       "</style>\n",
       "<table border=\"1\" class=\"dataframe\">\n",
       "  <thead>\n",
       "    <tr style=\"text-align: right;\">\n",
       "      <th></th>\n",
       "      <th>count</th>\n",
       "      <th>mean</th>\n",
       "      <th>std</th>\n",
       "      <th>min</th>\n",
       "      <th>25%</th>\n",
       "      <th>50%</th>\n",
       "      <th>75%</th>\n",
       "      <th>max</th>\n",
       "    </tr>\n",
       "  </thead>\n",
       "  <tbody>\n",
       "    <tr>\n",
       "      <th>RowNumber</th>\n",
       "      <td>10000.000</td>\n",
       "      <td>5000.500</td>\n",
       "      <td>2886.896</td>\n",
       "      <td>1.000</td>\n",
       "      <td>2500.750</td>\n",
       "      <td>5000.500</td>\n",
       "      <td>7500.250</td>\n",
       "      <td>10000.000</td>\n",
       "    </tr>\n",
       "    <tr>\n",
       "      <th>CustomerId</th>\n",
       "      <td>10000.000</td>\n",
       "      <td>15690940.569</td>\n",
       "      <td>71936.186</td>\n",
       "      <td>15565701.000</td>\n",
       "      <td>15628528.250</td>\n",
       "      <td>15690738.000</td>\n",
       "      <td>15753233.750</td>\n",
       "      <td>15815690.000</td>\n",
       "    </tr>\n",
       "    <tr>\n",
       "      <th>CreditScore</th>\n",
       "      <td>10000.000</td>\n",
       "      <td>650.529</td>\n",
       "      <td>96.653</td>\n",
       "      <td>350.000</td>\n",
       "      <td>584.000</td>\n",
       "      <td>652.000</td>\n",
       "      <td>718.000</td>\n",
       "      <td>850.000</td>\n",
       "    </tr>\n",
       "    <tr>\n",
       "      <th>Age</th>\n",
       "      <td>10000.000</td>\n",
       "      <td>38.922</td>\n",
       "      <td>10.488</td>\n",
       "      <td>18.000</td>\n",
       "      <td>32.000</td>\n",
       "      <td>37.000</td>\n",
       "      <td>44.000</td>\n",
       "      <td>92.000</td>\n",
       "    </tr>\n",
       "    <tr>\n",
       "      <th>Tenure</th>\n",
       "      <td>10000.000</td>\n",
       "      <td>5.013</td>\n",
       "      <td>2.892</td>\n",
       "      <td>0.000</td>\n",
       "      <td>3.000</td>\n",
       "      <td>5.000</td>\n",
       "      <td>7.000</td>\n",
       "      <td>10.000</td>\n",
       "    </tr>\n",
       "    <tr>\n",
       "      <th>Balance</th>\n",
       "      <td>10000.000</td>\n",
       "      <td>76485.889</td>\n",
       "      <td>62397.405</td>\n",
       "      <td>0.000</td>\n",
       "      <td>0.000</td>\n",
       "      <td>97198.540</td>\n",
       "      <td>127644.240</td>\n",
       "      <td>250898.090</td>\n",
       "    </tr>\n",
       "    <tr>\n",
       "      <th>NumOfProducts</th>\n",
       "      <td>10000.000</td>\n",
       "      <td>1.530</td>\n",
       "      <td>0.582</td>\n",
       "      <td>1.000</td>\n",
       "      <td>1.000</td>\n",
       "      <td>1.000</td>\n",
       "      <td>2.000</td>\n",
       "      <td>4.000</td>\n",
       "    </tr>\n",
       "    <tr>\n",
       "      <th>HasCrCard</th>\n",
       "      <td>10000.000</td>\n",
       "      <td>0.706</td>\n",
       "      <td>0.456</td>\n",
       "      <td>0.000</td>\n",
       "      <td>0.000</td>\n",
       "      <td>1.000</td>\n",
       "      <td>1.000</td>\n",
       "      <td>1.000</td>\n",
       "    </tr>\n",
       "    <tr>\n",
       "      <th>IsActiveMember</th>\n",
       "      <td>10000.000</td>\n",
       "      <td>0.515</td>\n",
       "      <td>0.500</td>\n",
       "      <td>0.000</td>\n",
       "      <td>0.000</td>\n",
       "      <td>1.000</td>\n",
       "      <td>1.000</td>\n",
       "      <td>1.000</td>\n",
       "    </tr>\n",
       "    <tr>\n",
       "      <th>EstimatedSalary</th>\n",
       "      <td>10000.000</td>\n",
       "      <td>100090.240</td>\n",
       "      <td>57510.493</td>\n",
       "      <td>11.580</td>\n",
       "      <td>51002.110</td>\n",
       "      <td>100193.915</td>\n",
       "      <td>149388.247</td>\n",
       "      <td>199992.480</td>\n",
       "    </tr>\n",
       "    <tr>\n",
       "      <th>Exited</th>\n",
       "      <td>10000.000</td>\n",
       "      <td>0.204</td>\n",
       "      <td>0.403</td>\n",
       "      <td>0.000</td>\n",
       "      <td>0.000</td>\n",
       "      <td>0.000</td>\n",
       "      <td>0.000</td>\n",
       "      <td>1.000</td>\n",
       "    </tr>\n",
       "  </tbody>\n",
       "</table>\n",
       "</div>"
      ],
      "text/plain": [
       "                    count         mean       std          min          25%  \\\n",
       "RowNumber       10000.000     5000.500  2886.896        1.000     2500.750   \n",
       "CustomerId      10000.000 15690940.569 71936.186 15565701.000 15628528.250   \n",
       "CreditScore     10000.000      650.529    96.653      350.000      584.000   \n",
       "Age             10000.000       38.922    10.488       18.000       32.000   \n",
       "Tenure          10000.000        5.013     2.892        0.000        3.000   \n",
       "Balance         10000.000    76485.889 62397.405        0.000        0.000   \n",
       "NumOfProducts   10000.000        1.530     0.582        1.000        1.000   \n",
       "HasCrCard       10000.000        0.706     0.456        0.000        0.000   \n",
       "IsActiveMember  10000.000        0.515     0.500        0.000        0.000   \n",
       "EstimatedSalary 10000.000   100090.240 57510.493       11.580    51002.110   \n",
       "Exited          10000.000        0.204     0.403        0.000        0.000   \n",
       "\n",
       "                         50%          75%          max  \n",
       "RowNumber           5000.500     7500.250    10000.000  \n",
       "CustomerId      15690738.000 15753233.750 15815690.000  \n",
       "CreditScore          652.000      718.000      850.000  \n",
       "Age                   37.000       44.000       92.000  \n",
       "Tenure                 5.000        7.000       10.000  \n",
       "Balance            97198.540   127644.240   250898.090  \n",
       "NumOfProducts          1.000        2.000        4.000  \n",
       "HasCrCard              1.000        1.000        1.000  \n",
       "IsActiveMember         1.000        1.000        1.000  \n",
       "EstimatedSalary   100193.915   149388.247   199992.480  \n",
       "Exited                 0.000        0.000        1.000  "
      ]
     },
     "execution_count": 7,
     "metadata": {},
     "output_type": "execute_result"
    }
   ],
   "source": [
    "df.describe().T"
   ]
  },
  {
   "cell_type": "code",
   "execution_count": 8,
   "metadata": {},
   "outputs": [
    {
     "data": {
      "text/plain": [
       "RowNumber          10000\n",
       "CustomerId         10000\n",
       "Surname             2932\n",
       "CreditScore          460\n",
       "Geography              3\n",
       "Gender                 2\n",
       "Age                   70\n",
       "Tenure                11\n",
       "Balance             6382\n",
       "NumOfProducts          4\n",
       "HasCrCard              2\n",
       "IsActiveMember         2\n",
       "EstimatedSalary     9999\n",
       "Exited                 2\n",
       "dtype: int64"
      ]
     },
     "execution_count": 8,
     "metadata": {},
     "output_type": "execute_result"
    }
   ],
   "source": [
    "df.nunique()"
   ]
  },
  {
   "cell_type": "code",
   "execution_count": 9,
   "metadata": {},
   "outputs": [
    {
     "data": {
      "text/html": [
       "<div>\n",
       "<style scoped>\n",
       "    .dataframe tbody tr th:only-of-type {\n",
       "        vertical-align: middle;\n",
       "    }\n",
       "\n",
       "    .dataframe tbody tr th {\n",
       "        vertical-align: top;\n",
       "    }\n",
       "\n",
       "    .dataframe thead th {\n",
       "        text-align: right;\n",
       "    }\n",
       "</style>\n",
       "<table border=\"1\" class=\"dataframe\">\n",
       "  <thead>\n",
       "    <tr style=\"text-align: right;\">\n",
       "      <th></th>\n",
       "      <th>RowNumber</th>\n",
       "      <th>CustomerId</th>\n",
       "      <th>Surname</th>\n",
       "      <th>CreditScore</th>\n",
       "      <th>Geography</th>\n",
       "      <th>Gender</th>\n",
       "      <th>Age</th>\n",
       "      <th>Tenure</th>\n",
       "      <th>Balance</th>\n",
       "      <th>NumOfProducts</th>\n",
       "      <th>HasCrCard</th>\n",
       "      <th>IsActiveMember</th>\n",
       "      <th>EstimatedSalary</th>\n",
       "      <th>Exited</th>\n",
       "    </tr>\n",
       "  </thead>\n",
       "  <tbody>\n",
       "    <tr>\n",
       "      <th>0</th>\n",
       "      <td>1</td>\n",
       "      <td>15634602</td>\n",
       "      <td>Hargrave</td>\n",
       "      <td>619</td>\n",
       "      <td>France</td>\n",
       "      <td>Female</td>\n",
       "      <td>42</td>\n",
       "      <td>2</td>\n",
       "      <td>0.000</td>\n",
       "      <td>1</td>\n",
       "      <td>1</td>\n",
       "      <td>1</td>\n",
       "      <td>101348.880</td>\n",
       "      <td>1</td>\n",
       "    </tr>\n",
       "    <tr>\n",
       "      <th>1</th>\n",
       "      <td>2</td>\n",
       "      <td>15647311</td>\n",
       "      <td>Hill</td>\n",
       "      <td>608</td>\n",
       "      <td>Spain</td>\n",
       "      <td>Female</td>\n",
       "      <td>41</td>\n",
       "      <td>1</td>\n",
       "      <td>83807.860</td>\n",
       "      <td>1</td>\n",
       "      <td>0</td>\n",
       "      <td>1</td>\n",
       "      <td>112542.580</td>\n",
       "      <td>0</td>\n",
       "    </tr>\n",
       "    <tr>\n",
       "      <th>2</th>\n",
       "      <td>3</td>\n",
       "      <td>15619304</td>\n",
       "      <td>Onio</td>\n",
       "      <td>502</td>\n",
       "      <td>France</td>\n",
       "      <td>Female</td>\n",
       "      <td>42</td>\n",
       "      <td>8</td>\n",
       "      <td>159660.800</td>\n",
       "      <td>3</td>\n",
       "      <td>1</td>\n",
       "      <td>0</td>\n",
       "      <td>113931.570</td>\n",
       "      <td>1</td>\n",
       "    </tr>\n",
       "    <tr>\n",
       "      <th>3</th>\n",
       "      <td>4</td>\n",
       "      <td>15701354</td>\n",
       "      <td>Boni</td>\n",
       "      <td>699</td>\n",
       "      <td>France</td>\n",
       "      <td>Female</td>\n",
       "      <td>39</td>\n",
       "      <td>1</td>\n",
       "      <td>0.000</td>\n",
       "      <td>2</td>\n",
       "      <td>0</td>\n",
       "      <td>0</td>\n",
       "      <td>93826.630</td>\n",
       "      <td>0</td>\n",
       "    </tr>\n",
       "    <tr>\n",
       "      <th>4</th>\n",
       "      <td>5</td>\n",
       "      <td>15737888</td>\n",
       "      <td>Mitchell</td>\n",
       "      <td>850</td>\n",
       "      <td>Spain</td>\n",
       "      <td>Female</td>\n",
       "      <td>43</td>\n",
       "      <td>2</td>\n",
       "      <td>125510.820</td>\n",
       "      <td>1</td>\n",
       "      <td>1</td>\n",
       "      <td>1</td>\n",
       "      <td>79084.100</td>\n",
       "      <td>0</td>\n",
       "    </tr>\n",
       "  </tbody>\n",
       "</table>\n",
       "</div>"
      ],
      "text/plain": [
       "   RowNumber  CustomerId   Surname  CreditScore Geography  Gender  Age  \\\n",
       "0          1    15634602  Hargrave          619    France  Female   42   \n",
       "1          2    15647311      Hill          608     Spain  Female   41   \n",
       "2          3    15619304      Onio          502    France  Female   42   \n",
       "3          4    15701354      Boni          699    France  Female   39   \n",
       "4          5    15737888  Mitchell          850     Spain  Female   43   \n",
       "\n",
       "   Tenure    Balance  NumOfProducts  HasCrCard  IsActiveMember  \\\n",
       "0       2      0.000              1          1               1   \n",
       "1       1  83807.860              1          0               1   \n",
       "2       8 159660.800              3          1               0   \n",
       "3       1      0.000              2          0               0   \n",
       "4       2 125510.820              1          1               1   \n",
       "\n",
       "   EstimatedSalary  Exited  \n",
       "0       101348.880       1  \n",
       "1       112542.580       0  \n",
       "2       113931.570       1  \n",
       "3        93826.630       0  \n",
       "4        79084.100       0  "
      ]
     },
     "execution_count": 9,
     "metadata": {},
     "output_type": "execute_result"
    }
   ],
   "source": [
    "df.head()"
   ]
  },
  {
   "cell_type": "code",
   "execution_count": 10,
   "metadata": {},
   "outputs": [],
   "source": [
    "df2 = df.drop([\"RowNumber\",\"CustomerId\",\"Surname\",],axis=1)"
   ]
  },
  {
   "cell_type": "code",
   "execution_count": 11,
   "metadata": {},
   "outputs": [
    {
     "data": {
      "text/html": [
       "<div>\n",
       "<style scoped>\n",
       "    .dataframe tbody tr th:only-of-type {\n",
       "        vertical-align: middle;\n",
       "    }\n",
       "\n",
       "    .dataframe tbody tr th {\n",
       "        vertical-align: top;\n",
       "    }\n",
       "\n",
       "    .dataframe thead th {\n",
       "        text-align: right;\n",
       "    }\n",
       "</style>\n",
       "<table border=\"1\" class=\"dataframe\">\n",
       "  <thead>\n",
       "    <tr style=\"text-align: right;\">\n",
       "      <th></th>\n",
       "      <th>CreditScore</th>\n",
       "      <th>Geography</th>\n",
       "      <th>Gender</th>\n",
       "      <th>Age</th>\n",
       "      <th>Tenure</th>\n",
       "      <th>Balance</th>\n",
       "      <th>NumOfProducts</th>\n",
       "      <th>HasCrCard</th>\n",
       "      <th>IsActiveMember</th>\n",
       "      <th>EstimatedSalary</th>\n",
       "      <th>Exited</th>\n",
       "    </tr>\n",
       "  </thead>\n",
       "  <tbody>\n",
       "    <tr>\n",
       "      <th>0</th>\n",
       "      <td>619</td>\n",
       "      <td>France</td>\n",
       "      <td>Female</td>\n",
       "      <td>42</td>\n",
       "      <td>2</td>\n",
       "      <td>0.000</td>\n",
       "      <td>1</td>\n",
       "      <td>1</td>\n",
       "      <td>1</td>\n",
       "      <td>101348.880</td>\n",
       "      <td>1</td>\n",
       "    </tr>\n",
       "    <tr>\n",
       "      <th>1</th>\n",
       "      <td>608</td>\n",
       "      <td>Spain</td>\n",
       "      <td>Female</td>\n",
       "      <td>41</td>\n",
       "      <td>1</td>\n",
       "      <td>83807.860</td>\n",
       "      <td>1</td>\n",
       "      <td>0</td>\n",
       "      <td>1</td>\n",
       "      <td>112542.580</td>\n",
       "      <td>0</td>\n",
       "    </tr>\n",
       "    <tr>\n",
       "      <th>2</th>\n",
       "      <td>502</td>\n",
       "      <td>France</td>\n",
       "      <td>Female</td>\n",
       "      <td>42</td>\n",
       "      <td>8</td>\n",
       "      <td>159660.800</td>\n",
       "      <td>3</td>\n",
       "      <td>1</td>\n",
       "      <td>0</td>\n",
       "      <td>113931.570</td>\n",
       "      <td>1</td>\n",
       "    </tr>\n",
       "    <tr>\n",
       "      <th>3</th>\n",
       "      <td>699</td>\n",
       "      <td>France</td>\n",
       "      <td>Female</td>\n",
       "      <td>39</td>\n",
       "      <td>1</td>\n",
       "      <td>0.000</td>\n",
       "      <td>2</td>\n",
       "      <td>0</td>\n",
       "      <td>0</td>\n",
       "      <td>93826.630</td>\n",
       "      <td>0</td>\n",
       "    </tr>\n",
       "    <tr>\n",
       "      <th>4</th>\n",
       "      <td>850</td>\n",
       "      <td>Spain</td>\n",
       "      <td>Female</td>\n",
       "      <td>43</td>\n",
       "      <td>2</td>\n",
       "      <td>125510.820</td>\n",
       "      <td>1</td>\n",
       "      <td>1</td>\n",
       "      <td>1</td>\n",
       "      <td>79084.100</td>\n",
       "      <td>0</td>\n",
       "    </tr>\n",
       "  </tbody>\n",
       "</table>\n",
       "</div>"
      ],
      "text/plain": [
       "   CreditScore Geography  Gender  Age  Tenure    Balance  NumOfProducts  \\\n",
       "0          619    France  Female   42       2      0.000              1   \n",
       "1          608     Spain  Female   41       1  83807.860              1   \n",
       "2          502    France  Female   42       8 159660.800              3   \n",
       "3          699    France  Female   39       1      0.000              2   \n",
       "4          850     Spain  Female   43       2 125510.820              1   \n",
       "\n",
       "   HasCrCard  IsActiveMember  EstimatedSalary  Exited  \n",
       "0          1               1       101348.880       1  \n",
       "1          0               1       112542.580       0  \n",
       "2          1               0       113931.570       1  \n",
       "3          0               0        93826.630       0  \n",
       "4          1               1        79084.100       0  "
      ]
     },
     "execution_count": 11,
     "metadata": {},
     "output_type": "execute_result"
    }
   ],
   "source": [
    "df2.head()"
   ]
  },
  {
   "cell_type": "code",
   "execution_count": 12,
   "metadata": {},
   "outputs": [
    {
     "data": {
      "image/png": "[encoded data removed]",
      "text/plain": [
       "<Figure size 1440x1440 with 2 Axes>"
      ]
     },
     "metadata": {},
     "output_type": "display_data"
    }
   ],
   "source": [
    "plt.figure(figsize=(20,20))\n",
    "sns.heatmap(df.corr(), annot=True);"
   ]
  },
  {
   "cell_type": "code",
   "execution_count": 13,
   "metadata": {
    "scrolled": true
   },
   "outputs": [
    {
     "data": {
      "text/plain": [
       "<AxesSubplot:xlabel='Gender', ylabel='count'>"
      ]
     },
     "execution_count": 13,
     "metadata": {},
     "output_type": "execute_result"
    },
    {
     "data": {
      "image/png": "[encoded data removed]",
      "text/plain": [
       "<Figure size 720x432 with 1 Axes>"
      ]
     },
     "metadata": {},
     "output_type": "display_data"
    }
   ],
   "source": [
    "sns.countplot(df[\"Gender\"])"
   ]
  },
  {
   "cell_type": "code",
   "execution_count": 14,
   "metadata": {},
   "outputs": [
    {
     "data": {
      "text/plain": [
       "<AxesSubplot:xlabel='Geography', ylabel='count'>"
      ]
     },
     "execution_count": 14,
     "metadata": {},
     "output_type": "execute_result"
    },
    {
     "data": {
      "image/png": "[encoded data removed]",
      "text/plain": [
       "<Figure size 720x432 with 1 Axes>"
      ]
     },
     "metadata": {},
     "output_type": "display_data"
    }
   ],
   "source": [
    "sns.countplot(df[\"Geography\"])"
   ]
  },
  {
   "cell_type": "code",
   "execution_count": 15,
   "metadata": {
    "scrolled": true
   },
   "outputs": [
    {
     "data": {
      "text/plain": [
       "<AxesSubplot:xlabel='Age', ylabel='count'>"
      ]
     },
     "execution_count": 15,
     "metadata": {},
     "output_type": "execute_result"
    },
    {
     "data": {
      "image/png": "[encoded data removed]",
      "text/plain": [
       "<Figure size 720x432 with 1 Axes>"
      ]
     },
     "metadata": {},
     "output_type": "display_data"
    }
   ],
   "source": [
    "sns.countplot(df[\"Age\"])"
   ]
  },
  {
   "cell_type": "code",
   "execution_count": 16,
   "metadata": {
    "scrolled": true
   },
   "outputs": [
    {
     "data": {
      "text/plain": [
       "<AxesSubplot:xlabel='CreditScore'>"
      ]
     },
     "execution_count": 16,
     "metadata": {},
     "output_type": "execute_result"
    },
    {
     "data": {
      "image/png": "[encoded data removed]",
      "text/plain": [
       "<Figure size 720x432 with 1 Axes>"
      ]
     },
     "metadata": {},
     "output_type": "display_data"
    }
   ],
   "source": [
    "sns.boxplot(df[\"CreditScore\"])"
   ]
  },
  {
   "cell_type": "code",
   "execution_count": 17,
   "metadata": {
    "scrolled": true
   },
   "outputs": [
    {
     "data": {
      "text/plain": [
       "<AxesSubplot:xlabel='Balance'>"
      ]
     },
     "execution_count": 17,
     "metadata": {},
     "output_type": "execute_result"
    },
    {
     "data": {
      "image/png": "[encoded data removed]",
      "text/plain": [
       "<Figure size 720x432 with 1 Axes>"
      ]
     },
     "metadata": {},
     "output_type": "display_data"
    }
   ],
   "source": [
    "sns.boxplot(df[\"Balance\"])"
   ]
  },
  {
   "cell_type": "code",
   "execution_count": 18,
   "metadata": {
    "scrolled": true
   },
   "outputs": [
    {
     "data": {
      "text/plain": [
       "<AxesSubplot:xlabel='EstimatedSalary'>"
      ]
     },
     "execution_count": 18,
     "metadata": {},
     "output_type": "execute_result"
    },
    {
     "data": {
      "image/png": "[encoded data removed]",
      "text/plain": [
       "<Figure size 720x432 with 1 Axes>"
      ]
     },
     "metadata": {},
     "output_type": "display_data"
    }
   ],
   "source": [
    "sns.boxplot(df[\"EstimatedSalary\"])"
   ]
  },
  {
   "cell_type": "code",
   "execution_count": 19,
   "metadata": {},
   "outputs": [
    {
     "data": {
      "text/plain": [
       "<AxesSubplot:xlabel='Tenure', ylabel='count'>"
      ]
     },
     "execution_count": 19,
     "metadata": {},
     "output_type": "execute_result"
    },
    {
     "data": {
      "image/png": "[encoded data removed]",
      "text/plain": [
       "<Figure size 720x432 with 1 Axes>"
      ]
     },
     "metadata": {},
     "output_type": "display_data"
    }
   ],
   "source": [
    "sns.countplot(df[\"Tenure\"])"
   ]
  },
  {
   "cell_type": "code",
   "execution_count": 20,
   "metadata": {},
   "outputs": [
    {
     "data": {
      "text/plain": [
       "<AxesSubplot:xlabel='IsActiveMember', ylabel='count'>"
      ]
     },
     "execution_count": 20,
     "metadata": {},
     "output_type": "execute_result"
    },
    {
     "data": {
      "image/png": "[encoded data removed]",
      "text/plain": [
       "<Figure size 720x432 with 1 Axes>"
      ]
     },
     "metadata": {},
     "output_type": "display_data"
    }
   ],
   "source": [
    "sns.countplot(df[\"IsActiveMember\"])"
   ]
  },
  {
   "cell_type": "code",
   "execution_count": 21,
   "metadata": {},
   "outputs": [
    {
     "data": {
      "text/plain": [
       "<AxesSubplot:xlabel='Exited', ylabel='count'>"
      ]
     },
     "execution_count": 21,
     "metadata": {},
     "output_type": "execute_result"
    },
    {
     "data": {
      "image/png": "[encoded data removed]",
      "text/plain": [
       "<Figure size 720x432 with 1 Axes>"
      ]
     },
     "metadata": {},
     "output_type": "display_data"
    }
   ],
   "source": [
    "sns.countplot(df[\"Exited\"])"
   ]
  },
  {
   "cell_type": "code",
   "execution_count": 22,
   "metadata": {},
   "outputs": [
    {
     "data": {
      "text/plain": [
       "CreditScore        0\n",
       "Geography          0\n",
       "Gender             0\n",
       "Age                0\n",
       "Tenure             0\n",
       "Balance            0\n",
       "NumOfProducts      0\n",
       "HasCrCard          0\n",
       "IsActiveMember     0\n",
       "EstimatedSalary    0\n",
       "Exited             0\n",
       "dtype: int64"
      ]
     },
     "execution_count": 22,
     "metadata": {},
     "output_type": "execute_result"
    }
   ],
   "source": [
    "df2.isnull().sum()"
   ]
  },
  {
   "cell_type": "code",
   "execution_count": 23,
   "metadata": {
    "scrolled": true
   },
   "outputs": [
    {
     "data": {
      "text/html": [
       "<div>\n",
       "<style scoped>\n",
       "    .dataframe tbody tr th:only-of-type {\n",
       "        vertical-align: middle;\n",
       "    }\n",
       "\n",
       "    .dataframe tbody tr th {\n",
       "        vertical-align: top;\n",
       "    }\n",
       "\n",
       "    .dataframe thead th {\n",
       "        text-align: right;\n",
       "    }\n",
       "</style>\n",
       "<table border=\"1\" class=\"dataframe\">\n",
       "  <thead>\n",
       "    <tr style=\"text-align: right;\">\n",
       "      <th></th>\n",
       "      <th>CreditScore</th>\n",
       "      <th>Geography</th>\n",
       "      <th>Gender</th>\n",
       "      <th>Age</th>\n",
       "      <th>Tenure</th>\n",
       "      <th>Balance</th>\n",
       "      <th>NumOfProducts</th>\n",
       "      <th>HasCrCard</th>\n",
       "      <th>IsActiveMember</th>\n",
       "      <th>EstimatedSalary</th>\n",
       "      <th>Exited</th>\n",
       "    </tr>\n",
       "  </thead>\n",
       "  <tbody>\n",
       "    <tr>\n",
       "      <th>0</th>\n",
       "      <td>619</td>\n",
       "      <td>France</td>\n",
       "      <td>Female</td>\n",
       "      <td>42</td>\n",
       "      <td>2</td>\n",
       "      <td>0.000</td>\n",
       "      <td>1</td>\n",
       "      <td>1</td>\n",
       "      <td>1</td>\n",
       "      <td>101348.880</td>\n",
       "      <td>1</td>\n",
       "    </tr>\n",
       "    <tr>\n",
       "      <th>1</th>\n",
       "      <td>608</td>\n",
       "      <td>Spain</td>\n",
       "      <td>Female</td>\n",
       "      <td>41</td>\n",
       "      <td>1</td>\n",
       "      <td>83807.860</td>\n",
       "      <td>1</td>\n",
       "      <td>0</td>\n",
       "      <td>1</td>\n",
       "      <td>112542.580</td>\n",
       "      <td>0</td>\n",
       "    </tr>\n",
       "    <tr>\n",
       "      <th>2</th>\n",
       "      <td>502</td>\n",
       "      <td>France</td>\n",
       "      <td>Female</td>\n",
       "      <td>42</td>\n",
       "      <td>8</td>\n",
       "      <td>159660.800</td>\n",
       "      <td>3</td>\n",
       "      <td>1</td>\n",
       "      <td>0</td>\n",
       "      <td>113931.570</td>\n",
       "      <td>1</td>\n",
       "    </tr>\n",
       "    <tr>\n",
       "      <th>3</th>\n",
       "      <td>699</td>\n",
       "      <td>France</td>\n",
       "      <td>Female</td>\n",
       "      <td>39</td>\n",
       "      <td>1</td>\n",
       "      <td>0.000</td>\n",
       "      <td>2</td>\n",
       "      <td>0</td>\n",
       "      <td>0</td>\n",
       "      <td>93826.630</td>\n",
       "      <td>0</td>\n",
       "    </tr>\n",
       "    <tr>\n",
       "      <th>4</th>\n",
       "      <td>850</td>\n",
       "      <td>Spain</td>\n",
       "      <td>Female</td>\n",
       "      <td>43</td>\n",
       "      <td>2</td>\n",
       "      <td>125510.820</td>\n",
       "      <td>1</td>\n",
       "      <td>1</td>\n",
       "      <td>1</td>\n",
       "      <td>79084.100</td>\n",
       "      <td>0</td>\n",
       "    </tr>\n",
       "  </tbody>\n",
       "</table>\n",
       "</div>"
      ],
      "text/plain": [
       "   CreditScore Geography  Gender  Age  Tenure    Balance  NumOfProducts  \\\n",
       "0          619    France  Female   42       2      0.000              1   \n",
       "1          608     Spain  Female   41       1  83807.860              1   \n",
       "2          502    France  Female   42       8 159660.800              3   \n",
       "3          699    France  Female   39       1      0.000              2   \n",
       "4          850     Spain  Female   43       2 125510.820              1   \n",
       "\n",
       "   HasCrCard  IsActiveMember  EstimatedSalary  Exited  \n",
       "0          1               1       101348.880       1  \n",
       "1          0               1       112542.580       0  \n",
       "2          1               0       113931.570       1  \n",
       "3          0               0        93826.630       0  \n",
       "4          1               1        79084.100       0  "
      ]
     },
     "execution_count": 23,
     "metadata": {},
     "output_type": "execute_result"
    }
   ],
   "source": [
    "df2.head()"
   ]
  },
  {
   "cell_type": "code",
   "execution_count": 24,
   "metadata": {},
   "outputs": [
    {
     "data": {
      "text/plain": [
       "<AxesSubplot:xlabel='Gender', ylabel='count'>"
      ]
     },
     "execution_count": 24,
     "metadata": {},
     "output_type": "execute_result"
    },
    {
     "data": {
      "image/png": "[encoded data removed]",
      "text/plain": [
       "<Figure size 720x432 with 1 Axes>"
      ]
     },
     "metadata": {},
     "output_type": "display_data"
    }
   ],
   "source": [
    "sns.countplot(df[\"Gender\"],hue=df[\"Exited\"])"
   ]
  },
  {
   "cell_type": "code",
   "execution_count": 25,
   "metadata": {},
   "outputs": [
    {
     "data": {
      "text/plain": [
       "CreditScore       0.000\n",
       "Geography         0.000\n",
       "Gender            0.000\n",
       "Age               0.000\n",
       "Tenure            0.000\n",
       "Balance           0.000\n",
       "NumOfProducts     0.000\n",
       "HasCrCard         0.000\n",
       "IsActiveMember    0.000\n",
       "EstimatedSalary   0.000\n",
       "Exited            0.000\n",
       "dtype: float64"
      ]
     },
     "execution_count": 25,
     "metadata": {},
     "output_type": "execute_result"
    }
   ],
   "source": [
    "100* df2.isnull().sum()/len(df2)"
   ]
  },
  {
   "cell_type": "code",
   "execution_count": 26,
   "metadata": {},
   "outputs": [],
   "source": [
    "#AGE DROP EDİLEBİLİR df2 = df2.drop(\"Age\",axis=1)"
   ]
  },
  {
   "cell_type": "code",
   "execution_count": 27,
   "metadata": {},
   "outputs": [],
   "source": [
    "df2 = pd.get_dummies(df2, columns=[\"Geography\",\"Gender\"])"
   ]
  },
  {
   "cell_type": "code",
   "execution_count": 28,
   "metadata": {
    "scrolled": true
   },
   "outputs": [
    {
     "data": {
      "text/html": [
       "<div>\n",
       "<style scoped>\n",
       "    .dataframe tbody tr th:only-of-type {\n",
       "        vertical-align: middle;\n",
       "    }\n",
       "\n",
       "    .dataframe tbody tr th {\n",
       "        vertical-align: top;\n",
       "    }\n",
       "\n",
       "    .dataframe thead th {\n",
       "        text-align: right;\n",
       "    }\n",
       "</style>\n",
       "<table border=\"1\" class=\"dataframe\">\n",
       "  <thead>\n",
       "    <tr style=\"text-align: right;\">\n",
       "      <th></th>\n",
       "      <th>CreditScore</th>\n",
       "      <th>Age</th>\n",
       "      <th>Tenure</th>\n",
       "      <th>Balance</th>\n",
       "      <th>NumOfProducts</th>\n",
       "      <th>HasCrCard</th>\n",
       "      <th>IsActiveMember</th>\n",
       "      <th>EstimatedSalary</th>\n",
       "      <th>Exited</th>\n",
       "      <th>Geography_France</th>\n",
       "      <th>Geography_Germany</th>\n",
       "      <th>Geography_Spain</th>\n",
       "      <th>Gender_Female</th>\n",
       "      <th>Gender_Male</th>\n",
       "    </tr>\n",
       "  </thead>\n",
       "  <tbody>\n",
       "    <tr>\n",
       "      <th>0</th>\n",
       "      <td>619</td>\n",
       "      <td>42</td>\n",
       "      <td>2</td>\n",
       "      <td>0.000</td>\n",
       "      <td>1</td>\n",
       "      <td>1</td>\n",
       "      <td>1</td>\n",
       "      <td>101348.880</td>\n",
       "      <td>1</td>\n",
       "      <td>1</td>\n",
       "      <td>0</td>\n",
       "      <td>0</td>\n",
       "      <td>1</td>\n",
       "      <td>0</td>\n",
       "    </tr>\n",
       "    <tr>\n",
       "      <th>1</th>\n",
       "      <td>608</td>\n",
       "      <td>41</td>\n",
       "      <td>1</td>\n",
       "      <td>83807.860</td>\n",
       "      <td>1</td>\n",
       "      <td>0</td>\n",
       "      <td>1</td>\n",
       "      <td>112542.580</td>\n",
       "      <td>0</td>\n",
       "      <td>0</td>\n",
       "      <td>0</td>\n",
       "      <td>1</td>\n",
       "      <td>1</td>\n",
       "      <td>0</td>\n",
       "    </tr>\n",
       "    <tr>\n",
       "      <th>2</th>\n",
       "      <td>502</td>\n",
       "      <td>42</td>\n",
       "      <td>8</td>\n",
       "      <td>159660.800</td>\n",
       "      <td>3</td>\n",
       "      <td>1</td>\n",
       "      <td>0</td>\n",
       "      <td>113931.570</td>\n",
       "      <td>1</td>\n",
       "      <td>1</td>\n",
       "      <td>0</td>\n",
       "      <td>0</td>\n",
       "      <td>1</td>\n",
       "      <td>0</td>\n",
       "    </tr>\n",
       "    <tr>\n",
       "      <th>3</th>\n",
       "      <td>699</td>\n",
       "      <td>39</td>\n",
       "      <td>1</td>\n",
       "      <td>0.000</td>\n",
       "      <td>2</td>\n",
       "      <td>0</td>\n",
       "      <td>0</td>\n",
       "      <td>93826.630</td>\n",
       "      <td>0</td>\n",
       "      <td>1</td>\n",
       "      <td>0</td>\n",
       "      <td>0</td>\n",
       "      <td>1</td>\n",
       "      <td>0</td>\n",
       "    </tr>\n",
       "    <tr>\n",
       "      <th>4</th>\n",
       "      <td>850</td>\n",
       "      <td>43</td>\n",
       "      <td>2</td>\n",
       "      <td>125510.820</td>\n",
       "      <td>1</td>\n",
       "      <td>1</td>\n",
       "      <td>1</td>\n",
       "      <td>79084.100</td>\n",
       "      <td>0</td>\n",
       "      <td>0</td>\n",
       "      <td>0</td>\n",
       "      <td>1</td>\n",
       "      <td>1</td>\n",
       "      <td>0</td>\n",
       "    </tr>\n",
       "  </tbody>\n",
       "</table>\n",
       "</div>"
      ],
      "text/plain": [
       "   CreditScore  Age  Tenure    Balance  NumOfProducts  HasCrCard  \\\n",
       "0          619   42       2      0.000              1          1   \n",
       "1          608   41       1  83807.860              1          0   \n",
       "2          502   42       8 159660.800              3          1   \n",
       "3          699   39       1      0.000              2          0   \n",
       "4          850   43       2 125510.820              1          1   \n",
       "\n",
       "   IsActiveMember  EstimatedSalary  Exited  Geography_France  \\\n",
       "0               1       101348.880       1                 1   \n",
       "1               1       112542.580       0                 0   \n",
       "2               0       113931.570       1                 1   \n",
       "3               0        93826.630       0                 1   \n",
       "4               1        79084.100       0                 0   \n",
       "\n",
       "   Geography_Germany  Geography_Spain  Gender_Female  Gender_Male  \n",
       "0                  0                0              1            0  \n",
       "1                  0                1              1            0  \n",
       "2                  0                0              1            0  \n",
       "3                  0                0              1            0  \n",
       "4                  0                1              1            0  "
      ]
     },
     "execution_count": 28,
     "metadata": {},
     "output_type": "execute_result"
    }
   ],
   "source": [
    "df2.head()"
   ]
  },
  {
   "cell_type": "code",
   "execution_count": 43,
   "metadata": {},
   "outputs": [],
   "source": [
    "df2 = df2.drop(\"Age\",axis=1)"
   ]
  },
  {
   "cell_type": "code",
   "execution_count": 44,
   "metadata": {},
   "outputs": [
    {
     "data": {
      "text/html": [
       "<div>\n",
       "<style scoped>\n",
       "    .dataframe tbody tr th:only-of-type {\n",
       "        vertical-align: middle;\n",
       "    }\n",
       "\n",
       "    .dataframe tbody tr th {\n",
       "        vertical-align: top;\n",
       "    }\n",
       "\n",
       "    .dataframe thead th {\n",
       "        text-align: right;\n",
       "    }\n",
       "</style>\n",
       "<table border=\"1\" class=\"dataframe\">\n",
       "  <thead>\n",
       "    <tr style=\"text-align: right;\">\n",
       "      <th></th>\n",
       "      <th>CreditScore</th>\n",
       "      <th>Tenure</th>\n",
       "      <th>Balance</th>\n",
       "      <th>NumOfProducts</th>\n",
       "      <th>HasCrCard</th>\n",
       "      <th>IsActiveMember</th>\n",
       "      <th>EstimatedSalary</th>\n",
       "      <th>Exited</th>\n",
       "      <th>Geography_France</th>\n",
       "      <th>Geography_Germany</th>\n",
       "      <th>Geography_Spain</th>\n",
       "      <th>Gender_Female</th>\n",
       "      <th>Gender_Male</th>\n",
       "    </tr>\n",
       "  </thead>\n",
       "  <tbody>\n",
       "    <tr>\n",
       "      <th>0</th>\n",
       "      <td>619</td>\n",
       "      <td>2</td>\n",
       "      <td>0.000</td>\n",
       "      <td>1</td>\n",
       "      <td>1</td>\n",
       "      <td>1</td>\n",
       "      <td>101348.880</td>\n",
       "      <td>1</td>\n",
       "      <td>1</td>\n",
       "      <td>0</td>\n",
       "      <td>0</td>\n",
       "      <td>1</td>\n",
       "      <td>0</td>\n",
       "    </tr>\n",
       "    <tr>\n",
       "      <th>1</th>\n",
       "      <td>608</td>\n",
       "      <td>1</td>\n",
       "      <td>83807.860</td>\n",
       "      <td>1</td>\n",
       "      <td>0</td>\n",
       "      <td>1</td>\n",
       "      <td>112542.580</td>\n",
       "      <td>0</td>\n",
       "      <td>0</td>\n",
       "      <td>0</td>\n",
       "      <td>1</td>\n",
       "      <td>1</td>\n",
       "      <td>0</td>\n",
       "    </tr>\n",
       "    <tr>\n",
       "      <th>2</th>\n",
       "      <td>502</td>\n",
       "      <td>8</td>\n",
       "      <td>159660.800</td>\n",
       "      <td>3</td>\n",
       "      <td>1</td>\n",
       "      <td>0</td>\n",
       "      <td>113931.570</td>\n",
       "      <td>1</td>\n",
       "      <td>1</td>\n",
       "      <td>0</td>\n",
       "      <td>0</td>\n",
       "      <td>1</td>\n",
       "      <td>0</td>\n",
       "    </tr>\n",
       "    <tr>\n",
       "      <th>3</th>\n",
       "      <td>699</td>\n",
       "      <td>1</td>\n",
       "      <td>0.000</td>\n",
       "      <td>2</td>\n",
       "      <td>0</td>\n",
       "      <td>0</td>\n",
       "      <td>93826.630</td>\n",
       "      <td>0</td>\n",
       "      <td>1</td>\n",
       "      <td>0</td>\n",
       "      <td>0</td>\n",
       "      <td>1</td>\n",
       "      <td>0</td>\n",
       "    </tr>\n",
       "    <tr>\n",
       "      <th>4</th>\n",
       "      <td>850</td>\n",
       "      <td>2</td>\n",
       "      <td>125510.820</td>\n",
       "      <td>1</td>\n",
       "      <td>1</td>\n",
       "      <td>1</td>\n",
       "      <td>79084.100</td>\n",
       "      <td>0</td>\n",
       "      <td>0</td>\n",
       "      <td>0</td>\n",
       "      <td>1</td>\n",
       "      <td>1</td>\n",
       "      <td>0</td>\n",
       "    </tr>\n",
       "  </tbody>\n",
       "</table>\n",
       "</div>"
      ],
      "text/plain": [
       "   CreditScore  Tenure    Balance  NumOfProducts  HasCrCard  IsActiveMember  \\\n",
       "0          619       2      0.000              1          1               1   \n",
       "1          608       1  83807.860              1          0               1   \n",
       "2          502       8 159660.800              3          1               0   \n",
       "3          699       1      0.000              2          0               0   \n",
       "4          850       2 125510.820              1          1               1   \n",
       "\n",
       "   EstimatedSalary  Exited  Geography_France  Geography_Germany  \\\n",
       "0       101348.880       1                 1                  0   \n",
       "1       112542.580       0                 0                  0   \n",
       "2       113931.570       1                 1                  0   \n",
       "3        93826.630       0                 1                  0   \n",
       "4        79084.100       0                 0                  0   \n",
       "\n",
       "   Geography_Spain  Gender_Female  Gender_Male  \n",
       "0                0              1            0  \n",
       "1                1              1            0  \n",
       "2                0              1            0  \n",
       "3                0              1            0  \n",
       "4                1              1            0  "
      ]
     },
     "execution_count": 44,
     "metadata": {},
     "output_type": "execute_result"
    }
   ],
   "source": [
    "df2.head()"
   ]
  },
  {
   "cell_type": "markdown",
   "metadata": {},
   "source": [
    "## Preprocessing of Data\n",
    "- Train | Test Split, Scalling"
   ]
  },
  {
   "cell_type": "code",
   "execution_count": 45,
   "metadata": {},
   "outputs": [],
   "source": [
    "X = df2.drop(\"Exited\",axis=1)\n",
    "\n",
    "y = df2[\"Exited\"]"
   ]
  },
  {
   "cell_type": "code",
   "execution_count": 46,
   "metadata": {},
   "outputs": [],
   "source": [
    "from sklearn.model_selection import train_test_split\n",
    "\n",
    "X_train, X_test, y_train, y_test = train_test_split(X, y, test_size=0.20, random_state=42)"
   ]
  },
  {
   "cell_type": "code",
   "execution_count": 47,
   "metadata": {},
   "outputs": [],
   "source": [
    "from sklearn.preprocessing import MinMaxScaler"
   ]
  },
  {
   "cell_type": "code",
   "execution_count": 48,
   "metadata": {},
   "outputs": [],
   "source": [
    "scaler = MinMaxScaler()"
   ]
  },
  {
   "cell_type": "code",
   "execution_count": 49,
   "metadata": {},
   "outputs": [
    {
     "data": {
      "text/plain": [
       "MinMaxScaler()"
      ]
     },
     "execution_count": 49,
     "metadata": {},
     "output_type": "execute_result"
    }
   ],
   "source": [
    "scaler.fit(X_train)"
   ]
  },
  {
   "cell_type": "code",
   "execution_count": 50,
   "metadata": {},
   "outputs": [],
   "source": [
    "X_train= scaler.fit_transform(X_train)\n",
    "X_test = scaler.transform(X_test)\n",
    "\n",
    "#X_train = scaler.transform(X_train)\n",
    "#X_test = scaler.transform(X_test)"
   ]
  },
  {
   "cell_type": "markdown",
   "metadata": {
    "id": "Ha9hDt_AoGaE"
   },
   "source": [
    "## Modelling & Model Performance"
   ]
  },
  {
   "cell_type": "markdown",
   "metadata": {},
   "source": [
    "### Import related libraries"
   ]
  },
  {
   "cell_type": "code",
   "execution_count": 35,
   "metadata": {},
   "outputs": [],
   "source": [
    "import tensorflow as tf\n",
    "from tensorflow.keras.models import Sequential\n",
    "from tensorflow.keras.layers import Dense, Activation\n",
    "from sklearn.metrics import classification_report, confusion_matrix\n",
    "from sklearn.metrics import plot_roc_curve, roc_auc_score, roc_curve\n",
    "from sklearn.model_selection import cross_val_score, cross_validate\n",
    "from sklearn.model_selection import GridSearchCV"
   ]
  },
  {
   "cell_type": "markdown",
   "metadata": {},
   "source": [
    "### Creating Model"
   ]
  },
  {
   "cell_type": "markdown",
   "metadata": {},
   "source": [
    "### without class_weigth"
   ]
  },
  {
   "cell_type": "code",
   "execution_count": 51,
   "metadata": {
    "scrolled": true
   },
   "outputs": [
    {
     "data": {
      "text/plain": [
       "(8000, 12)"
      ]
     },
     "execution_count": 51,
     "metadata": {},
     "output_type": "execute_result"
    }
   ],
   "source": [
    "X_train.shape"
   ]
  },
  {
   "cell_type": "code",
   "execution_count": 52,
   "metadata": {},
   "outputs": [
    {
     "data": {
      "text/plain": [
       "(8000,)"
      ]
     },
     "execution_count": 52,
     "metadata": {},
     "output_type": "execute_result"
    }
   ],
   "source": [
    "y_train.shape"
   ]
  },
  {
   "cell_type": "markdown",
   "metadata": {},
   "source": [
    "#### Evaluate"
   ]
  },
  {
   "cell_type": "code",
   "execution_count": 55,
   "metadata": {},
   "outputs": [],
   "source": [
    "model = Sequential()\n",
    "model.add(Dense(30, activation = \"relu\", input_dim = X_train.shape[1]))\n",
    "model.add(Dense(15, activation=\"relu\"))\n",
    "model.add(Dense(1, activation=\"sigmoid\"))\n",
    "\n",
    "model.compile(loss=\"binary_crossentropy\", optimizer=\"adam\", metrics=[\"accuracy\"])"
   ]
  },
  {
   "cell_type": "code",
   "execution_count": 56,
   "metadata": {
    "scrolled": true
   },
   "outputs": [
    {
     "name": "stdout",
     "output_type": "stream",
     "text": [
      "Epoch 1/500\n",
      "  1/250 [..............................] - ETA: 0s - loss: 0.6749 - accuracy: 0.6875WARNING:tensorflow:Callbacks method `on_train_batch_end` is slow compared to the batch time (batch time: 0.0000s vs `on_train_batch_end` time: 0.0010s). Check your callbacks.\n",
      "250/250 [==============================] - 0s 781us/step - loss: 0.5135 - accuracy: 0.7918 - val_loss: 0.4667 - val_accuracy: 0.8035\n",
      "Epoch 2/500\n",
      "250/250 [==============================] - 0s 507us/step - loss: 0.4789 - accuracy: 0.7929 - val_loss: 0.4629 - val_accuracy: 0.8045\n",
      "Epoch 3/500\n",
      "250/250 [==============================] - 0s 499us/step - loss: 0.4750 - accuracy: 0.7944 - val_loss: 0.4595 - val_accuracy: 0.8055\n",
      "Epoch 4/500\n",
      "250/250 [==============================] - 0s 511us/step - loss: 0.4674 - accuracy: 0.7962 - val_loss: 0.4462 - val_accuracy: 0.8060\n",
      "Epoch 5/500\n",
      "250/250 [==============================] - 0s 507us/step - loss: 0.4486 - accuracy: 0.7999 - val_loss: 0.4245 - val_accuracy: 0.8170\n",
      "Epoch 6/500\n",
      "250/250 [==============================] - 0s 574us/step - loss: 0.4242 - accuracy: 0.8108 - val_loss: 0.4092 - val_accuracy: 0.8285\n",
      "Epoch 7/500\n",
      "250/250 [==============================] - 0s 586us/step - loss: 0.4083 - accuracy: 0.8176 - val_loss: 0.4012 - val_accuracy: 0.8320\n",
      "Epoch 8/500\n",
      "250/250 [==============================] - 0s 515us/step - loss: 0.4010 - accuracy: 0.8216 - val_loss: 0.3993 - val_accuracy: 0.8300\n",
      "Epoch 9/500\n",
      "250/250 [==============================] - 0s 503us/step - loss: 0.3980 - accuracy: 0.8209 - val_loss: 0.3967 - val_accuracy: 0.8300\n",
      "Epoch 10/500\n",
      "250/250 [==============================] - 0s 491us/step - loss: 0.3960 - accuracy: 0.8230 - val_loss: 0.4012 - val_accuracy: 0.8300\n",
      "Epoch 11/500\n",
      "250/250 [==============================] - 0s 597us/step - loss: 0.3963 - accuracy: 0.8234 - val_loss: 0.3984 - val_accuracy: 0.8295\n",
      "Epoch 12/500\n",
      "250/250 [==============================] - 0s 509us/step - loss: 0.3943 - accuracy: 0.8223 - val_loss: 0.3991 - val_accuracy: 0.8285\n",
      "Epoch 13/500\n",
      "250/250 [==============================] - 0s 489us/step - loss: 0.3945 - accuracy: 0.8251 - val_loss: 0.4025 - val_accuracy: 0.8305\n",
      "Epoch 14/500\n",
      "250/250 [==============================] - 0s 539us/step - loss: 0.3941 - accuracy: 0.8235 - val_loss: 0.3989 - val_accuracy: 0.8270\n",
      "Epoch 15/500\n",
      "250/250 [==============================] - 0s 483us/step - loss: 0.3949 - accuracy: 0.8232 - val_loss: 0.3980 - val_accuracy: 0.8290\n",
      "Epoch 16/500\n",
      "250/250 [==============================] - 0s 491us/step - loss: 0.3944 - accuracy: 0.8213 - val_loss: 0.4001 - val_accuracy: 0.8245\n",
      "Epoch 17/500\n",
      "250/250 [==============================] - 0s 483us/step - loss: 0.3927 - accuracy: 0.8234 - val_loss: 0.3981 - val_accuracy: 0.8305\n",
      "Epoch 18/500\n",
      "250/250 [==============================] - 0s 570us/step - loss: 0.3923 - accuracy: 0.8256 - val_loss: 0.3992 - val_accuracy: 0.8315\n",
      "Epoch 19/500\n",
      "250/250 [==============================] - 0s 574us/step - loss: 0.3924 - accuracy: 0.8253 - val_loss: 0.3980 - val_accuracy: 0.8250\n",
      "Epoch 20/500\n",
      "250/250 [==============================] - 0s 523us/step - loss: 0.3910 - accuracy: 0.8232 - val_loss: 0.3987 - val_accuracy: 0.8250\n",
      "Epoch 21/500\n",
      "250/250 [==============================] - 0s 507us/step - loss: 0.3916 - accuracy: 0.8275 - val_loss: 0.4004 - val_accuracy: 0.8330\n",
      "Epoch 22/500\n",
      "250/250 [==============================] - 0s 493us/step - loss: 0.3908 - accuracy: 0.8269 - val_loss: 0.3997 - val_accuracy: 0.8295\n",
      "Epoch 23/500\n",
      "250/250 [==============================] - 0s 495us/step - loss: 0.3907 - accuracy: 0.8254 - val_loss: 0.3982 - val_accuracy: 0.8300\n",
      "Epoch 24/500\n",
      "250/250 [==============================] - 0s 522us/step - loss: 0.3907 - accuracy: 0.8278 - val_loss: 0.3982 - val_accuracy: 0.8310\n",
      "Epoch 25/500\n",
      "250/250 [==============================] - 0s 503us/step - loss: 0.3895 - accuracy: 0.8275 - val_loss: 0.4038 - val_accuracy: 0.8250\n",
      "Epoch 26/500\n",
      "250/250 [==============================] - 0s 499us/step - loss: 0.3916 - accuracy: 0.8256 - val_loss: 0.4001 - val_accuracy: 0.8295\n",
      "Epoch 27/500\n",
      "250/250 [==============================] - 0s 495us/step - loss: 0.3894 - accuracy: 0.8274 - val_loss: 0.3993 - val_accuracy: 0.8255\n",
      "Epoch 28/500\n",
      "250/250 [==============================] - 0s 499us/step - loss: 0.3898 - accuracy: 0.8253 - val_loss: 0.3992 - val_accuracy: 0.8290\n",
      "Epoch 29/500\n",
      "250/250 [==============================] - 0s 515us/step - loss: 0.3893 - accuracy: 0.8273 - val_loss: 0.4002 - val_accuracy: 0.8290\n",
      "Epoch 30/500\n",
      "250/250 [==============================] - 0s 491us/step - loss: 0.3888 - accuracy: 0.8273 - val_loss: 0.3985 - val_accuracy: 0.8260\n",
      "Epoch 31/500\n",
      "250/250 [==============================] - 0s 495us/step - loss: 0.3894 - accuracy: 0.8266 - val_loss: 0.3987 - val_accuracy: 0.8255\n",
      "Epoch 32/500\n",
      "250/250 [==============================] - 0s 491us/step - loss: 0.3885 - accuracy: 0.8278 - val_loss: 0.3987 - val_accuracy: 0.8305\n",
      "Epoch 33/500\n",
      "250/250 [==============================] - 0s 490us/step - loss: 0.3877 - accuracy: 0.8279 - val_loss: 0.3995 - val_accuracy: 0.8280\n",
      "Epoch 34/500\n",
      "250/250 [==============================] - 0s 498us/step - loss: 0.3884 - accuracy: 0.8267 - val_loss: 0.3999 - val_accuracy: 0.8270\n",
      "Epoch 35/500\n",
      "250/250 [==============================] - 0s 519us/step - loss: 0.3873 - accuracy: 0.8280 - val_loss: 0.3996 - val_accuracy: 0.8255\n",
      "Epoch 36/500\n",
      "250/250 [==============================] - 0s 488us/step - loss: 0.3877 - accuracy: 0.8265 - val_loss: 0.4010 - val_accuracy: 0.8255\n",
      "Epoch 37/500\n",
      "250/250 [==============================] - 0s 505us/step - loss: 0.3880 - accuracy: 0.8271 - val_loss: 0.4032 - val_accuracy: 0.8300\n",
      "Epoch 38/500\n",
      "250/250 [==============================] - 0s 519us/step - loss: 0.3869 - accuracy: 0.8273 - val_loss: 0.3992 - val_accuracy: 0.8275\n",
      "Epoch 39/500\n",
      "250/250 [==============================] - 0s 491us/step - loss: 0.3872 - accuracy: 0.8248 - val_loss: 0.4003 - val_accuracy: 0.8275\n",
      "Epoch 40/500\n",
      "250/250 [==============================] - 0s 499us/step - loss: 0.3869 - accuracy: 0.8264 - val_loss: 0.3992 - val_accuracy: 0.8290\n",
      "Epoch 41/500\n",
      "250/250 [==============================] - 0s 491us/step - loss: 0.3865 - accuracy: 0.8266 - val_loss: 0.3993 - val_accuracy: 0.8260\n",
      "Epoch 42/500\n",
      "250/250 [==============================] - 0s 495us/step - loss: 0.3871 - accuracy: 0.8273 - val_loss: 0.3993 - val_accuracy: 0.8275\n",
      "Epoch 43/500\n",
      "250/250 [==============================] - 0s 495us/step - loss: 0.3870 - accuracy: 0.8254 - val_loss: 0.3997 - val_accuracy: 0.8260\n",
      "Epoch 44/500\n",
      "250/250 [==============================] - 0s 491us/step - loss: 0.3867 - accuracy: 0.8232 - val_loss: 0.4017 - val_accuracy: 0.8265\n",
      "Epoch 45/500\n",
      "250/250 [==============================] - 0s 495us/step - loss: 0.3860 - accuracy: 0.8273 - val_loss: 0.4076 - val_accuracy: 0.8260\n",
      "Epoch 46/500\n",
      "250/250 [==============================] - 0s 491us/step - loss: 0.3868 - accuracy: 0.8263 - val_loss: 0.4011 - val_accuracy: 0.8240\n",
      "Epoch 47/500\n",
      "250/250 [==============================] - 0s 491us/step - loss: 0.3860 - accuracy: 0.8264 - val_loss: 0.4003 - val_accuracy: 0.8270\n",
      "Epoch 48/500\n",
      "250/250 [==============================] - 0s 505us/step - loss: 0.3860 - accuracy: 0.8266 - val_loss: 0.3990 - val_accuracy: 0.8270\n",
      "Epoch 49/500\n",
      "250/250 [==============================] - 0s 505us/step - loss: 0.3866 - accuracy: 0.8275 - val_loss: 0.4010 - val_accuracy: 0.8235\n",
      "Epoch 50/500\n",
      "250/250 [==============================] - 0s 503us/step - loss: 0.3864 - accuracy: 0.8280 - val_loss: 0.3987 - val_accuracy: 0.8265\n",
      "Epoch 51/500\n",
      "250/250 [==============================] - 0s 499us/step - loss: 0.3855 - accuracy: 0.8269 - val_loss: 0.3996 - val_accuracy: 0.8255\n",
      "Epoch 52/500\n",
      "250/250 [==============================] - 0s 487us/step - loss: 0.3859 - accuracy: 0.8289 - val_loss: 0.4000 - val_accuracy: 0.8270\n",
      "Epoch 53/500\n",
      "250/250 [==============================] - 0s 499us/step - loss: 0.3855 - accuracy: 0.8261 - val_loss: 0.3983 - val_accuracy: 0.8260\n",
      "Epoch 54/500\n",
      "250/250 [==============================] - 0s 491us/step - loss: 0.3853 - accuracy: 0.8284 - val_loss: 0.3989 - val_accuracy: 0.8270\n",
      "Epoch 55/500\n"
     ]
    },
    {
     "name": "stdout",
     "output_type": "stream",
     "text": [
      "250/250 [==============================] - 0s 495us/step - loss: 0.3846 - accuracy: 0.8288 - val_loss: 0.4002 - val_accuracy: 0.8260\n",
      "Epoch 56/500\n",
      "250/250 [==============================] - 0s 567us/step - loss: 0.3845 - accuracy: 0.8265 - val_loss: 0.4015 - val_accuracy: 0.8235\n",
      "Epoch 57/500\n",
      "250/250 [==============================] - 0s 479us/step - loss: 0.3860 - accuracy: 0.8276 - val_loss: 0.3994 - val_accuracy: 0.8260\n",
      "Epoch 58/500\n",
      "250/250 [==============================] - 0s 553us/step - loss: 0.3843 - accuracy: 0.8270 - val_loss: 0.3982 - val_accuracy: 0.8285\n",
      "Epoch 59/500\n",
      "250/250 [==============================] - 0s 513us/step - loss: 0.3851 - accuracy: 0.8264 - val_loss: 0.3994 - val_accuracy: 0.8250\n",
      "Epoch 60/500\n",
      "250/250 [==============================] - 0s 570us/step - loss: 0.3848 - accuracy: 0.8254 - val_loss: 0.3980 - val_accuracy: 0.8260\n",
      "Epoch 61/500\n",
      "250/250 [==============================] - 0s 559us/step - loss: 0.3852 - accuracy: 0.8266 - val_loss: 0.3990 - val_accuracy: 0.8255\n",
      "Epoch 62/500\n",
      "250/250 [==============================] - 0s 539us/step - loss: 0.3845 - accuracy: 0.8253 - val_loss: 0.3989 - val_accuracy: 0.8230\n",
      "Epoch 63/500\n",
      "250/250 [==============================] - 0s 487us/step - loss: 0.3846 - accuracy: 0.8276 - val_loss: 0.3995 - val_accuracy: 0.8255\n",
      "Epoch 64/500\n",
      "250/250 [==============================] - 0s 527us/step - loss: 0.3845 - accuracy: 0.8310 - val_loss: 0.3997 - val_accuracy: 0.8280\n",
      "Epoch 65/500\n",
      "250/250 [==============================] - 0s 495us/step - loss: 0.3838 - accuracy: 0.8276 - val_loss: 0.3985 - val_accuracy: 0.8280\n",
      "Epoch 66/500\n",
      "250/250 [==============================] - 0s 499us/step - loss: 0.3844 - accuracy: 0.8267 - val_loss: 0.3981 - val_accuracy: 0.8230\n",
      "Epoch 67/500\n",
      "250/250 [==============================] - 0s 495us/step - loss: 0.3840 - accuracy: 0.8279 - val_loss: 0.3984 - val_accuracy: 0.8245\n",
      "Epoch 68/500\n",
      "250/250 [==============================] - 0s 495us/step - loss: 0.3840 - accuracy: 0.8275 - val_loss: 0.3975 - val_accuracy: 0.8265\n",
      "Epoch 69/500\n",
      "250/250 [==============================] - 0s 507us/step - loss: 0.3842 - accuracy: 0.8279 - val_loss: 0.3988 - val_accuracy: 0.8255\n",
      "Epoch 70/500\n",
      "250/250 [==============================] - 0s 495us/step - loss: 0.3836 - accuracy: 0.8271 - val_loss: 0.4004 - val_accuracy: 0.8270\n",
      "Epoch 71/500\n",
      "250/250 [==============================] - 0s 519us/step - loss: 0.3827 - accuracy: 0.8278 - val_loss: 0.4056 - val_accuracy: 0.8270\n",
      "Epoch 72/500\n",
      "250/250 [==============================] - 0s 487us/step - loss: 0.3838 - accuracy: 0.8266 - val_loss: 0.4026 - val_accuracy: 0.8255\n",
      "Epoch 73/500\n",
      "250/250 [==============================] - 0s 497us/step - loss: 0.3832 - accuracy: 0.8269 - val_loss: 0.3996 - val_accuracy: 0.8250\n",
      "Epoch 74/500\n",
      "250/250 [==============================] - 0s 521us/step - loss: 0.3832 - accuracy: 0.8257 - val_loss: 0.3997 - val_accuracy: 0.8280\n",
      "Epoch 75/500\n",
      "250/250 [==============================] - 0s 503us/step - loss: 0.3833 - accuracy: 0.8278 - val_loss: 0.4001 - val_accuracy: 0.8275\n",
      "Epoch 76/500\n",
      "250/250 [==============================] - 0s 517us/step - loss: 0.3828 - accuracy: 0.8286 - val_loss: 0.4008 - val_accuracy: 0.8265\n",
      "Epoch 77/500\n",
      "250/250 [==============================] - 0s 495us/step - loss: 0.3828 - accuracy: 0.8296 - val_loss: 0.4001 - val_accuracy: 0.8275\n",
      "Epoch 78/500\n",
      "250/250 [==============================] - 0s 535us/step - loss: 0.3828 - accuracy: 0.8280 - val_loss: 0.3983 - val_accuracy: 0.8255\n",
      "Epoch 79/500\n",
      "250/250 [==============================] - 0s 523us/step - loss: 0.3832 - accuracy: 0.8261 - val_loss: 0.4002 - val_accuracy: 0.8245\n",
      "Epoch 80/500\n",
      "250/250 [==============================] - 0s 491us/step - loss: 0.3820 - accuracy: 0.8281 - val_loss: 0.3999 - val_accuracy: 0.8235\n",
      "Epoch 81/500\n",
      "250/250 [==============================] - 0s 519us/step - loss: 0.3829 - accuracy: 0.8284 - val_loss: 0.3997 - val_accuracy: 0.8295\n",
      "Epoch 82/500\n",
      "250/250 [==============================] - 0s 503us/step - loss: 0.3829 - accuracy: 0.8284 - val_loss: 0.4000 - val_accuracy: 0.8250\n",
      "Epoch 83/500\n",
      "250/250 [==============================] - 0s 501us/step - loss: 0.3827 - accuracy: 0.8271 - val_loss: 0.3978 - val_accuracy: 0.8235\n",
      "Epoch 84/500\n",
      "250/250 [==============================] - 0s 495us/step - loss: 0.3833 - accuracy: 0.8290 - val_loss: 0.4003 - val_accuracy: 0.8235\n",
      "Epoch 85/500\n",
      "250/250 [==============================] - 0s 499us/step - loss: 0.3824 - accuracy: 0.8274 - val_loss: 0.3992 - val_accuracy: 0.8270\n",
      "Epoch 86/500\n",
      "250/250 [==============================] - 0s 497us/step - loss: 0.3817 - accuracy: 0.8275 - val_loss: 0.3983 - val_accuracy: 0.8255\n",
      "Epoch 87/500\n",
      "250/250 [==============================] - 0s 497us/step - loss: 0.3818 - accuracy: 0.8289 - val_loss: 0.4051 - val_accuracy: 0.8250\n",
      "Epoch 88/500\n",
      "250/250 [==============================] - 0s 535us/step - loss: 0.3833 - accuracy: 0.8299 - val_loss: 0.3988 - val_accuracy: 0.8230\n",
      "Epoch 89/500\n",
      "250/250 [==============================] - 0s 614us/step - loss: 0.3814 - accuracy: 0.8290 - val_loss: 0.3994 - val_accuracy: 0.8250\n",
      "Epoch 90/500\n",
      "250/250 [==============================] - 0s 483us/step - loss: 0.3816 - accuracy: 0.8290 - val_loss: 0.3986 - val_accuracy: 0.8250\n",
      "Epoch 91/500\n",
      "250/250 [==============================] - 0s 507us/step - loss: 0.3824 - accuracy: 0.8276 - val_loss: 0.4001 - val_accuracy: 0.8230\n",
      "Epoch 92/500\n",
      "250/250 [==============================] - 0s 499us/step - loss: 0.3820 - accuracy: 0.8274 - val_loss: 0.3995 - val_accuracy: 0.8240\n",
      "Epoch 93/500\n",
      "250/250 [==============================] - 0s 495us/step - loss: 0.3818 - accuracy: 0.8274 - val_loss: 0.3997 - val_accuracy: 0.8225\n",
      "Epoch 94/500\n",
      "250/250 [==============================] - 0s 499us/step - loss: 0.3817 - accuracy: 0.8278 - val_loss: 0.3993 - val_accuracy: 0.8265\n",
      "Epoch 95/500\n",
      "250/250 [==============================] - 0s 489us/step - loss: 0.3814 - accuracy: 0.8288 - val_loss: 0.4016 - val_accuracy: 0.8270\n",
      "Epoch 96/500\n",
      "250/250 [==============================] - 0s 498us/step - loss: 0.3814 - accuracy: 0.8291 - val_loss: 0.4006 - val_accuracy: 0.8270\n",
      "Epoch 97/500\n",
      "250/250 [==============================] - 0s 497us/step - loss: 0.3807 - accuracy: 0.8290 - val_loss: 0.4000 - val_accuracy: 0.8255\n",
      "Epoch 98/500\n",
      "250/250 [==============================] - 0s 481us/step - loss: 0.3824 - accuracy: 0.8284 - val_loss: 0.4017 - val_accuracy: 0.8235\n",
      "Epoch 99/500\n",
      "250/250 [==============================] - 0s 485us/step - loss: 0.3813 - accuracy: 0.8285 - val_loss: 0.4019 - val_accuracy: 0.8200\n",
      "Epoch 100/500\n",
      "250/250 [==============================] - 0s 515us/step - loss: 0.3817 - accuracy: 0.8256 - val_loss: 0.3995 - val_accuracy: 0.8260\n",
      "Epoch 101/500\n",
      "250/250 [==============================] - 0s 495us/step - loss: 0.3809 - accuracy: 0.8290 - val_loss: 0.4015 - val_accuracy: 0.8225\n",
      "Epoch 102/500\n",
      "250/250 [==============================] - 0s 495us/step - loss: 0.3807 - accuracy: 0.8279 - val_loss: 0.4000 - val_accuracy: 0.8250\n",
      "Epoch 103/500\n",
      "250/250 [==============================] - 0s 491us/step - loss: 0.3810 - accuracy: 0.8292 - val_loss: 0.4006 - val_accuracy: 0.8260\n",
      "Epoch 104/500\n",
      "250/250 [==============================] - 0s 499us/step - loss: 0.3807 - accuracy: 0.8298 - val_loss: 0.4000 - val_accuracy: 0.8285\n",
      "Epoch 105/500\n",
      "250/250 [==============================] - 0s 511us/step - loss: 0.3817 - accuracy: 0.8285 - val_loss: 0.3995 - val_accuracy: 0.8270\n",
      "Epoch 106/500\n",
      "250/250 [==============================] - 0s 654us/step - loss: 0.3810 - accuracy: 0.8290 - val_loss: 0.3999 - val_accuracy: 0.8225\n",
      "Epoch 107/500\n",
      "250/250 [==============================] - 0s 553us/step - loss: 0.3802 - accuracy: 0.8314 - val_loss: 0.4023 - val_accuracy: 0.8255\n",
      "Epoch 108/500\n",
      "250/250 [==============================] - 0s 609us/step - loss: 0.3802 - accuracy: 0.8275 - val_loss: 0.4020 - val_accuracy: 0.8250\n",
      "Epoch 109/500\n",
      "250/250 [==============================] - 0s 503us/step - loss: 0.3811 - accuracy: 0.8282 - val_loss: 0.4005 - val_accuracy: 0.8245\n",
      "Epoch 110/500\n",
      "250/250 [==============================] - 0s 543us/step - loss: 0.3804 - accuracy: 0.8294 - val_loss: 0.3996 - val_accuracy: 0.8270\n",
      "Epoch 111/500\n"
     ]
    },
    {
     "name": "stdout",
     "output_type": "stream",
     "text": [
      "250/250 [==============================] - 0s 662us/step - loss: 0.3807 - accuracy: 0.8292 - val_loss: 0.3986 - val_accuracy: 0.8260\n",
      "Epoch 112/500\n",
      "250/250 [==============================] - 0s 551us/step - loss: 0.3808 - accuracy: 0.8291 - val_loss: 0.4022 - val_accuracy: 0.8245\n",
      "Epoch 113/500\n",
      "250/250 [==============================] - 0s 543us/step - loss: 0.3815 - accuracy: 0.8288 - val_loss: 0.4024 - val_accuracy: 0.8260\n",
      "Epoch 114/500\n",
      "250/250 [==============================] - 0s 559us/step - loss: 0.3807 - accuracy: 0.8298 - val_loss: 0.3993 - val_accuracy: 0.8305\n",
      "Epoch 115/500\n",
      "250/250 [==============================] - 0s 558us/step - loss: 0.3798 - accuracy: 0.8299 - val_loss: 0.4015 - val_accuracy: 0.8270\n",
      "Epoch 116/500\n",
      "250/250 [==============================] - 0s 646us/step - loss: 0.3804 - accuracy: 0.8284 - val_loss: 0.4044 - val_accuracy: 0.8235\n",
      "Epoch 117/500\n",
      "250/250 [==============================] - 0s 666us/step - loss: 0.3802 - accuracy: 0.8304 - val_loss: 0.4014 - val_accuracy: 0.8270\n",
      "Epoch 118/500\n",
      "250/250 [==============================] - 0s 511us/step - loss: 0.3806 - accuracy: 0.8304 - val_loss: 0.4013 - val_accuracy: 0.8270\n",
      "Epoch 119/500\n",
      "250/250 [==============================] - 0s 594us/step - loss: 0.3792 - accuracy: 0.8294 - val_loss: 0.3991 - val_accuracy: 0.8265\n",
      "Epoch 120/500\n",
      "250/250 [==============================] - 0s 699us/step - loss: 0.3799 - accuracy: 0.8292 - val_loss: 0.4012 - val_accuracy: 0.8250\n",
      "Epoch 121/500\n",
      "250/250 [==============================] - 0s 629us/step - loss: 0.3797 - accuracy: 0.8299 - val_loss: 0.4022 - val_accuracy: 0.8285\n",
      "Epoch 122/500\n",
      "250/250 [==============================] - 0s 485us/step - loss: 0.3800 - accuracy: 0.8289 - val_loss: 0.3993 - val_accuracy: 0.8230\n",
      "Epoch 123/500\n",
      "250/250 [==============================] - 0s 527us/step - loss: 0.3798 - accuracy: 0.8317 - val_loss: 0.4021 - val_accuracy: 0.8280\n",
      "Epoch 124/500\n",
      "250/250 [==============================] - 0s 650us/step - loss: 0.3794 - accuracy: 0.8315 - val_loss: 0.4032 - val_accuracy: 0.8235\n",
      "Epoch 125/500\n",
      "250/250 [==============================] - 0s 722us/step - loss: 0.3797 - accuracy: 0.8311 - val_loss: 0.3992 - val_accuracy: 0.8250\n",
      "Epoch 126/500\n",
      "250/250 [==============================] - 0s 593us/step - loss: 0.3794 - accuracy: 0.8294 - val_loss: 0.4024 - val_accuracy: 0.8250\n",
      "Epoch 127/500\n",
      "250/250 [==============================] - 0s 535us/step - loss: 0.3797 - accuracy: 0.8294 - val_loss: 0.4023 - val_accuracy: 0.8220\n",
      "Epoch 128/500\n",
      "250/250 [==============================] - 0s 711us/step - loss: 0.3801 - accuracy: 0.8291 - val_loss: 0.4073 - val_accuracy: 0.8215\n",
      "Epoch 129/500\n",
      "250/250 [==============================] - 0s 499us/step - loss: 0.3790 - accuracy: 0.8296 - val_loss: 0.3991 - val_accuracy: 0.8245\n",
      "Epoch 130/500\n",
      "250/250 [==============================] - 0s 489us/step - loss: 0.3799 - accuracy: 0.8296 - val_loss: 0.4023 - val_accuracy: 0.8290\n",
      "Epoch 131/500\n",
      "250/250 [==============================] - 0s 509us/step - loss: 0.3796 - accuracy: 0.8301 - val_loss: 0.4006 - val_accuracy: 0.8265\n",
      "Epoch 132/500\n",
      "250/250 [==============================] - 0s 495us/step - loss: 0.3786 - accuracy: 0.8295 - val_loss: 0.4004 - val_accuracy: 0.8290\n",
      "Epoch 133/500\n",
      "250/250 [==============================] - 0s 567us/step - loss: 0.3787 - accuracy: 0.8304 - val_loss: 0.4044 - val_accuracy: 0.8320\n",
      "Epoch 134/500\n",
      "250/250 [==============================] - 0s 497us/step - loss: 0.3786 - accuracy: 0.8300 - val_loss: 0.4004 - val_accuracy: 0.8255\n",
      "Epoch 135/500\n",
      "250/250 [==============================] - 0s 526us/step - loss: 0.3791 - accuracy: 0.8295 - val_loss: 0.4000 - val_accuracy: 0.8255\n",
      "Epoch 136/500\n",
      "250/250 [==============================] - 0s 499us/step - loss: 0.3780 - accuracy: 0.8315 - val_loss: 0.4023 - val_accuracy: 0.8255\n",
      "Epoch 137/500\n",
      "250/250 [==============================] - 0s 495us/step - loss: 0.3789 - accuracy: 0.8299 - val_loss: 0.4007 - val_accuracy: 0.8265\n",
      "Epoch 138/500\n",
      "250/250 [==============================] - 0s 499us/step - loss: 0.3784 - accuracy: 0.8305 - val_loss: 0.4055 - val_accuracy: 0.8205\n",
      "Epoch 139/500\n",
      "250/250 [==============================] - 0s 487us/step - loss: 0.3790 - accuracy: 0.8296 - val_loss: 0.4040 - val_accuracy: 0.8245\n",
      "Epoch 140/500\n",
      "250/250 [==============================] - 0s 471us/step - loss: 0.3795 - accuracy: 0.8292 - val_loss: 0.4006 - val_accuracy: 0.8285\n",
      "Epoch 141/500\n",
      "250/250 [==============================] - 0s 475us/step - loss: 0.3788 - accuracy: 0.8291 - val_loss: 0.4010 - val_accuracy: 0.8265\n",
      "Epoch 142/500\n",
      "250/250 [==============================] - 0s 586us/step - loss: 0.3784 - accuracy: 0.8316 - val_loss: 0.4034 - val_accuracy: 0.8240\n",
      "Epoch 143/500\n",
      "250/250 [==============================] - 0s 582us/step - loss: 0.3783 - accuracy: 0.8316 - val_loss: 0.4016 - val_accuracy: 0.8240\n",
      "Epoch 144/500\n",
      "250/250 [==============================] - 0s 577us/step - loss: 0.3775 - accuracy: 0.8301 - val_loss: 0.4000 - val_accuracy: 0.8275\n",
      "Epoch 145/500\n",
      "250/250 [==============================] - 0s 499us/step - loss: 0.3779 - accuracy: 0.8310 - val_loss: 0.4012 - val_accuracy: 0.8265\n",
      "Epoch 146/500\n",
      "250/250 [==============================] - 0s 583us/step - loss: 0.3778 - accuracy: 0.8304 - val_loss: 0.4021 - val_accuracy: 0.8245\n",
      "Epoch 147/500\n",
      "250/250 [==============================] - 0s 675us/step - loss: 0.3780 - accuracy: 0.8320 - val_loss: 0.4006 - val_accuracy: 0.8230\n",
      "Epoch 148/500\n",
      "250/250 [==============================] - 0s 658us/step - loss: 0.3780 - accuracy: 0.8300 - val_loss: 0.4032 - val_accuracy: 0.8285\n",
      "Epoch 149/500\n",
      "250/250 [==============================] - 0s 531us/step - loss: 0.3776 - accuracy: 0.8285 - val_loss: 0.4045 - val_accuracy: 0.8290\n",
      "Epoch 150/500\n",
      "250/250 [==============================] - 0s 497us/step - loss: 0.3780 - accuracy: 0.8303 - val_loss: 0.4032 - val_accuracy: 0.8245\n",
      "Epoch 151/500\n",
      "250/250 [==============================] - 0s 503us/step - loss: 0.3781 - accuracy: 0.8317 - val_loss: 0.4070 - val_accuracy: 0.8215\n",
      "Epoch 152/500\n",
      "250/250 [==============================] - 0s 574us/step - loss: 0.3771 - accuracy: 0.8303 - val_loss: 0.4010 - val_accuracy: 0.8265\n",
      "Epoch 153/500\n",
      "250/250 [==============================] - 0s 497us/step - loss: 0.3775 - accuracy: 0.8332 - val_loss: 0.4023 - val_accuracy: 0.8265\n",
      "Epoch 154/500\n",
      "250/250 [==============================] - 0s 471us/step - loss: 0.3784 - accuracy: 0.8315 - val_loss: 0.4024 - val_accuracy: 0.8325\n",
      "Epoch 155/500\n",
      "250/250 [==============================] - 0s 471us/step - loss: 0.3768 - accuracy: 0.8314 - val_loss: 0.4016 - val_accuracy: 0.8280\n",
      "Epoch 156/500\n",
      "250/250 [==============================] - 0s 475us/step - loss: 0.3770 - accuracy: 0.8310 - val_loss: 0.4028 - val_accuracy: 0.8215\n",
      "Epoch 157/500\n",
      "250/250 [==============================] - 0s 473us/step - loss: 0.3779 - accuracy: 0.8295 - val_loss: 0.4025 - val_accuracy: 0.8245\n",
      "Epoch 158/500\n",
      "250/250 [==============================] - 0s 495us/step - loss: 0.3774 - accuracy: 0.8314 - val_loss: 0.4011 - val_accuracy: 0.8245\n",
      "Epoch 159/500\n",
      "250/250 [==============================] - 0s 506us/step - loss: 0.3773 - accuracy: 0.8314 - val_loss: 0.4032 - val_accuracy: 0.8220\n",
      "Epoch 160/500\n",
      "250/250 [==============================] - 0s 598us/step - loss: 0.3776 - accuracy: 0.8294 - val_loss: 0.4018 - val_accuracy: 0.8275\n",
      "Epoch 161/500\n",
      "250/250 [==============================] - 0s 483us/step - loss: 0.3777 - accuracy: 0.8310 - val_loss: 0.4015 - val_accuracy: 0.8280\n",
      "Epoch 162/500\n",
      "250/250 [==============================] - 0s 539us/step - loss: 0.3769 - accuracy: 0.8325 - val_loss: 0.4002 - val_accuracy: 0.8275\n",
      "Epoch 163/500\n",
      "250/250 [==============================] - 0s 515us/step - loss: 0.3771 - accuracy: 0.8311 - val_loss: 0.4011 - val_accuracy: 0.8265\n",
      "Epoch 164/500\n",
      "250/250 [==============================] - 0s 495us/step - loss: 0.3767 - accuracy: 0.8288 - val_loss: 0.4029 - val_accuracy: 0.8255\n",
      "Epoch 165/500\n",
      "250/250 [==============================] - 0s 582us/step - loss: 0.3774 - accuracy: 0.8329 - val_loss: 0.4017 - val_accuracy: 0.8280\n",
      "Epoch 166/500\n",
      "250/250 [==============================] - 0s 495us/step - loss: 0.3766 - accuracy: 0.8322 - val_loss: 0.4025 - val_accuracy: 0.8285\n"
     ]
    },
    {
     "name": "stdout",
     "output_type": "stream",
     "text": [
      "Epoch 167/500\n",
      "250/250 [==============================] - 0s 561us/step - loss: 0.3780 - accuracy: 0.8298 - val_loss: 0.4050 - val_accuracy: 0.8205\n",
      "Epoch 168/500\n",
      "250/250 [==============================] - 0s 533us/step - loss: 0.3757 - accuracy: 0.8326 - val_loss: 0.4014 - val_accuracy: 0.8250\n",
      "Epoch 169/500\n",
      "250/250 [==============================] - 0s 495us/step - loss: 0.3772 - accuracy: 0.8304 - val_loss: 0.4018 - val_accuracy: 0.8290\n",
      "Epoch 170/500\n",
      "250/250 [==============================] - 0s 519us/step - loss: 0.3763 - accuracy: 0.8322 - val_loss: 0.4016 - val_accuracy: 0.8230\n",
      "Epoch 171/500\n",
      "250/250 [==============================] - 0s 606us/step - loss: 0.3762 - accuracy: 0.8295 - val_loss: 0.4029 - val_accuracy: 0.8280\n",
      "Epoch 172/500\n",
      "250/250 [==============================] - 0s 630us/step - loss: 0.3758 - accuracy: 0.8320 - val_loss: 0.4020 - val_accuracy: 0.8265\n",
      "Epoch 173/500\n",
      "250/250 [==============================] - 0s 487us/step - loss: 0.3769 - accuracy: 0.8303 - val_loss: 0.4022 - val_accuracy: 0.8255\n",
      "Epoch 174/500\n",
      "250/250 [==============================] - 0s 527us/step - loss: 0.3755 - accuracy: 0.8319 - val_loss: 0.4030 - val_accuracy: 0.8225\n",
      "Epoch 175/500\n",
      "250/250 [==============================] - 0s 578us/step - loss: 0.3753 - accuracy: 0.8306 - val_loss: 0.4056 - val_accuracy: 0.8195\n",
      "Epoch 176/500\n",
      "250/250 [==============================] - 0s 491us/step - loss: 0.3753 - accuracy: 0.8329 - val_loss: 0.4054 - val_accuracy: 0.8220\n",
      "Epoch 177/500\n",
      "250/250 [==============================] - 0s 487us/step - loss: 0.3761 - accuracy: 0.8324 - val_loss: 0.4039 - val_accuracy: 0.8215\n",
      "Epoch 178/500\n",
      "250/250 [==============================] - 0s 612us/step - loss: 0.3754 - accuracy: 0.8301 - val_loss: 0.4069 - val_accuracy: 0.8255\n",
      "Epoch 179/500\n",
      "250/250 [==============================] - 0s 502us/step - loss: 0.3750 - accuracy: 0.8347 - val_loss: 0.4043 - val_accuracy: 0.8270\n",
      "Epoch 180/500\n",
      "250/250 [==============================] - 0s 483us/step - loss: 0.3752 - accuracy: 0.8304 - val_loss: 0.4019 - val_accuracy: 0.8280\n",
      "Epoch 181/500\n",
      "250/250 [==============================] - 0s 489us/step - loss: 0.3757 - accuracy: 0.8301 - val_loss: 0.4117 - val_accuracy: 0.8205\n",
      "Epoch 182/500\n",
      "250/250 [==============================] - 0s 498us/step - loss: 0.3761 - accuracy: 0.8321 - val_loss: 0.4082 - val_accuracy: 0.8245\n",
      "Epoch 183/500\n",
      "250/250 [==============================] - 0s 602us/step - loss: 0.3747 - accuracy: 0.8332 - val_loss: 0.4048 - val_accuracy: 0.8260\n",
      "Epoch 184/500\n",
      "250/250 [==============================] - 0s 519us/step - loss: 0.3748 - accuracy: 0.8321 - val_loss: 0.4062 - val_accuracy: 0.8250\n",
      "Epoch 185/500\n",
      "250/250 [==============================] - 0s 562us/step - loss: 0.3753 - accuracy: 0.8321 - val_loss: 0.4049 - val_accuracy: 0.8245\n",
      "Epoch 186/500\n",
      "250/250 [==============================] - 0s 483us/step - loss: 0.3746 - accuracy: 0.8322 - val_loss: 0.4034 - val_accuracy: 0.8275\n",
      "Epoch 187/500\n",
      "250/250 [==============================] - 0s 483us/step - loss: 0.3761 - accuracy: 0.8322 - val_loss: 0.4113 - val_accuracy: 0.8220\n",
      "Epoch 188/500\n",
      "250/250 [==============================] - 0s 503us/step - loss: 0.3759 - accuracy: 0.8304 - val_loss: 0.4038 - val_accuracy: 0.8285\n",
      "Epoch 189/500\n",
      "250/250 [==============================] - 0s 523us/step - loss: 0.3741 - accuracy: 0.8316 - val_loss: 0.4035 - val_accuracy: 0.8215\n",
      "Epoch 190/500\n",
      "250/250 [==============================] - 0s 502us/step - loss: 0.3735 - accuracy: 0.8331 - val_loss: 0.4054 - val_accuracy: 0.8270\n",
      "Epoch 191/500\n",
      "250/250 [==============================] - 0s 477us/step - loss: 0.3758 - accuracy: 0.8334 - val_loss: 0.4020 - val_accuracy: 0.8245\n",
      "Epoch 192/500\n",
      "250/250 [==============================] - 0s 491us/step - loss: 0.3747 - accuracy: 0.8316 - val_loss: 0.4086 - val_accuracy: 0.8230\n",
      "Epoch 193/500\n",
      "250/250 [==============================] - 0s 530us/step - loss: 0.3744 - accuracy: 0.8336 - val_loss: 0.4026 - val_accuracy: 0.8245\n",
      "Epoch 194/500\n",
      "250/250 [==============================] - 0s 495us/step - loss: 0.3739 - accuracy: 0.8330 - val_loss: 0.4050 - val_accuracy: 0.8240\n",
      "Epoch 195/500\n",
      "250/250 [==============================] - 0s 487us/step - loss: 0.3734 - accuracy: 0.8331 - val_loss: 0.4055 - val_accuracy: 0.8285\n",
      "Epoch 196/500\n",
      "250/250 [==============================] - 0s 487us/step - loss: 0.3743 - accuracy: 0.8341 - val_loss: 0.4029 - val_accuracy: 0.8275\n",
      "Epoch 197/500\n",
      "250/250 [==============================] - 0s 515us/step - loss: 0.3730 - accuracy: 0.8320 - val_loss: 0.4019 - val_accuracy: 0.8250\n",
      "Epoch 198/500\n",
      "250/250 [==============================] - 0s 559us/step - loss: 0.3739 - accuracy: 0.8309 - val_loss: 0.4042 - val_accuracy: 0.8215\n",
      "Epoch 199/500\n",
      "250/250 [==============================] - 0s 586us/step - loss: 0.3743 - accuracy: 0.8322 - val_loss: 0.4077 - val_accuracy: 0.8185\n",
      "Epoch 200/500\n",
      "250/250 [==============================] - 0s 531us/step - loss: 0.3737 - accuracy: 0.8311 - val_loss: 0.4055 - val_accuracy: 0.8210\n",
      "Epoch 201/500\n",
      "250/250 [==============================] - 0s 491us/step - loss: 0.3735 - accuracy: 0.8286 - val_loss: 0.4069 - val_accuracy: 0.8225\n",
      "Epoch 202/500\n",
      "250/250 [==============================] - 0s 483us/step - loss: 0.3730 - accuracy: 0.8342 - val_loss: 0.4050 - val_accuracy: 0.8235\n",
      "Epoch 203/500\n",
      "250/250 [==============================] - 0s 527us/step - loss: 0.3730 - accuracy: 0.8310 - val_loss: 0.4063 - val_accuracy: 0.8250\n",
      "Epoch 204/500\n",
      "250/250 [==============================] - 0s 487us/step - loss: 0.3735 - accuracy: 0.8305 - val_loss: 0.4044 - val_accuracy: 0.8210\n",
      "Epoch 205/500\n",
      "250/250 [==============================] - 0s 495us/step - loss: 0.3726 - accuracy: 0.8329 - val_loss: 0.4031 - val_accuracy: 0.8280\n",
      "Epoch 206/500\n",
      "250/250 [==============================] - 0s 527us/step - loss: 0.3729 - accuracy: 0.8339 - val_loss: 0.4096 - val_accuracy: 0.8195\n",
      "Epoch 207/500\n",
      "250/250 [==============================] - 0s 614us/step - loss: 0.3719 - accuracy: 0.8336 - val_loss: 0.4038 - val_accuracy: 0.8280\n",
      "Epoch 208/500\n",
      "250/250 [==============================] - 0s 499us/step - loss: 0.3727 - accuracy: 0.8335 - val_loss: 0.4064 - val_accuracy: 0.8255\n",
      "Epoch 209/500\n",
      "250/250 [==============================] - 0s 491us/step - loss: 0.3735 - accuracy: 0.8334 - val_loss: 0.4078 - val_accuracy: 0.8255\n",
      "Epoch 210/500\n",
      "250/250 [==============================] - 0s 479us/step - loss: 0.3733 - accuracy: 0.8328 - val_loss: 0.4059 - val_accuracy: 0.8255\n",
      "Epoch 211/500\n",
      "250/250 [==============================] - 0s 475us/step - loss: 0.3735 - accuracy: 0.8334 - val_loss: 0.4067 - val_accuracy: 0.8225\n",
      "Epoch 212/500\n",
      "250/250 [==============================] - 0s 507us/step - loss: 0.3727 - accuracy: 0.8338 - val_loss: 0.4057 - val_accuracy: 0.8285\n",
      "Epoch 213/500\n",
      "250/250 [==============================] - 0s 535us/step - loss: 0.3725 - accuracy: 0.8324 - val_loss: 0.4063 - val_accuracy: 0.8245\n",
      "Epoch 214/500\n",
      "250/250 [==============================] - 0s 555us/step - loss: 0.3715 - accuracy: 0.8340 - val_loss: 0.4043 - val_accuracy: 0.8245\n",
      "Epoch 215/500\n",
      "250/250 [==============================] - 0s 607us/step - loss: 0.3730 - accuracy: 0.8324 - val_loss: 0.4056 - val_accuracy: 0.8245\n",
      "Epoch 216/500\n",
      "250/250 [==============================] - 0s 491us/step - loss: 0.3734 - accuracy: 0.8325 - val_loss: 0.4073 - val_accuracy: 0.8225\n",
      "Epoch 217/500\n",
      "250/250 [==============================] - 0s 475us/step - loss: 0.3719 - accuracy: 0.8347 - val_loss: 0.4080 - val_accuracy: 0.8230\n",
      "Epoch 218/500\n",
      "250/250 [==============================] - 0s 475us/step - loss: 0.3723 - accuracy: 0.8339 - val_loss: 0.4033 - val_accuracy: 0.8255\n",
      "Epoch 219/500\n",
      "250/250 [==============================] - 0s 475us/step - loss: 0.3725 - accuracy: 0.8353 - val_loss: 0.4079 - val_accuracy: 0.8255\n",
      "Epoch 220/500\n",
      "250/250 [==============================] - 0s 491us/step - loss: 0.3723 - accuracy: 0.8344 - val_loss: 0.4062 - val_accuracy: 0.8240\n",
      "Epoch 221/500\n",
      "250/250 [==============================] - 0s 495us/step - loss: 0.3722 - accuracy: 0.8306 - val_loss: 0.4066 - val_accuracy: 0.8255\n",
      "Epoch 222/500\n",
      "250/250 [==============================] - 0s 511us/step - loss: 0.3717 - accuracy: 0.8328 - val_loss: 0.4048 - val_accuracy: 0.8295\n"
     ]
    },
    {
     "name": "stdout",
     "output_type": "stream",
     "text": [
      "Epoch 223/500\n",
      "250/250 [==============================] - 0s 507us/step - loss: 0.3721 - accuracy: 0.8334 - val_loss: 0.4059 - val_accuracy: 0.8250\n",
      "Epoch 224/500\n",
      "250/250 [==============================] - 0s 507us/step - loss: 0.3715 - accuracy: 0.8340 - val_loss: 0.4061 - val_accuracy: 0.8270\n",
      "Epoch 225/500\n",
      "250/250 [==============================] - 0s 497us/step - loss: 0.3713 - accuracy: 0.8328 - val_loss: 0.4099 - val_accuracy: 0.8285\n",
      "Epoch 226/500\n",
      "250/250 [==============================] - 0s 497us/step - loss: 0.3722 - accuracy: 0.8324 - val_loss: 0.4060 - val_accuracy: 0.8275\n",
      "Epoch 227/500\n",
      "250/250 [==============================] - 0s 503us/step - loss: 0.3720 - accuracy: 0.8319 - val_loss: 0.4077 - val_accuracy: 0.8295\n",
      "Epoch 228/500\n",
      "250/250 [==============================] - 0s 521us/step - loss: 0.3710 - accuracy: 0.8346 - val_loss: 0.4054 - val_accuracy: 0.8295\n",
      "Epoch 229/500\n",
      "250/250 [==============================] - 0s 507us/step - loss: 0.3710 - accuracy: 0.8334 - val_loss: 0.4060 - val_accuracy: 0.8285\n",
      "Epoch 230/500\n",
      "250/250 [==============================] - 0s 479us/step - loss: 0.3713 - accuracy: 0.8335 - val_loss: 0.4061 - val_accuracy: 0.8245\n",
      "Epoch 231/500\n",
      "250/250 [==============================] - 0s 654us/step - loss: 0.3711 - accuracy: 0.8310 - val_loss: 0.4095 - val_accuracy: 0.8230\n",
      "Epoch 232/500\n",
      "250/250 [==============================] - 0s 507us/step - loss: 0.3707 - accuracy: 0.8354 - val_loss: 0.4043 - val_accuracy: 0.8280\n",
      "Epoch 233/500\n",
      "250/250 [==============================] - 0s 531us/step - loss: 0.3708 - accuracy: 0.8332 - val_loss: 0.4079 - val_accuracy: 0.8240\n",
      "Epoch 234/500\n",
      "250/250 [==============================] - 0s 491us/step - loss: 0.3709 - accuracy: 0.8347 - val_loss: 0.4070 - val_accuracy: 0.8220\n",
      "Epoch 235/500\n",
      "250/250 [==============================] - 0s 491us/step - loss: 0.3706 - accuracy: 0.8364 - val_loss: 0.4062 - val_accuracy: 0.8255\n",
      "Epoch 236/500\n",
      "250/250 [==============================] - 0s 613us/step - loss: 0.3719 - accuracy: 0.8355 - val_loss: 0.4060 - val_accuracy: 0.8285\n",
      "Epoch 237/500\n",
      "250/250 [==============================] - 0s 515us/step - loss: 0.3705 - accuracy: 0.8326 - val_loss: 0.4094 - val_accuracy: 0.8300\n",
      "Epoch 238/500\n",
      "250/250 [==============================] - 0s 499us/step - loss: 0.3707 - accuracy: 0.8326 - val_loss: 0.4081 - val_accuracy: 0.8235\n",
      "Epoch 239/500\n",
      "250/250 [==============================] - 0s 514us/step - loss: 0.3702 - accuracy: 0.8346 - val_loss: 0.4033 - val_accuracy: 0.8275\n",
      "Epoch 240/500\n",
      "250/250 [==============================] - 0s 497us/step - loss: 0.3705 - accuracy: 0.8367 - val_loss: 0.4049 - val_accuracy: 0.8285\n",
      "Epoch 241/500\n",
      "250/250 [==============================] - 0s 519us/step - loss: 0.3705 - accuracy: 0.8351 - val_loss: 0.4045 - val_accuracy: 0.8285\n",
      "Epoch 242/500\n",
      "250/250 [==============================] - 0s 503us/step - loss: 0.3702 - accuracy: 0.8371 - val_loss: 0.4059 - val_accuracy: 0.8285\n",
      "Epoch 243/500\n",
      "250/250 [==============================] - 0s 586us/step - loss: 0.3705 - accuracy: 0.8365 - val_loss: 0.4046 - val_accuracy: 0.8260\n",
      "Epoch 244/500\n",
      "250/250 [==============================] - 0s 499us/step - loss: 0.3700 - accuracy: 0.8350 - val_loss: 0.4046 - val_accuracy: 0.8280\n",
      "Epoch 245/500\n",
      "250/250 [==============================] - 0s 483us/step - loss: 0.3704 - accuracy: 0.8341 - val_loss: 0.4079 - val_accuracy: 0.8280\n",
      "Epoch 246/500\n",
      "250/250 [==============================] - 0s 487us/step - loss: 0.3707 - accuracy: 0.8367 - val_loss: 0.4092 - val_accuracy: 0.8285\n",
      "Epoch 247/500\n",
      "250/250 [==============================] - 0s 533us/step - loss: 0.3705 - accuracy: 0.8347 - val_loss: 0.4101 - val_accuracy: 0.8320\n",
      "Epoch 248/500\n",
      "250/250 [==============================] - 0s 503us/step - loss: 0.3709 - accuracy: 0.8331 - val_loss: 0.4063 - val_accuracy: 0.8230\n",
      "Epoch 249/500\n",
      "250/250 [==============================] - 0s 509us/step - loss: 0.3700 - accuracy: 0.8349 - val_loss: 0.4050 - val_accuracy: 0.8280\n",
      "Epoch 250/500\n",
      "250/250 [==============================] - 0s 499us/step - loss: 0.3692 - accuracy: 0.8356 - val_loss: 0.4072 - val_accuracy: 0.8260\n",
      "Epoch 251/500\n",
      "250/250 [==============================] - 0s 513us/step - loss: 0.3706 - accuracy: 0.8357 - val_loss: 0.4090 - val_accuracy: 0.8260\n",
      "Epoch 252/500\n",
      "250/250 [==============================] - 0s 479us/step - loss: 0.3702 - accuracy: 0.8332 - val_loss: 0.4073 - val_accuracy: 0.8250\n",
      "Epoch 253/500\n",
      "250/250 [==============================] - 0s 479us/step - loss: 0.3701 - accuracy: 0.8353 - val_loss: 0.4064 - val_accuracy: 0.8250\n",
      "Epoch 254/500\n",
      "250/250 [==============================] - 0s 582us/step - loss: 0.3699 - accuracy: 0.8345 - val_loss: 0.4050 - val_accuracy: 0.8250\n",
      "Epoch 255/500\n",
      "250/250 [==============================] - 0s 495us/step - loss: 0.3704 - accuracy: 0.8344 - val_loss: 0.4052 - val_accuracy: 0.8255\n",
      "Epoch 256/500\n",
      "250/250 [==============================] - 0s 483us/step - loss: 0.3704 - accuracy: 0.8372 - val_loss: 0.4117 - val_accuracy: 0.8245\n",
      "Epoch 257/500\n",
      "250/250 [==============================] - 0s 495us/step - loss: 0.3693 - accuracy: 0.8346 - val_loss: 0.4077 - val_accuracy: 0.8235\n",
      "Epoch 258/500\n",
      "250/250 [==============================] - 0s 499us/step - loss: 0.3695 - accuracy: 0.8350 - val_loss: 0.4078 - val_accuracy: 0.8290\n",
      "Epoch 259/500\n",
      "250/250 [==============================] - 0s 495us/step - loss: 0.3700 - accuracy: 0.8347 - val_loss: 0.4069 - val_accuracy: 0.8285\n",
      "Epoch 260/500\n",
      "250/250 [==============================] - 0s 470us/step - loss: 0.3701 - accuracy: 0.8338 - val_loss: 0.4075 - val_accuracy: 0.8240\n",
      "Epoch 261/500\n",
      "250/250 [==============================] - 0s 474us/step - loss: 0.3692 - accuracy: 0.8342 - val_loss: 0.4060 - val_accuracy: 0.8300\n",
      "Epoch 262/500\n",
      "250/250 [==============================] - 0s 471us/step - loss: 0.3688 - accuracy: 0.8340 - val_loss: 0.4071 - val_accuracy: 0.8230\n",
      "Epoch 263/500\n",
      "250/250 [==============================] - 0s 491us/step - loss: 0.3686 - accuracy: 0.8355 - val_loss: 0.4088 - val_accuracy: 0.8280\n",
      "Epoch 264/500\n",
      "250/250 [==============================] - 0s 479us/step - loss: 0.3686 - accuracy: 0.8359 - val_loss: 0.4151 - val_accuracy: 0.8160\n",
      "Epoch 265/500\n",
      "250/250 [==============================] - 0s 475us/step - loss: 0.3699 - accuracy: 0.8357 - val_loss: 0.4069 - val_accuracy: 0.8320\n",
      "Epoch 266/500\n",
      "250/250 [==============================] - 0s 471us/step - loss: 0.3692 - accuracy: 0.8344 - val_loss: 0.4088 - val_accuracy: 0.8290\n",
      "Epoch 267/500\n",
      "250/250 [==============================] - 0s 479us/step - loss: 0.3693 - accuracy: 0.8350 - val_loss: 0.4059 - val_accuracy: 0.8245\n",
      "Epoch 268/500\n",
      "250/250 [==============================] - 0s 499us/step - loss: 0.3683 - accuracy: 0.8357 - val_loss: 0.4097 - val_accuracy: 0.8255\n",
      "Epoch 269/500\n",
      "250/250 [==============================] - 0s 487us/step - loss: 0.3681 - accuracy: 0.8345 - val_loss: 0.4086 - val_accuracy: 0.8210\n",
      "Epoch 270/500\n",
      "250/250 [==============================] - 0s 471us/step - loss: 0.3687 - accuracy: 0.8349 - val_loss: 0.4090 - val_accuracy: 0.8250\n",
      "Epoch 271/500\n",
      "250/250 [==============================] - 0s 612us/step - loss: 0.3689 - accuracy: 0.8334 - val_loss: 0.4069 - val_accuracy: 0.8310\n",
      "Epoch 272/500\n",
      "250/250 [==============================] - 0s 490us/step - loss: 0.3688 - accuracy: 0.8345 - val_loss: 0.4074 - val_accuracy: 0.8255\n",
      "Epoch 273/500\n",
      "250/250 [==============================] - 0s 481us/step - loss: 0.3685 - accuracy: 0.8360 - val_loss: 0.4073 - val_accuracy: 0.8285\n",
      "Epoch 274/500\n",
      "250/250 [==============================] - 0s 479us/step - loss: 0.3685 - accuracy: 0.8366 - val_loss: 0.4074 - val_accuracy: 0.8295\n",
      "Epoch 275/500\n",
      "250/250 [==============================] - 0s 490us/step - loss: 0.3686 - accuracy: 0.8365 - val_loss: 0.4182 - val_accuracy: 0.8245\n",
      "Epoch 276/500\n",
      "250/250 [==============================] - 0s 487us/step - loss: 0.3685 - accuracy: 0.8353 - val_loss: 0.4094 - val_accuracy: 0.8255\n",
      "Epoch 277/500\n",
      "250/250 [==============================] - 0s 483us/step - loss: 0.3679 - accuracy: 0.8367 - val_loss: 0.4070 - val_accuracy: 0.8240\n",
      "Epoch 278/500\n",
      "250/250 [==============================] - 0s 491us/step - loss: 0.3686 - accuracy: 0.8364 - val_loss: 0.4095 - val_accuracy: 0.8270\n"
     ]
    },
    {
     "name": "stdout",
     "output_type": "stream",
     "text": [
      "Epoch 279/500\n",
      "250/250 [==============================] - 0s 491us/step - loss: 0.3677 - accuracy: 0.8363 - val_loss: 0.4085 - val_accuracy: 0.8275\n",
      "Epoch 280/500\n",
      "250/250 [==============================] - 0s 483us/step - loss: 0.3697 - accuracy: 0.8388 - val_loss: 0.4161 - val_accuracy: 0.8210\n",
      "Epoch 281/500\n",
      "250/250 [==============================] - 0s 491us/step - loss: 0.3673 - accuracy: 0.8342 - val_loss: 0.4121 - val_accuracy: 0.8220\n",
      "Epoch 282/500\n",
      "250/250 [==============================] - 0s 495us/step - loss: 0.3662 - accuracy: 0.8370 - val_loss: 0.4280 - val_accuracy: 0.8120\n",
      "Epoch 283/500\n",
      "250/250 [==============================] - 0s 535us/step - loss: 0.3691 - accuracy: 0.8353 - val_loss: 0.4109 - val_accuracy: 0.8295\n",
      "Epoch 284/500\n",
      "250/250 [==============================] - 0s 527us/step - loss: 0.3686 - accuracy: 0.8360 - val_loss: 0.4077 - val_accuracy: 0.8235\n",
      "Epoch 285/500\n",
      "250/250 [==============================] - 0s 495us/step - loss: 0.3679 - accuracy: 0.8361 - val_loss: 0.4101 - val_accuracy: 0.8245\n",
      "Epoch 286/500\n",
      "250/250 [==============================] - 0s 483us/step - loss: 0.3669 - accuracy: 0.8381 - val_loss: 0.4074 - val_accuracy: 0.8280\n",
      "Epoch 287/500\n",
      "250/250 [==============================] - 0s 485us/step - loss: 0.3674 - accuracy: 0.8335 - val_loss: 0.4068 - val_accuracy: 0.8285\n",
      "Epoch 288/500\n",
      "250/250 [==============================] - 0s 598us/step - loss: 0.3679 - accuracy: 0.8393 - val_loss: 0.4063 - val_accuracy: 0.8275\n",
      "Epoch 289/500\n",
      "250/250 [==============================] - 0s 479us/step - loss: 0.3672 - accuracy: 0.8365 - val_loss: 0.4093 - val_accuracy: 0.8275\n",
      "Epoch 290/500\n",
      "250/250 [==============================] - 0s 493us/step - loss: 0.3671 - accuracy: 0.8361 - val_loss: 0.4076 - val_accuracy: 0.8290\n",
      "Epoch 291/500\n",
      "250/250 [==============================] - 0s 511us/step - loss: 0.3670 - accuracy: 0.8386 - val_loss: 0.4165 - val_accuracy: 0.8185\n",
      "Epoch 292/500\n",
      "250/250 [==============================] - 0s 586us/step - loss: 0.3678 - accuracy: 0.8367 - val_loss: 0.4088 - val_accuracy: 0.8290\n",
      "Epoch 293/500\n",
      "250/250 [==============================] - 0s 511us/step - loss: 0.3676 - accuracy: 0.8366 - val_loss: 0.4064 - val_accuracy: 0.8280\n",
      "Epoch 294/500\n",
      "250/250 [==============================] - 0s 523us/step - loss: 0.3671 - accuracy: 0.8367 - val_loss: 0.4069 - val_accuracy: 0.8260\n",
      "Epoch 295/500\n",
      "250/250 [==============================] - 0s 499us/step - loss: 0.3653 - accuracy: 0.8386 - val_loss: 0.4102 - val_accuracy: 0.8300\n",
      "Epoch 296/500\n",
      "250/250 [==============================] - 0s 493us/step - loss: 0.3672 - accuracy: 0.8366 - val_loss: 0.4089 - val_accuracy: 0.8260\n",
      "Epoch 297/500\n",
      "250/250 [==============================] - 0s 486us/step - loss: 0.3662 - accuracy: 0.8379 - val_loss: 0.4092 - val_accuracy: 0.8215\n",
      "Epoch 298/500\n",
      "250/250 [==============================] - 0s 486us/step - loss: 0.3663 - accuracy: 0.8385 - val_loss: 0.4074 - val_accuracy: 0.8265\n",
      "Epoch 299/500\n",
      "250/250 [==============================] - 0s 690us/step - loss: 0.3665 - accuracy: 0.8354 - val_loss: 0.4111 - val_accuracy: 0.8290\n",
      "Epoch 300/500\n",
      "250/250 [==============================] - 0s 598us/step - loss: 0.3663 - accuracy: 0.8385 - val_loss: 0.4150 - val_accuracy: 0.8220\n",
      "Epoch 301/500\n",
      "250/250 [==============================] - 0s 519us/step - loss: 0.3659 - accuracy: 0.8380 - val_loss: 0.4189 - val_accuracy: 0.8325\n",
      "Epoch 302/500\n",
      "250/250 [==============================] - 0s 499us/step - loss: 0.3662 - accuracy: 0.8397 - val_loss: 0.4110 - val_accuracy: 0.8290\n",
      "Epoch 303/500\n",
      "250/250 [==============================] - 0s 487us/step - loss: 0.3667 - accuracy: 0.8354 - val_loss: 0.4087 - val_accuracy: 0.8300\n",
      "Epoch 304/500\n",
      "250/250 [==============================] - 0s 495us/step - loss: 0.3676 - accuracy: 0.8360 - val_loss: 0.4125 - val_accuracy: 0.8210\n",
      "Epoch 305/500\n",
      "250/250 [==============================] - 0s 487us/step - loss: 0.3657 - accuracy: 0.8389 - val_loss: 0.4094 - val_accuracy: 0.8245\n",
      "Epoch 306/500\n",
      "250/250 [==============================] - 0s 487us/step - loss: 0.3662 - accuracy: 0.8380 - val_loss: 0.4083 - val_accuracy: 0.8235\n",
      "Epoch 307/500\n",
      "250/250 [==============================] - 0s 483us/step - loss: 0.3655 - accuracy: 0.8376 - val_loss: 0.4109 - val_accuracy: 0.8260\n",
      "Epoch 308/500\n",
      "250/250 [==============================] - 0s 485us/step - loss: 0.3671 - accuracy: 0.8372 - val_loss: 0.4164 - val_accuracy: 0.8220\n",
      "Epoch 309/500\n",
      "250/250 [==============================] - 0s 494us/step - loss: 0.3661 - accuracy: 0.8372 - val_loss: 0.4146 - val_accuracy: 0.8300\n",
      "Epoch 310/500\n",
      "250/250 [==============================] - 0s 503us/step - loss: 0.3664 - accuracy: 0.8376 - val_loss: 0.4075 - val_accuracy: 0.8265\n",
      "Epoch 311/500\n",
      "250/250 [==============================] - 0s 533us/step - loss: 0.3653 - accuracy: 0.8364 - val_loss: 0.4100 - val_accuracy: 0.8255\n",
      "Epoch 312/500\n",
      "250/250 [==============================] - 0s 821us/step - loss: 0.3658 - accuracy: 0.8369 - val_loss: 0.4096 - val_accuracy: 0.8280\n",
      "Epoch 313/500\n",
      "250/250 [==============================] - 0s 598us/step - loss: 0.3657 - accuracy: 0.8371 - val_loss: 0.4103 - val_accuracy: 0.8285\n",
      "Epoch 314/500\n",
      "250/250 [==============================] - 0s 642us/step - loss: 0.3651 - accuracy: 0.8361 - val_loss: 0.4100 - val_accuracy: 0.8235\n",
      "Epoch 315/500\n",
      "250/250 [==============================] - 0s 800us/step - loss: 0.3647 - accuracy: 0.8364 - val_loss: 0.4150 - val_accuracy: 0.8335\n",
      "Epoch 316/500\n",
      "250/250 [==============================] - 0s 678us/step - loss: 0.3651 - accuracy: 0.8364 - val_loss: 0.4110 - val_accuracy: 0.8285\n",
      "Epoch 317/500\n",
      "250/250 [==============================] - 0s 559us/step - loss: 0.3666 - accuracy: 0.8371 - val_loss: 0.4088 - val_accuracy: 0.8295\n",
      "Epoch 318/500\n",
      "250/250 [==============================] - 0s 582us/step - loss: 0.3655 - accuracy: 0.8371 - val_loss: 0.4129 - val_accuracy: 0.8235\n",
      "Epoch 319/500\n",
      "250/250 [==============================] - 0s 1ms/step - loss: 0.3655 - accuracy: 0.8366 - val_loss: 0.4101 - val_accuracy: 0.8260\n",
      "Epoch 320/500\n",
      "250/250 [==============================] - 0s 644us/step - loss: 0.3662 - accuracy: 0.8393 - val_loss: 0.4089 - val_accuracy: 0.8275\n",
      "Epoch 321/500\n",
      "250/250 [==============================] - 0s 585us/step - loss: 0.3652 - accuracy: 0.8379 - val_loss: 0.4167 - val_accuracy: 0.8225\n",
      "Epoch 322/500\n",
      "250/250 [==============================] - 0s 565us/step - loss: 0.3651 - accuracy: 0.8391 - val_loss: 0.4104 - val_accuracy: 0.8235\n",
      "Epoch 323/500\n",
      "250/250 [==============================] - 0s 547us/step - loss: 0.3653 - accuracy: 0.8366 - val_loss: 0.4086 - val_accuracy: 0.8270\n",
      "Epoch 324/500\n",
      "250/250 [==============================] - 0s 622us/step - loss: 0.3651 - accuracy: 0.8384 - val_loss: 0.4138 - val_accuracy: 0.8235\n",
      "Epoch 325/500\n",
      "250/250 [==============================] - 0s 622us/step - loss: 0.3649 - accuracy: 0.8404 - val_loss: 0.4114 - val_accuracy: 0.8240\n",
      "Epoch 326/500\n",
      "250/250 [==============================] - 0s 626us/step - loss: 0.3644 - accuracy: 0.8360 - val_loss: 0.4082 - val_accuracy: 0.8290\n",
      "Epoch 327/500\n",
      "250/250 [==============================] - 0s 642us/step - loss: 0.3641 - accuracy: 0.8401 - val_loss: 0.4095 - val_accuracy: 0.8260\n",
      "Epoch 328/500\n",
      "250/250 [==============================] - 0s 590us/step - loss: 0.3643 - accuracy: 0.8385 - val_loss: 0.4066 - val_accuracy: 0.8275\n",
      "Epoch 329/500\n",
      "250/250 [==============================] - 0s 590us/step - loss: 0.3649 - accuracy: 0.8374 - val_loss: 0.4126 - val_accuracy: 0.8245\n",
      "Epoch 330/500\n",
      "250/250 [==============================] - 0s 698us/step - loss: 0.3643 - accuracy: 0.8371 - val_loss: 0.4139 - val_accuracy: 0.8300\n",
      "Epoch 331/500\n",
      "250/250 [==============================] - 0s 616us/step - loss: 0.3643 - accuracy: 0.8376 - val_loss: 0.4133 - val_accuracy: 0.8265\n",
      "Epoch 332/500\n",
      "250/250 [==============================] - 0s 618us/step - loss: 0.3636 - accuracy: 0.8403 - val_loss: 0.4127 - val_accuracy: 0.8300\n",
      "Epoch 333/500\n",
      "250/250 [==============================] - 0s 574us/step - loss: 0.3658 - accuracy: 0.8364 - val_loss: 0.4122 - val_accuracy: 0.8280\n",
      "Epoch 334/500\n",
      "250/250 [==============================] - 0s 574us/step - loss: 0.3654 - accuracy: 0.8371 - val_loss: 0.4157 - val_accuracy: 0.8210\n"
     ]
    },
    {
     "name": "stdout",
     "output_type": "stream",
     "text": [
      "Epoch 335/500\n",
      "250/250 [==============================] - 0s 650us/step - loss: 0.3643 - accuracy: 0.8372 - val_loss: 0.4085 - val_accuracy: 0.8315\n",
      "Epoch 336/500\n",
      "250/250 [==============================] - 0s 682us/step - loss: 0.3642 - accuracy: 0.8372 - val_loss: 0.4111 - val_accuracy: 0.8295\n",
      "Epoch 337/500\n",
      "250/250 [==============================] - 0s 551us/step - loss: 0.3643 - accuracy: 0.8394 - val_loss: 0.4102 - val_accuracy: 0.8285\n",
      "Epoch 338/500\n",
      "250/250 [==============================] - 0s 527us/step - loss: 0.3654 - accuracy: 0.8375 - val_loss: 0.4098 - val_accuracy: 0.8265\n",
      "Epoch 339/500\n",
      "250/250 [==============================] - 0s 489us/step - loss: 0.3630 - accuracy: 0.8389 - val_loss: 0.4104 - val_accuracy: 0.8270\n",
      "Epoch 340/500\n",
      "250/250 [==============================] - 0s 511us/step - loss: 0.3642 - accuracy: 0.8382 - val_loss: 0.4106 - val_accuracy: 0.8290\n",
      "Epoch 341/500\n",
      "250/250 [==============================] - 0s 565us/step - loss: 0.3645 - accuracy: 0.8388 - val_loss: 0.4111 - val_accuracy: 0.8300\n",
      "Epoch 342/500\n",
      "250/250 [==============================] - 0s 562us/step - loss: 0.3622 - accuracy: 0.8395 - val_loss: 0.4094 - val_accuracy: 0.8255\n",
      "Epoch 343/500\n",
      "250/250 [==============================] - ETA: 0s - loss: 0.3654 - accuracy: 0.83 - 0s 563us/step - loss: 0.3638 - accuracy: 0.8380 - val_loss: 0.4126 - val_accuracy: 0.8245\n",
      "Epoch 344/500\n",
      "250/250 [==============================] - 0s 495us/step - loss: 0.3639 - accuracy: 0.8384 - val_loss: 0.4152 - val_accuracy: 0.8285\n",
      "Epoch 345/500\n",
      "250/250 [==============================] - 0s 483us/step - loss: 0.3634 - accuracy: 0.8364 - val_loss: 0.4155 - val_accuracy: 0.8255\n",
      "Epoch 346/500\n",
      "250/250 [==============================] - 0s 494us/step - loss: 0.3642 - accuracy: 0.8380 - val_loss: 0.4066 - val_accuracy: 0.8285\n",
      "Epoch 347/500\n",
      "250/250 [==============================] - 0s 483us/step - loss: 0.3639 - accuracy: 0.8388 - val_loss: 0.4115 - val_accuracy: 0.8280\n",
      "Epoch 348/500\n",
      "250/250 [==============================] - 0s 483us/step - loss: 0.3640 - accuracy: 0.8375 - val_loss: 0.4110 - val_accuracy: 0.8265\n",
      "Epoch 349/500\n",
      "250/250 [==============================] - 0s 483us/step - loss: 0.3638 - accuracy: 0.8378 - val_loss: 0.4149 - val_accuracy: 0.8255\n",
      "Epoch 350/500\n",
      "250/250 [==============================] - 0s 495us/step - loss: 0.3634 - accuracy: 0.8375 - val_loss: 0.4116 - val_accuracy: 0.8305\n",
      "Epoch 351/500\n",
      "250/250 [==============================] - 0s 497us/step - loss: 0.3635 - accuracy: 0.8395 - val_loss: 0.4100 - val_accuracy: 0.8220\n",
      "Epoch 352/500\n",
      "250/250 [==============================] - 0s 519us/step - loss: 0.3632 - accuracy: 0.8381 - val_loss: 0.4105 - val_accuracy: 0.8265\n",
      "Epoch 353/500\n",
      "250/250 [==============================] - 0s 515us/step - loss: 0.3628 - accuracy: 0.8388 - val_loss: 0.4172 - val_accuracy: 0.8300\n",
      "Epoch 354/500\n",
      "250/250 [==============================] - 0s 545us/step - loss: 0.3629 - accuracy: 0.8388 - val_loss: 0.4102 - val_accuracy: 0.8320\n",
      "Epoch 355/500\n",
      "250/250 [==============================] - 0s 519us/step - loss: 0.3626 - accuracy: 0.8388 - val_loss: 0.4101 - val_accuracy: 0.8280\n",
      "Epoch 356/500\n",
      "250/250 [==============================] - 0s 518us/step - loss: 0.3637 - accuracy: 0.8364 - val_loss: 0.4119 - val_accuracy: 0.8285\n",
      "Epoch 357/500\n",
      "250/250 [==============================] - 0s 499us/step - loss: 0.3629 - accuracy: 0.8391 - val_loss: 0.4091 - val_accuracy: 0.8295\n",
      "Epoch 358/500\n",
      "250/250 [==============================] - 0s 507us/step - loss: 0.3622 - accuracy: 0.8382 - val_loss: 0.4137 - val_accuracy: 0.8325\n",
      "Epoch 359/500\n",
      "250/250 [==============================] - 0s 503us/step - loss: 0.3643 - accuracy: 0.8386 - val_loss: 0.4138 - val_accuracy: 0.8300\n",
      "Epoch 360/500\n",
      "250/250 [==============================] - 0s 495us/step - loss: 0.3631 - accuracy: 0.8397 - val_loss: 0.4182 - val_accuracy: 0.8220\n",
      "Epoch 361/500\n",
      "250/250 [==============================] - 0s 479us/step - loss: 0.3628 - accuracy: 0.8397 - val_loss: 0.4133 - val_accuracy: 0.8260\n",
      "Epoch 362/500\n",
      "250/250 [==============================] - 0s 610us/step - loss: 0.3631 - accuracy: 0.8403 - val_loss: 0.4179 - val_accuracy: 0.8315\n",
      "Epoch 363/500\n",
      "250/250 [==============================] - 0s 541us/step - loss: 0.3632 - accuracy: 0.8391 - val_loss: 0.4123 - val_accuracy: 0.8225\n",
      "Epoch 364/500\n",
      "250/250 [==============================] - 0s 485us/step - loss: 0.3629 - accuracy: 0.8399 - val_loss: 0.4126 - val_accuracy: 0.8265\n",
      "Epoch 365/500\n",
      "250/250 [==============================] - 0s 485us/step - loss: 0.3630 - accuracy: 0.8364 - val_loss: 0.4152 - val_accuracy: 0.8310\n",
      "Epoch 366/500\n",
      "250/250 [==============================] - 0s 485us/step - loss: 0.3631 - accuracy: 0.8385 - val_loss: 0.4126 - val_accuracy: 0.8235\n",
      "Epoch 367/500\n",
      "250/250 [==============================] - 0s 493us/step - loss: 0.3625 - accuracy: 0.8410 - val_loss: 0.4105 - val_accuracy: 0.8280\n",
      "Epoch 368/500\n",
      "250/250 [==============================] - 0s 479us/step - loss: 0.3630 - accuracy: 0.8390 - val_loss: 0.4248 - val_accuracy: 0.8205\n",
      "Epoch 369/500\n",
      "250/250 [==============================] - 0s 487us/step - loss: 0.3624 - accuracy: 0.8381 - val_loss: 0.4119 - val_accuracy: 0.8260\n",
      "Epoch 370/500\n",
      "250/250 [==============================] - 0s 491us/step - loss: 0.3617 - accuracy: 0.8404 - val_loss: 0.4113 - val_accuracy: 0.8270\n",
      "Epoch 371/500\n",
      "250/250 [==============================] - 0s 503us/step - loss: 0.3628 - accuracy: 0.8411 - val_loss: 0.4125 - val_accuracy: 0.8265\n",
      "Epoch 372/500\n",
      "250/250 [==============================] - 0s 531us/step - loss: 0.3620 - accuracy: 0.8396 - val_loss: 0.4200 - val_accuracy: 0.8255\n",
      "Epoch 373/500\n",
      "250/250 [==============================] - 0s 499us/step - loss: 0.3619 - accuracy: 0.8379 - val_loss: 0.4144 - val_accuracy: 0.8285\n",
      "Epoch 374/500\n",
      "250/250 [==============================] - 0s 546us/step - loss: 0.3622 - accuracy: 0.8400 - val_loss: 0.4150 - val_accuracy: 0.8255\n",
      "Epoch 375/500\n",
      "250/250 [==============================] - 0s 531us/step - loss: 0.3616 - accuracy: 0.8397 - val_loss: 0.4129 - val_accuracy: 0.8250\n",
      "Epoch 376/500\n",
      "250/250 [==============================] - 0s 507us/step - loss: 0.3622 - accuracy: 0.8366 - val_loss: 0.4111 - val_accuracy: 0.8275\n",
      "Epoch 377/500\n",
      "250/250 [==============================] - 0s 511us/step - loss: 0.3624 - accuracy: 0.8385 - val_loss: 0.4127 - val_accuracy: 0.8295\n",
      "Epoch 378/500\n",
      "250/250 [==============================] - 0s 481us/step - loss: 0.3610 - accuracy: 0.8411 - val_loss: 0.4163 - val_accuracy: 0.8210\n",
      "Epoch 379/500\n",
      "250/250 [==============================] - 0s 616us/step - loss: 0.3617 - accuracy: 0.8391 - val_loss: 0.4166 - val_accuracy: 0.8205\n",
      "Epoch 380/500\n",
      "250/250 [==============================] - 0s 654us/step - loss: 0.3620 - accuracy: 0.8414 - val_loss: 0.4154 - val_accuracy: 0.8205\n",
      "Epoch 381/500\n",
      "250/250 [==============================] - 0s 495us/step - loss: 0.3628 - accuracy: 0.8379 - val_loss: 0.4140 - val_accuracy: 0.8275\n",
      "Epoch 382/500\n",
      "250/250 [==============================] - 0s 495us/step - loss: 0.3618 - accuracy: 0.8391 - val_loss: 0.4136 - val_accuracy: 0.8295\n",
      "Epoch 383/500\n",
      "250/250 [==============================] - 0s 483us/step - loss: 0.3609 - accuracy: 0.8395 - val_loss: 0.4129 - val_accuracy: 0.8290\n",
      "Epoch 384/500\n",
      "250/250 [==============================] - 0s 483us/step - loss: 0.3616 - accuracy: 0.8400 - val_loss: 0.4135 - val_accuracy: 0.8290\n",
      "Epoch 385/500\n",
      "250/250 [==============================] - 0s 491us/step - loss: 0.3615 - accuracy: 0.8404 - val_loss: 0.4106 - val_accuracy: 0.8295\n",
      "Epoch 386/500\n",
      "250/250 [==============================] - 0s 491us/step - loss: 0.3611 - accuracy: 0.8406 - val_loss: 0.4138 - val_accuracy: 0.8260\n",
      "Epoch 387/500\n",
      "250/250 [==============================] - 0s 502us/step - loss: 0.3615 - accuracy: 0.8385 - val_loss: 0.4126 - val_accuracy: 0.8280\n",
      "Epoch 388/500\n",
      "250/250 [==============================] - 0s 634us/step - loss: 0.3623 - accuracy: 0.8399 - val_loss: 0.4172 - val_accuracy: 0.8260\n",
      "Epoch 389/500\n",
      "250/250 [==============================] - 0s 514us/step - loss: 0.3613 - accuracy: 0.8384 - val_loss: 0.4130 - val_accuracy: 0.8280\n",
      "Epoch 390/500\n"
     ]
    },
    {
     "name": "stdout",
     "output_type": "stream",
     "text": [
      "250/250 [==============================] - 0s 491us/step - loss: 0.3619 - accuracy: 0.8381 - val_loss: 0.4156 - val_accuracy: 0.8265\n",
      "Epoch 391/500\n",
      "250/250 [==============================] - 0s 487us/step - loss: 0.3605 - accuracy: 0.8411 - val_loss: 0.4134 - val_accuracy: 0.8265\n",
      "Epoch 392/500\n",
      "250/250 [==============================] - 0s 499us/step - loss: 0.3613 - accuracy: 0.8385 - val_loss: 0.4201 - val_accuracy: 0.8255\n",
      "Epoch 393/500\n",
      "250/250 [==============================] - 0s 487us/step - loss: 0.3621 - accuracy: 0.8405 - val_loss: 0.4128 - val_accuracy: 0.8275\n",
      "Epoch 394/500\n",
      "250/250 [==============================] - 0s 515us/step - loss: 0.3606 - accuracy: 0.8403 - val_loss: 0.4134 - val_accuracy: 0.8245\n",
      "Epoch 395/500\n",
      "250/250 [==============================] - 0s 559us/step - loss: 0.3612 - accuracy: 0.8404 - val_loss: 0.4164 - val_accuracy: 0.8265\n",
      "Epoch 396/500\n",
      "250/250 [==============================] - 0s 630us/step - loss: 0.3608 - accuracy: 0.8400 - val_loss: 0.4128 - val_accuracy: 0.8295\n",
      "Epoch 397/500\n",
      "250/250 [==============================] - 0s 511us/step - loss: 0.3601 - accuracy: 0.8409 - val_loss: 0.4107 - val_accuracy: 0.8330\n",
      "Epoch 398/500\n",
      "250/250 [==============================] - 0s 570us/step - loss: 0.3608 - accuracy: 0.8397 - val_loss: 0.4147 - val_accuracy: 0.8250\n",
      "Epoch 399/500\n",
      "250/250 [==============================] - 0s 557us/step - loss: 0.3600 - accuracy: 0.8404 - val_loss: 0.4150 - val_accuracy: 0.8310\n",
      "Epoch 400/500\n",
      "250/250 [==============================] - 0s 585us/step - loss: 0.3605 - accuracy: 0.8400 - val_loss: 0.4127 - val_accuracy: 0.8285\n",
      "Epoch 401/500\n",
      "250/250 [==============================] - 0s 650us/step - loss: 0.3606 - accuracy: 0.8422 - val_loss: 0.4115 - val_accuracy: 0.8270\n",
      "Epoch 402/500\n",
      "250/250 [==============================] - 0s 602us/step - loss: 0.3611 - accuracy: 0.8389 - val_loss: 0.4114 - val_accuracy: 0.8280\n",
      "Epoch 403/500\n",
      "250/250 [==============================] - 0s 566us/step - loss: 0.3609 - accuracy: 0.8400 - val_loss: 0.4134 - val_accuracy: 0.8280\n",
      "Epoch 404/500\n",
      "250/250 [==============================] - 0s 662us/step - loss: 0.3597 - accuracy: 0.8409 - val_loss: 0.4137 - val_accuracy: 0.8315\n",
      "Epoch 405/500\n",
      "250/250 [==============================] - 0s 493us/step - loss: 0.3594 - accuracy: 0.8401 - val_loss: 0.4182 - val_accuracy: 0.8290\n",
      "Epoch 406/500\n",
      "250/250 [==============================] - 0s 531us/step - loss: 0.3601 - accuracy: 0.8396 - val_loss: 0.4108 - val_accuracy: 0.8315\n",
      "Epoch 407/500\n",
      "250/250 [==============================] - 0s 570us/step - loss: 0.3598 - accuracy: 0.8414 - val_loss: 0.4138 - val_accuracy: 0.8275\n",
      "Epoch 408/500\n",
      "250/250 [==============================] - 0s 495us/step - loss: 0.3603 - accuracy: 0.8378 - val_loss: 0.4135 - val_accuracy: 0.8255\n",
      "Epoch 409/500\n",
      "250/250 [==============================] - 0s 483us/step - loss: 0.3592 - accuracy: 0.8394 - val_loss: 0.4219 - val_accuracy: 0.8290\n",
      "Epoch 410/500\n",
      "250/250 [==============================] - 0s 497us/step - loss: 0.3592 - accuracy: 0.8405 - val_loss: 0.4204 - val_accuracy: 0.8235\n",
      "Epoch 411/500\n",
      "250/250 [==============================] - 0s 593us/step - loss: 0.3600 - accuracy: 0.8420 - val_loss: 0.4158 - val_accuracy: 0.8265\n",
      "Epoch 412/500\n",
      "250/250 [==============================] - 0s 570us/step - loss: 0.3594 - accuracy: 0.8376 - val_loss: 0.4122 - val_accuracy: 0.8300\n",
      "Epoch 413/500\n",
      "250/250 [==============================] - 0s 483us/step - loss: 0.3597 - accuracy: 0.8405 - val_loss: 0.4142 - val_accuracy: 0.8255\n",
      "Epoch 414/500\n",
      "250/250 [==============================] - 0s 570us/step - loss: 0.3588 - accuracy: 0.8414 - val_loss: 0.4141 - val_accuracy: 0.8280\n",
      "Epoch 415/500\n",
      "250/250 [==============================] - 0s 614us/step - loss: 0.3602 - accuracy: 0.8409 - val_loss: 0.4151 - val_accuracy: 0.8250\n",
      "Epoch 416/500\n",
      "250/250 [==============================] - 0s 535us/step - loss: 0.3590 - accuracy: 0.8397 - val_loss: 0.4158 - val_accuracy: 0.8205\n",
      "Epoch 417/500\n",
      "250/250 [==============================] - 0s 523us/step - loss: 0.3602 - accuracy: 0.8432 - val_loss: 0.4117 - val_accuracy: 0.8290\n",
      "Epoch 418/500\n",
      "250/250 [==============================] - 0s 507us/step - loss: 0.3595 - accuracy: 0.8396 - val_loss: 0.4145 - val_accuracy: 0.8240\n",
      "Epoch 419/500\n",
      "250/250 [==============================] - 0s 502us/step - loss: 0.3590 - accuracy: 0.8411 - val_loss: 0.4134 - val_accuracy: 0.8250\n",
      "Epoch 420/500\n",
      "250/250 [==============================] - 0s 485us/step - loss: 0.3595 - accuracy: 0.8434 - val_loss: 0.4184 - val_accuracy: 0.8250\n",
      "Epoch 421/500\n",
      "250/250 [==============================] - 0s 489us/step - loss: 0.3597 - accuracy: 0.8400 - val_loss: 0.4158 - val_accuracy: 0.8285\n",
      "Epoch 422/500\n",
      "250/250 [==============================] - 0s 489us/step - loss: 0.3589 - accuracy: 0.8404 - val_loss: 0.4192 - val_accuracy: 0.8255\n",
      "Epoch 423/500\n",
      "250/250 [==============================] - 0s 485us/step - loss: 0.3584 - accuracy: 0.8401 - val_loss: 0.4214 - val_accuracy: 0.8220\n",
      "Epoch 424/500\n",
      "250/250 [==============================] - 0s 513us/step - loss: 0.3592 - accuracy: 0.8409 - val_loss: 0.4183 - val_accuracy: 0.8265\n",
      "Epoch 425/500\n",
      "250/250 [==============================] - 0s 674us/step - loss: 0.3601 - accuracy: 0.8381 - val_loss: 0.4165 - val_accuracy: 0.8215\n",
      "Epoch 426/500\n",
      "250/250 [==============================] - 0s 598us/step - loss: 0.3599 - accuracy: 0.8397 - val_loss: 0.4155 - val_accuracy: 0.8290\n",
      "Epoch 427/500\n",
      "250/250 [==============================] - 0s 483us/step - loss: 0.3586 - accuracy: 0.8394 - val_loss: 0.4142 - val_accuracy: 0.8290\n",
      "Epoch 428/500\n",
      "250/250 [==============================] - 0s 483us/step - loss: 0.3607 - accuracy: 0.8420 - val_loss: 0.4145 - val_accuracy: 0.8260\n",
      "Epoch 429/500\n",
      "250/250 [==============================] - 0s 483us/step - loss: 0.3587 - accuracy: 0.8375 - val_loss: 0.4160 - val_accuracy: 0.8300\n",
      "Epoch 430/500\n",
      "250/250 [==============================] - 0s 483us/step - loss: 0.3589 - accuracy: 0.8393 - val_loss: 0.4190 - val_accuracy: 0.8290\n",
      "Epoch 431/500\n",
      "250/250 [==============================] - 0s 483us/step - loss: 0.3589 - accuracy: 0.8403 - val_loss: 0.4161 - val_accuracy: 0.8250\n",
      "Epoch 432/500\n",
      "250/250 [==============================] - 0s 479us/step - loss: 0.3579 - accuracy: 0.8405 - val_loss: 0.4140 - val_accuracy: 0.8285\n",
      "Epoch 433/500\n",
      "250/250 [==============================] - 0s 483us/step - loss: 0.3586 - accuracy: 0.8409 - val_loss: 0.4191 - val_accuracy: 0.8265\n",
      "Epoch 434/500\n",
      "250/250 [==============================] - 0s 491us/step - loss: 0.3581 - accuracy: 0.8421 - val_loss: 0.4192 - val_accuracy: 0.8240\n",
      "Epoch 435/500\n",
      "250/250 [==============================] - 0s 483us/step - loss: 0.3593 - accuracy: 0.8384 - val_loss: 0.4158 - val_accuracy: 0.8260\n",
      "Epoch 436/500\n",
      "250/250 [==============================] - 0s 491us/step - loss: 0.3591 - accuracy: 0.8394 - val_loss: 0.4195 - val_accuracy: 0.8270\n",
      "Epoch 437/500\n",
      "250/250 [==============================] - 0s 491us/step - loss: 0.3577 - accuracy: 0.8431 - val_loss: 0.4201 - val_accuracy: 0.8260\n",
      "Epoch 438/500\n",
      "250/250 [==============================] - 0s 491us/step - loss: 0.3590 - accuracy: 0.8404 - val_loss: 0.4145 - val_accuracy: 0.8305\n",
      "Epoch 439/500\n",
      "250/250 [==============================] - 0s 509us/step - loss: 0.3583 - accuracy: 0.8419 - val_loss: 0.4181 - val_accuracy: 0.8295\n",
      "Epoch 440/500\n",
      "250/250 [==============================] - 0s 491us/step - loss: 0.3581 - accuracy: 0.8421 - val_loss: 0.4250 - val_accuracy: 0.8220\n",
      "Epoch 441/500\n",
      "250/250 [==============================] - 0s 487us/step - loss: 0.3588 - accuracy: 0.8397 - val_loss: 0.4318 - val_accuracy: 0.8175\n",
      "Epoch 442/500\n",
      "250/250 [==============================] - 0s 541us/step - loss: 0.3607 - accuracy: 0.8391 - val_loss: 0.4146 - val_accuracy: 0.8285\n",
      "Epoch 443/500\n",
      "250/250 [==============================] - 0s 570us/step - loss: 0.3589 - accuracy: 0.8404 - val_loss: 0.4188 - val_accuracy: 0.8285\n",
      "Epoch 444/500\n",
      "250/250 [==============================] - 0s 574us/step - loss: 0.3593 - accuracy: 0.8434 - val_loss: 0.4198 - val_accuracy: 0.8225\n",
      "Epoch 445/500\n",
      "250/250 [==============================] - 0s 515us/step - loss: 0.3589 - accuracy: 0.8420 - val_loss: 0.4203 - val_accuracy: 0.8250\n"
     ]
    },
    {
     "name": "stdout",
     "output_type": "stream",
     "text": [
      "Epoch 446/500\n",
      "250/250 [==============================] - 0s 498us/step - loss: 0.3587 - accuracy: 0.8425 - val_loss: 0.4295 - val_accuracy: 0.8235\n",
      "Epoch 447/500\n",
      "250/250 [==============================] - 0s 498us/step - loss: 0.3575 - accuracy: 0.8424 - val_loss: 0.4147 - val_accuracy: 0.8250\n",
      "Epoch 448/500\n",
      "250/250 [==============================] - 0s 483us/step - loss: 0.3574 - accuracy: 0.8397 - val_loss: 0.4255 - val_accuracy: 0.8190\n",
      "Epoch 449/500\n",
      "250/250 [==============================] - 0s 491us/step - loss: 0.3593 - accuracy: 0.8403 - val_loss: 0.4202 - val_accuracy: 0.8280\n",
      "Epoch 450/500\n",
      "250/250 [==============================] - 0s 598us/step - loss: 0.3576 - accuracy: 0.8415 - val_loss: 0.4166 - val_accuracy: 0.8315\n",
      "Epoch 451/500\n",
      "250/250 [==============================] - 0s 1ms/step - loss: 0.3596 - accuracy: 0.8406 - val_loss: 0.4173 - val_accuracy: 0.8275\n",
      "Epoch 452/500\n",
      "250/250 [==============================] - 0s 634us/step - loss: 0.3581 - accuracy: 0.8430 - val_loss: 0.4189 - val_accuracy: 0.8265\n",
      "Epoch 453/500\n",
      "250/250 [==============================] - 0s 487us/step - loss: 0.3571 - accuracy: 0.8440 - val_loss: 0.4163 - val_accuracy: 0.8250\n",
      "Epoch 454/500\n",
      "250/250 [==============================] - 0s 497us/step - loss: 0.3572 - accuracy: 0.8409 - val_loss: 0.4158 - val_accuracy: 0.8240\n",
      "Epoch 455/500\n",
      "250/250 [==============================] - 0s 539us/step - loss: 0.3583 - accuracy: 0.8395 - val_loss: 0.4167 - val_accuracy: 0.8265\n",
      "Epoch 456/500\n",
      "250/250 [==============================] - 0s 537us/step - loss: 0.3574 - accuracy: 0.8416 - val_loss: 0.4153 - val_accuracy: 0.8290\n",
      "Epoch 457/500\n",
      "250/250 [==============================] - 0s 611us/step - loss: 0.3577 - accuracy: 0.8401 - val_loss: 0.4170 - val_accuracy: 0.8305\n",
      "Epoch 458/500\n",
      "250/250 [==============================] - 0s 630us/step - loss: 0.3574 - accuracy: 0.8435 - val_loss: 0.4207 - val_accuracy: 0.8320\n",
      "Epoch 459/500\n",
      "250/250 [==============================] - 0s 531us/step - loss: 0.3582 - accuracy: 0.8405 - val_loss: 0.4247 - val_accuracy: 0.8320\n",
      "Epoch 460/500\n",
      "250/250 [==============================] - 0s 535us/step - loss: 0.3565 - accuracy: 0.8420 - val_loss: 0.4191 - val_accuracy: 0.8250\n",
      "Epoch 461/500\n",
      "250/250 [==============================] - 0s 606us/step - loss: 0.3592 - accuracy: 0.8390 - val_loss: 0.4130 - val_accuracy: 0.8300\n",
      "Epoch 462/500\n",
      "250/250 [==============================] - 0s 630us/step - loss: 0.3578 - accuracy: 0.8422 - val_loss: 0.4212 - val_accuracy: 0.8300\n",
      "Epoch 463/500\n",
      "250/250 [==============================] - 0s 559us/step - loss: 0.3568 - accuracy: 0.8419 - val_loss: 0.4177 - val_accuracy: 0.8295\n",
      "Epoch 464/500\n",
      "250/250 [==============================] - 0s 507us/step - loss: 0.3579 - accuracy: 0.8397 - val_loss: 0.4188 - val_accuracy: 0.8295\n",
      "Epoch 465/500\n",
      "250/250 [==============================] - 0s 499us/step - loss: 0.3578 - accuracy: 0.8419 - val_loss: 0.4176 - val_accuracy: 0.8210\n",
      "Epoch 466/500\n",
      "250/250 [==============================] - 0s 501us/step - loss: 0.3570 - accuracy: 0.8411 - val_loss: 0.4140 - val_accuracy: 0.8250\n",
      "Epoch 467/500\n",
      "250/250 [==============================] - 0s 477us/step - loss: 0.3572 - accuracy: 0.8406 - val_loss: 0.4185 - val_accuracy: 0.8290\n",
      "Epoch 468/500\n",
      "250/250 [==============================] - 0s 491us/step - loss: 0.3561 - accuracy: 0.8424 - val_loss: 0.4202 - val_accuracy: 0.8255\n",
      "Epoch 469/500\n",
      "250/250 [==============================] - 0s 479us/step - loss: 0.3578 - accuracy: 0.8420 - val_loss: 0.4225 - val_accuracy: 0.8305\n",
      "Epoch 470/500\n",
      "250/250 [==============================] - 0s 483us/step - loss: 0.3574 - accuracy: 0.8403 - val_loss: 0.4158 - val_accuracy: 0.8275\n",
      "Epoch 471/500\n",
      "250/250 [==============================] - 0s 499us/step - loss: 0.3561 - accuracy: 0.8426 - val_loss: 0.4159 - val_accuracy: 0.8280\n",
      "Epoch 472/500\n",
      "250/250 [==============================] - 0s 487us/step - loss: 0.3571 - accuracy: 0.8420 - val_loss: 0.4172 - val_accuracy: 0.8250\n",
      "Epoch 473/500\n",
      "250/250 [==============================] - 0s 483us/step - loss: 0.3559 - accuracy: 0.8444 - val_loss: 0.4182 - val_accuracy: 0.8250\n",
      "Epoch 474/500\n",
      "250/250 [==============================] - 0s 483us/step - loss: 0.3566 - accuracy: 0.8428 - val_loss: 0.4196 - val_accuracy: 0.8235\n",
      "Epoch 475/500\n",
      "250/250 [==============================] - 0s 483us/step - loss: 0.3571 - accuracy: 0.8439 - val_loss: 0.4161 - val_accuracy: 0.8265\n",
      "Epoch 476/500\n",
      "250/250 [==============================] - 0s 486us/step - loss: 0.3556 - accuracy: 0.8446 - val_loss: 0.4235 - val_accuracy: 0.8250\n",
      "Epoch 477/500\n",
      "250/250 [==============================] - 0s 487us/step - loss: 0.3563 - accuracy: 0.8414 - val_loss: 0.4164 - val_accuracy: 0.8235\n",
      "Epoch 478/500\n",
      "250/250 [==============================] - 0s 491us/step - loss: 0.3565 - accuracy: 0.8419 - val_loss: 0.4192 - val_accuracy: 0.8245\n",
      "Epoch 479/500\n",
      "250/250 [==============================] - 0s 492us/step - loss: 0.3551 - accuracy: 0.8434 - val_loss: 0.4142 - val_accuracy: 0.8240\n",
      "Epoch 480/500\n",
      "250/250 [==============================] - 0s 483us/step - loss: 0.3556 - accuracy: 0.8419 - val_loss: 0.4177 - val_accuracy: 0.8290\n",
      "Epoch 481/500\n",
      "250/250 [==============================] - 0s 734us/step - loss: 0.3563 - accuracy: 0.8422 - val_loss: 0.4187 - val_accuracy: 0.8240\n",
      "Epoch 482/500\n",
      "250/250 [==============================] - 0s 519us/step - loss: 0.3570 - accuracy: 0.8416 - val_loss: 0.4207 - val_accuracy: 0.8280\n",
      "Epoch 483/500\n",
      "250/250 [==============================] - 0s 483us/step - loss: 0.3556 - accuracy: 0.8428 - val_loss: 0.4191 - val_accuracy: 0.8235\n",
      "Epoch 484/500\n",
      "250/250 [==============================] - 0s 503us/step - loss: 0.3559 - accuracy: 0.8424 - val_loss: 0.4231 - val_accuracy: 0.8255\n",
      "Epoch 485/500\n",
      "250/250 [==============================] - 0s 503us/step - loss: 0.3574 - accuracy: 0.8413 - val_loss: 0.4173 - val_accuracy: 0.8270\n",
      "Epoch 486/500\n",
      "250/250 [==============================] - 0s 539us/step - loss: 0.3559 - accuracy: 0.8428 - val_loss: 0.4167 - val_accuracy: 0.8260\n",
      "Epoch 487/500\n",
      "250/250 [==============================] - 0s 503us/step - loss: 0.3574 - accuracy: 0.8413 - val_loss: 0.4199 - val_accuracy: 0.8260\n",
      "Epoch 488/500\n",
      "250/250 [==============================] - 0s 498us/step - loss: 0.3555 - accuracy: 0.8426 - val_loss: 0.4211 - val_accuracy: 0.8265\n",
      "Epoch 489/500\n",
      "250/250 [==============================] - 0s 495us/step - loss: 0.3547 - accuracy: 0.8421 - val_loss: 0.4161 - val_accuracy: 0.8250\n",
      "Epoch 490/500\n",
      "250/250 [==============================] - 0s 485us/step - loss: 0.3556 - accuracy: 0.8424 - val_loss: 0.4186 - val_accuracy: 0.8275\n",
      "Epoch 491/500\n",
      "250/250 [==============================] - 0s 541us/step - loss: 0.3569 - accuracy: 0.8429 - val_loss: 0.4183 - val_accuracy: 0.8290\n",
      "Epoch 492/500\n",
      "250/250 [==============================] - 0s 541us/step - loss: 0.3564 - accuracy: 0.8397 - val_loss: 0.4205 - val_accuracy: 0.8215\n",
      "Epoch 493/500\n",
      "250/250 [==============================] - 0s 519us/step - loss: 0.3559 - accuracy: 0.8425 - val_loss: 0.4294 - val_accuracy: 0.8220\n",
      "Epoch 494/500\n",
      "250/250 [==============================] - 0s 547us/step - loss: 0.3562 - accuracy: 0.8405 - val_loss: 0.4190 - val_accuracy: 0.8240\n",
      "Epoch 495/500\n",
      "250/250 [==============================] - 0s 523us/step - loss: 0.3558 - accuracy: 0.8435 - val_loss: 0.4182 - val_accuracy: 0.8260\n",
      "Epoch 496/500\n",
      "250/250 [==============================] - 0s 483us/step - loss: 0.3556 - accuracy: 0.8420 - val_loss: 0.4206 - val_accuracy: 0.8205\n",
      "Epoch 497/500\n",
      "250/250 [==============================] - 0s 487us/step - loss: 0.3552 - accuracy: 0.8418 - val_loss: 0.4170 - val_accuracy: 0.8220\n",
      "Epoch 498/500\n",
      "250/250 [==============================] - 0s 483us/step - loss: 0.3565 - accuracy: 0.8434 - val_loss: 0.4173 - val_accuracy: 0.8265\n",
      "Epoch 499/500\n",
      "250/250 [==============================] - 0s 483us/step - loss: 0.3536 - accuracy: 0.8440 - val_loss: 0.4197 - val_accuracy: 0.8290\n",
      "Epoch 500/500\n",
      "250/250 [==============================] - 0s 485us/step - loss: 0.3557 - accuracy: 0.8390 - val_loss: 0.4216 - val_accuracy: 0.8245\n"
     ]
    },
    {
     "data": {
      "text/plain": [
       "<tensorflow.python.keras.callbacks.History at 0x1d41635c4c0>"
      ]
     },
     "execution_count": 56,
     "metadata": {},
     "output_type": "execute_result"
    }
   ],
   "source": [
    "model.fit(x=X_train, y=y_train, epochs=500, validation_data=(X_test, y_test), verbose=1)"
   ]
  },
  {
   "cell_type": "code",
   "execution_count": 57,
   "metadata": {},
   "outputs": [],
   "source": [
    "model_loss = pd.DataFrame(model.history.history)"
   ]
  },
  {
   "cell_type": "code",
   "execution_count": 58,
   "metadata": {},
   "outputs": [
    {
     "data": {
      "text/html": [
       "<div>\n",
       "<style scoped>\n",
       "    .dataframe tbody tr th:only-of-type {\n",
       "        vertical-align: middle;\n",
       "    }\n",
       "\n",
       "    .dataframe tbody tr th {\n",
       "        vertical-align: top;\n",
       "    }\n",
       "\n",
       "    .dataframe thead th {\n",
       "        text-align: right;\n",
       "    }\n",
       "</style>\n",
       "<table border=\"1\" class=\"dataframe\">\n",
       "  <thead>\n",
       "    <tr style=\"text-align: right;\">\n",
       "      <th></th>\n",
       "      <th>loss</th>\n",
       "      <th>accuracy</th>\n",
       "      <th>val_loss</th>\n",
       "      <th>val_accuracy</th>\n",
       "    </tr>\n",
       "  </thead>\n",
       "  <tbody>\n",
       "    <tr>\n",
       "      <th>0</th>\n",
       "      <td>0.513</td>\n",
       "      <td>0.792</td>\n",
       "      <td>0.467</td>\n",
       "      <td>0.803</td>\n",
       "    </tr>\n",
       "    <tr>\n",
       "      <th>1</th>\n",
       "      <td>0.479</td>\n",
       "      <td>0.793</td>\n",
       "      <td>0.463</td>\n",
       "      <td>0.804</td>\n",
       "    </tr>\n",
       "    <tr>\n",
       "      <th>2</th>\n",
       "      <td>0.475</td>\n",
       "      <td>0.794</td>\n",
       "      <td>0.459</td>\n",
       "      <td>0.805</td>\n",
       "    </tr>\n",
       "    <tr>\n",
       "      <th>3</th>\n",
       "      <td>0.467</td>\n",
       "      <td>0.796</td>\n",
       "      <td>0.446</td>\n",
       "      <td>0.806</td>\n",
       "    </tr>\n",
       "    <tr>\n",
       "      <th>4</th>\n",
       "      <td>0.449</td>\n",
       "      <td>0.800</td>\n",
       "      <td>0.424</td>\n",
       "      <td>0.817</td>\n",
       "    </tr>\n",
       "  </tbody>\n",
       "</table>\n",
       "</div>"
      ],
      "text/plain": [
       "   loss  accuracy  val_loss  val_accuracy\n",
       "0 0.513     0.792     0.467         0.803\n",
       "1 0.479     0.793     0.463         0.804\n",
       "2 0.475     0.794     0.459         0.805\n",
       "3 0.467     0.796     0.446         0.806\n",
       "4 0.449     0.800     0.424         0.817"
      ]
     },
     "execution_count": 58,
     "metadata": {},
     "output_type": "execute_result"
    }
   ],
   "source": [
    "model_loss.head()"
   ]
  },
  {
   "cell_type": "code",
   "execution_count": 60,
   "metadata": {},
   "outputs": [
    {
     "name": "stdout",
     "output_type": "stream",
     "text": [
      "Model: \"sequential_2\"\n",
      "_________________________________________________________________\n",
      "Layer (type)                 Output Shape              Param #   \n",
      "=================================================================\n",
      "dense_4 (Dense)              (None, 30)                390       \n",
      "_________________________________________________________________\n",
      "dense_5 (Dense)              (None, 15)                465       \n",
      "_________________________________________________________________\n",
      "dense_6 (Dense)              (None, 1)                 16        \n",
      "=================================================================\n",
      "Total params: 871\n",
      "Trainable params: 871\n",
      "Non-trainable params: 0\n",
      "_________________________________________________________________\n"
     ]
    }
   ],
   "source": [
    "model.summary()"
   ]
  },
  {
   "cell_type": "code",
   "execution_count": 59,
   "metadata": {
    "scrolled": true
   },
   "outputs": [
    {
     "data": {
      "image/png": "[encoded data removed]",
      "text/plain": [
       "<Figure size 720x432 with 1 Axes>"
      ]
     },
     "metadata": {},
     "output_type": "display_data"
    }
   ],
   "source": [
    "model_loss.plot();"
   ]
  },
  {
   "cell_type": "markdown",
   "metadata": {},
   "source": [
    "### with class_weigth\n",
    "\n",
    "Investigate how the \"class_weight\" hyper-parameter is used in a Neural Network."
   ]
  },
  {
   "cell_type": "code",
   "execution_count": 97,
   "metadata": {},
   "outputs": [],
   "source": [
    "from sklearn.utils import class_weight"
   ]
  },
  {
   "cell_type": "code",
   "execution_count": 98,
   "metadata": {},
   "outputs": [],
   "source": [
    "model = Sequential()\n",
    "\n",
    "tf.random.set_seed(101)\n",
    "\n",
    "model.add(Dense(16, activation=\"relu\"))\n",
    "model.add(Dense(8, activation=\"relu\"))\n",
    "model.add(Dense(1, activation=\"sigmoid\"))\n",
    "\n",
    "opt = Adam(lr=0.001)\n",
    "model.compile(optimizer=opt, \n",
    "              loss=\"binary_crossentropy\",\n",
    "              metrics=[\"Recall\"])"
   ]
  },
  {
   "cell_type": "code",
   "execution_count": 99,
   "metadata": {},
   "outputs": [
    {
     "data": {
      "text/plain": [
       "{0: 0.6293266205160478, 1: 2.4330900243309004}"
      ]
     },
     "execution_count": 99,
     "metadata": {},
     "output_type": "execute_result"
    }
   ],
   "source": [
    "from sklearn.utils import class_weight\n",
    "\n",
    "class_weights = class_weight.compute_class_weight('balanced',\n",
    "                                                  classes=np.unique(y_train),\n",
    "                                                  y=y_train)\n",
    "\n",
    "class_weights = {0: class_weights[0], 1: class_weights[1]}\n",
    "class_weights"
   ]
  },
  {
   "cell_type": "code",
   "execution_count": 100,
   "metadata": {
    "scrolled": true
   },
   "outputs": [
    {
     "name": "stdout",
     "output_type": "stream",
     "text": [
      "Epoch 1/200\n",
      "57/57 [==============================] - 0s 3ms/step - loss: 0.6953 - recall: 0.6174 - val_loss: 0.6512 - val_recall: 0.4331\n",
      "Epoch 2/200\n",
      "57/57 [==============================] - 0s 1ms/step - loss: 0.6671 - recall: 0.4479 - val_loss: 0.6384 - val_recall: 0.5096\n",
      "Epoch 3/200\n",
      "57/57 [==============================] - 0s 924us/step - loss: 0.6560 - recall: 0.5454 - val_loss: 0.6244 - val_recall: 0.6242\n",
      "Epoch 4/200\n",
      "57/57 [==============================] - 0s 929us/step - loss: 0.6511 - recall: 0.5884 - val_loss: 0.6061 - val_recall: 0.5796\n",
      "Epoch 5/200\n",
      "57/57 [==============================] - 0s 920us/step - loss: 0.6492 - recall: 0.5642 - val_loss: 0.6091 - val_recall: 0.5796\n",
      "Epoch 6/200\n",
      "57/57 [==============================] - 0s 875us/step - loss: 0.6469 - recall: 0.5716 - val_loss: 0.6320 - val_recall: 0.6497\n",
      "Epoch 7/200\n",
      "57/57 [==============================] - 0s 709us/step - loss: 0.6464 - recall: 0.5992 - val_loss: 0.6254 - val_recall: 0.6369\n",
      "Epoch 8/200\n",
      "57/57 [==============================] - 0s 833us/step - loss: 0.6447 - recall: 0.5857 - val_loss: 0.6225 - val_recall: 0.6497\n",
      "Epoch 9/200\n",
      "57/57 [==============================] - 0s 1ms/step - loss: 0.6434 - recall: 0.5790 - val_loss: 0.6235 - val_recall: 0.6497\n",
      "Epoch 10/200\n",
      "57/57 [==============================] - 0s 1ms/step - loss: 0.6418 - recall: 0.6194 - val_loss: 0.6188 - val_recall: 0.6433\n",
      "Epoch 11/200\n",
      "57/57 [==============================] - 0s 824us/step - loss: 0.6399 - recall: 0.6335 - val_loss: 0.5831 - val_recall: 0.5732\n",
      "Epoch 12/200\n",
      "57/57 [==============================] - 0s 889us/step - loss: 0.6389 - recall: 0.5824 - val_loss: 0.6266 - val_recall: 0.6752\n",
      "Epoch 13/200\n",
      "57/57 [==============================] - 0s 962us/step - loss: 0.6386 - recall: 0.6537 - val_loss: 0.6121 - val_recall: 0.6497\n",
      "Epoch 14/200\n",
      "57/57 [==============================] - 0s 971us/step - loss: 0.6342 - recall: 0.6207 - val_loss: 0.6202 - val_recall: 0.6752\n",
      "Epoch 15/200\n",
      "57/57 [==============================] - 0s 1ms/step - loss: 0.6319 - recall: 0.6449 - val_loss: 0.6098 - val_recall: 0.6624\n",
      "Epoch 16/200\n",
      "57/57 [==============================] - 0s 835us/step - loss: 0.6274 - recall: 0.6187 - val_loss: 0.5882 - val_recall: 0.6051\n",
      "Epoch 17/200\n",
      "57/57 [==============================] - 0s 812us/step - loss: 0.6237 - recall: 0.6463 - val_loss: 0.5720 - val_recall: 0.6051\n",
      "Epoch 18/200\n",
      "57/57 [==============================] - 0s 770us/step - loss: 0.6189 - recall: 0.6510 - val_loss: 0.6289 - val_recall: 0.7580\n",
      "Epoch 19/200\n",
      "57/57 [==============================] - 0s 877us/step - loss: 0.6132 - recall: 0.6913 - val_loss: 0.5775 - val_recall: 0.6561\n",
      "Epoch 20/200\n",
      "57/57 [==============================] - 0s 819us/step - loss: 0.6064 - recall: 0.6772 - val_loss: 0.6109 - val_recall: 0.7580\n",
      "Epoch 21/200\n",
      "57/57 [==============================] - 0s 853us/step - loss: 0.6014 - recall: 0.7108 - val_loss: 0.5947 - val_recall: 0.7197\n",
      "Epoch 22/200\n",
      "57/57 [==============================] - 0s 818us/step - loss: 0.5950 - recall: 0.6987 - val_loss: 0.6036 - val_recall: 0.7707\n",
      "Epoch 23/200\n",
      "57/57 [==============================] - 0s 770us/step - loss: 0.5893 - recall: 0.7075 - val_loss: 0.5866 - val_recall: 0.7134\n",
      "Epoch 24/200\n",
      "57/57 [==============================] - 0s 836us/step - loss: 0.5831 - recall: 0.7021 - val_loss: 0.5544 - val_recall: 0.6624\n",
      "Epoch 25/200\n",
      "57/57 [==============================] - 0s 808us/step - loss: 0.5771 - recall: 0.6947 - val_loss: 0.5733 - val_recall: 0.7197\n",
      "Epoch 26/200\n",
      "57/57 [==============================] - 0s 728us/step - loss: 0.5716 - recall: 0.6947 - val_loss: 0.5650 - val_recall: 0.7134\n",
      "Epoch 27/200\n",
      "57/57 [==============================] - 0s 751us/step - loss: 0.5675 - recall: 0.7028 - val_loss: 0.5792 - val_recall: 0.7325\n",
      "Epoch 28/200\n",
      "57/57 [==============================] - 0s 724us/step - loss: 0.5625 - recall: 0.7344 - val_loss: 0.5785 - val_recall: 0.7325\n",
      "Epoch 29/200\n",
      "57/57 [==============================] - 0s 842us/step - loss: 0.5583 - recall: 0.7182 - val_loss: 0.4961 - val_recall: 0.5796\n",
      "Epoch 30/200\n",
      "57/57 [==============================] - 0s 749us/step - loss: 0.5541 - recall: 0.7290 - val_loss: 0.5198 - val_recall: 0.6688\n",
      "Epoch 31/200\n",
      "57/57 [==============================] - 0s 730us/step - loss: 0.5517 - recall: 0.7182 - val_loss: 0.5514 - val_recall: 0.7134\n",
      "Epoch 32/200\n",
      "57/57 [==============================] - 0s 1ms/step - loss: 0.5493 - recall: 0.7088 - val_loss: 0.6065 - val_recall: 0.7643\n",
      "Epoch 33/200\n",
      "57/57 [==============================] - 0s 789us/step - loss: 0.5457 - recall: 0.7243 - val_loss: 0.5599 - val_recall: 0.7197\n",
      "Epoch 34/200\n",
      "57/57 [==============================] - 0s 964us/step - loss: 0.5441 - recall: 0.7249 - val_loss: 0.5602 - val_recall: 0.7134\n",
      "Epoch 35/200\n",
      "57/57 [==============================] - 0s 831us/step - loss: 0.5418 - recall: 0.7209 - val_loss: 0.5472 - val_recall: 0.7070\n",
      "Epoch 36/200\n",
      "57/57 [==============================] - 0s 875us/step - loss: 0.5401 - recall: 0.7243 - val_loss: 0.5525 - val_recall: 0.7197\n",
      "Epoch 37/200\n",
      "57/57 [==============================] - 0s 1ms/step - loss: 0.5399 - recall: 0.7182 - val_loss: 0.5622 - val_recall: 0.7389\n",
      "Epoch 38/200\n",
      "57/57 [==============================] - 0s 748us/step - loss: 0.5382 - recall: 0.7149 - val_loss: 0.5531 - val_recall: 0.7325\n",
      "Epoch 39/200\n",
      "57/57 [==============================] - 0s 701us/step - loss: 0.5373 - recall: 0.7290 - val_loss: 0.5460 - val_recall: 0.7070\n",
      "Epoch 40/200\n",
      "57/57 [==============================] - 0s 686us/step - loss: 0.5358 - recall: 0.7310 - val_loss: 0.5235 - val_recall: 0.7070\n",
      "Epoch 41/200\n",
      "57/57 [==============================] - 0s 666us/step - loss: 0.5370 - recall: 0.7182 - val_loss: 0.5287 - val_recall: 0.7006\n",
      "Epoch 42/200\n",
      "57/57 [==============================] - 0s 765us/step - loss: 0.5357 - recall: 0.7243 - val_loss: 0.5239 - val_recall: 0.6943\n",
      "Epoch 43/200\n",
      "57/57 [==============================] - 0s 716us/step - loss: 0.5341 - recall: 0.7384 - val_loss: 0.5318 - val_recall: 0.7134\n",
      "Epoch 44/200\n",
      "57/57 [==============================] - 0s 743us/step - loss: 0.5341 - recall: 0.7243 - val_loss: 0.5237 - val_recall: 0.7006\n",
      "Epoch 00044: early stopping\n"
     ]
    },
    {
     "data": {
      "text/plain": [
       "<tensorflow.python.keras.callbacks.History at 0x1d4179c7100>"
      ]
     },
     "execution_count": 100,
     "metadata": {},
     "output_type": "execute_result"
    }
   ],
   "source": [
    "model.fit(x=X_train,\n",
    "          y=y_train,\n",
    "          validation_split=.1,\n",
    "          batch_size=128,\n",
    "          epochs=200,\n",
    "          verbose=1,\n",
    "          callbacks=[early_stop],\n",
    "          class_weight=class_weights)"
   ]
  },
  {
   "cell_type": "markdown",
   "metadata": {},
   "source": [
    "#### Evaluate"
   ]
  },
  {
   "cell_type": "code",
   "execution_count": 101,
   "metadata": {},
   "outputs": [
    {
     "data": {
      "text/plain": [
       "<AxesSubplot:>"
      ]
     },
     "execution_count": 101,
     "metadata": {},
     "output_type": "execute_result"
    },
    {
     "data": {
      "image/png": "[encoded data removed]",
      "text/plain": [
       "<Figure size 720x432 with 1 Axes>"
      ]
     },
     "metadata": {},
     "output_type": "display_data"
    }
   ],
   "source": [
    "loss_df = pd.DataFrame(model.history.history)\n",
    "loss_df.plot()"
   ]
  },
  {
   "cell_type": "code",
   "execution_count": 102,
   "metadata": {},
   "outputs": [
    {
     "name": "stdout",
     "output_type": "stream",
     "text": [
      "[[1180  427]\n",
      " [ 121  272]]\n",
      "              precision    recall  f1-score   support\n",
      "\n",
      "           0       0.91      0.73      0.81      1607\n",
      "           1       0.39      0.69      0.50       393\n",
      "\n",
      "    accuracy                           0.73      2000\n",
      "   macro avg       0.65      0.71      0.65      2000\n",
      "weighted avg       0.81      0.73      0.75      2000\n",
      "\n"
     ]
    }
   ],
   "source": [
    "y_pred = (model.predict(X_test) > 0.5).astype(\"int32\")\n",
    "print(confusion_matrix(y_test, y_pred))\n",
    "print(classification_report(y_test, y_pred))\n",
    "\n",
    "\n",
    "#      precision    recall  f1-score   support\n",
    "\n",
    "#  0       0.86      0.97      0.92       796\n",
    "#  1       0.79      0.41      0.54       204\n"
   ]
  },
  {
   "cell_type": "markdown",
   "metadata": {},
   "source": [
    "## GridSearchCV"
   ]
  },
  {
   "cell_type": "code",
   "execution_count": 69,
   "metadata": {},
   "outputs": [],
   "source": [
    "from tensorflow.keras.callbacks import EarlyStopping"
   ]
  },
  {
   "cell_type": "code",
   "execution_count": 73,
   "metadata": {},
   "outputs": [],
   "source": [
    "from tensorflow.keras.wrappers.scikit_learn import KerasClassifier"
   ]
  },
  {
   "cell_type": "code",
   "execution_count": 66,
   "metadata": {},
   "outputs": [],
   "source": [
    "from tensorflow.keras.optimizers import Adam, Adadelta, RMSprop, Nadam"
   ]
  },
  {
   "cell_type": "code",
   "execution_count": 67,
   "metadata": {},
   "outputs": [],
   "source": [
    "def build_classifier(optimizer, learn_rate):\n",
    "    classifier = Sequential()\n",
    "    classifier.add(Dense(units = 30, activation = 'relu'))\n",
    "    classifier.add(Dense(units = 15, activation = 'relu'))\n",
    "    classifier.add(Dense(units = 1, activation = 'sigmoid'))\n",
    "    classifier.compile(optimizer = optimizer(learn_rate), loss = 'binary_crossentropy', metrics = ['accuracy'])\n",
    "    return classifier"
   ]
  },
  {
   "cell_type": "code",
   "execution_count": 70,
   "metadata": {},
   "outputs": [],
   "source": [
    "early_stop = EarlyStopping(monitor = \"val_accuracy\", mode = \"auto\", verbose = 1, patience = 15)"
   ]
  },
  {
   "cell_type": "code",
   "execution_count": 74,
   "metadata": {},
   "outputs": [
    {
     "name": "stdout",
     "output_type": "stream",
     "text": [
      "Fitting 10 folds for each of 24 candidates, totalling 240 fits\n",
      "Epoch 1/200\n",
      "  1/225 [..............................] - ETA: 0s - loss: 0.7311 - accuracy: 0.3438WARNING:tensorflow:Callbacks method `on_train_batch_begin` is slow compared to the batch time (batch time: 0.0000s vs `on_train_batch_begin` time: 0.0011s). Check your callbacks.\n",
      "225/225 [==============================] - 0s 751us/step - loss: 0.4916 - accuracy: 0.7846 - val_loss: 0.4445 - val_accuracy: 0.8138\n",
      "Epoch 2/200\n",
      "225/225 [==============================] - 0s 499us/step - loss: 0.4683 - accuracy: 0.7947 - val_loss: 0.4161 - val_accuracy: 0.8238\n",
      "Epoch 3/200\n",
      "225/225 [==============================] - 0s 477us/step - loss: 0.4224 - accuracy: 0.8114 - val_loss: 0.3893 - val_accuracy: 0.8350\n",
      "Epoch 4/200\n",
      "225/225 [==============================] - 0s 483us/step - loss: 0.4055 - accuracy: 0.8194 - val_loss: 0.3970 - val_accuracy: 0.8263\n",
      "Epoch 5/200\n",
      "225/225 [==============================] - 0s 472us/step - loss: 0.4017 - accuracy: 0.8213 - val_loss: 0.3949 - val_accuracy: 0.8300\n",
      "Epoch 6/200\n",
      "225/225 [==============================] - 0s 566us/step - loss: 0.3992 - accuracy: 0.8228 - val_loss: 0.3925 - val_accuracy: 0.8350\n",
      "Epoch 7/200\n",
      "225/225 [==============================] - 0s 464us/step - loss: 0.3990 - accuracy: 0.8200 - val_loss: 0.3921 - val_accuracy: 0.8275\n",
      "Epoch 8/200\n",
      "225/225 [==============================] - 0s 473us/step - loss: 0.3978 - accuracy: 0.8181 - val_loss: 0.3901 - val_accuracy: 0.8313\n",
      "Epoch 9/200\n",
      "225/225 [==============================] - 0s 479us/step - loss: 0.3977 - accuracy: 0.8175 - val_loss: 0.3971 - val_accuracy: 0.8288\n",
      "Epoch 10/200\n",
      "225/225 [==============================] - 0s 476us/step - loss: 0.3962 - accuracy: 0.8196 - val_loss: 0.3904 - val_accuracy: 0.8363\n",
      "Epoch 11/200\n",
      "225/225 [==============================] - 0s 494us/step - loss: 0.3942 - accuracy: 0.8240 - val_loss: 0.4054 - val_accuracy: 0.8225\n",
      "Epoch 12/200\n",
      "225/225 [==============================] - 0s 473us/step - loss: 0.3942 - accuracy: 0.8224 - val_loss: 0.3995 - val_accuracy: 0.8200\n",
      "Epoch 13/200\n",
      "225/225 [==============================] - 0s 486us/step - loss: 0.3940 - accuracy: 0.8238 - val_loss: 0.3931 - val_accuracy: 0.8238\n",
      "Epoch 14/200\n",
      "225/225 [==============================] - 0s 474us/step - loss: 0.3933 - accuracy: 0.8224 - val_loss: 0.4062 - val_accuracy: 0.8200\n",
      "Epoch 15/200\n",
      "225/225 [==============================] - 0s 490us/step - loss: 0.3921 - accuracy: 0.8257 - val_loss: 0.3942 - val_accuracy: 0.8238\n",
      "Epoch 16/200\n",
      "225/225 [==============================] - 0s 475us/step - loss: 0.3923 - accuracy: 0.8231 - val_loss: 0.3918 - val_accuracy: 0.8238\n",
      "Epoch 17/200\n",
      "225/225 [==============================] - 0s 492us/step - loss: 0.3921 - accuracy: 0.8238 - val_loss: 0.3901 - val_accuracy: 0.8300\n",
      "Epoch 18/200\n",
      "225/225 [==============================] - 0s 477us/step - loss: 0.3916 - accuracy: 0.8238 - val_loss: 0.3918 - val_accuracy: 0.8300\n",
      "Epoch 19/200\n",
      "225/225 [==============================] - 0s 476us/step - loss: 0.3907 - accuracy: 0.8265 - val_loss: 0.3920 - val_accuracy: 0.8238\n",
      "Epoch 20/200\n",
      "225/225 [==============================] - 0s 497us/step - loss: 0.3911 - accuracy: 0.8225 - val_loss: 0.3933 - val_accuracy: 0.8338\n",
      "Epoch 21/200\n",
      "225/225 [==============================] - 0s 477us/step - loss: 0.3902 - accuracy: 0.8251 - val_loss: 0.3909 - val_accuracy: 0.8275\n",
      "Epoch 22/200\n",
      "225/225 [==============================] - 0s 477us/step - loss: 0.3902 - accuracy: 0.8250 - val_loss: 0.3923 - val_accuracy: 0.8263\n",
      "Epoch 23/200\n",
      "225/225 [==============================] - 0s 481us/step - loss: 0.3892 - accuracy: 0.8258 - val_loss: 0.3945 - val_accuracy: 0.8250\n",
      "Epoch 24/200\n",
      "225/225 [==============================] - 0s 505us/step - loss: 0.3887 - accuracy: 0.8257 - val_loss: 0.3961 - val_accuracy: 0.8325\n",
      "Epoch 25/200\n",
      "225/225 [==============================] - 0s 531us/step - loss: 0.3896 - accuracy: 0.8260 - val_loss: 0.3901 - val_accuracy: 0.8325\n",
      "Epoch 00025: early stopping\n"
     ]
    },
    {
     "data": {
      "text/plain": [
       "GridSearchCV(cv=10,\n",
       "             estimator=<tensorflow.python.keras.wrappers.scikit_learn.KerasClassifier object at 0x000001D416359580>,\n",
       "             n_jobs=-1,\n",
       "             param_grid={'batch_size': [32, 64],\n",
       "                         'learn_rate': [0.001, 0.003, 0.005],\n",
       "                         'optimizer': [<class 'tensorflow.python.keras.optimizer_v2.adam.Adam'>,\n",
       "                                       <class 'tensorflow.python.keras.optimizer_v2.rmsprop.RMSprop'>,\n",
       "                                       <class 'tensorflow.python.keras.optimizer_v2.adadelta.Adadelta'>,\n",
       "                                       <class 'tensorflow.python.keras.optimizer_v2.nadam.Nadam'>]},\n",
       "             scoring='accuracy', verbose=1)"
      ]
     },
     "execution_count": 74,
     "metadata": {},
     "output_type": "execute_result"
    }
   ],
   "source": [
    "tf.random.set_seed(101)\n",
    "\n",
    "classifier_model = KerasClassifier(build_fn = build_classifier, validation_split = 0.1, epochs = 200)\n",
    "\n",
    "parameters = {'batch_size': [32, 64],\n",
    "              'optimizer': [Adam, RMSprop, Adadelta, Nadam],\n",
    "              'learn_rate': [0.001, 0.003, 0.005]}\n",
    "\n",
    "grid_model = GridSearchCV(estimator = classifier_model,\n",
    "                          param_grid = parameters,\n",
    "                          scoring = 'accuracy',\n",
    "                          cv = 10,\n",
    "                          n_jobs = -1,\n",
    "                          verbose = 1)\n",
    "\n",
    "grid_model.fit(X_train, y_train, callbacks = [early_stop])"
   ]
  },
  {
   "cell_type": "code",
   "execution_count": 75,
   "metadata": {},
   "outputs": [
    {
     "data": {
      "text/plain": [
       "0.822875"
      ]
     },
     "execution_count": 75,
     "metadata": {},
     "output_type": "execute_result"
    }
   ],
   "source": [
    "grid_model.best_score_"
   ]
  },
  {
   "cell_type": "code",
   "execution_count": 76,
   "metadata": {},
   "outputs": [
    {
     "data": {
      "text/plain": [
       "{'batch_size': 32,\n",
       " 'learn_rate': 0.003,\n",
       " 'optimizer': tensorflow.python.keras.optimizer_v2.nadam.Nadam}"
      ]
     },
     "execution_count": 76,
     "metadata": {},
     "output_type": "execute_result"
    }
   ],
   "source": [
    "grid_model.best_params_"
   ]
  },
  {
   "cell_type": "markdown",
   "metadata": {},
   "source": [
    "#### Evaluate"
   ]
  },
  {
   "cell_type": "code",
   "execution_count": 77,
   "metadata": {},
   "outputs": [
    {
     "data": {
      "text/html": [
       "<div>\n",
       "<style scoped>\n",
       "    .dataframe tbody tr th:only-of-type {\n",
       "        vertical-align: middle;\n",
       "    }\n",
       "\n",
       "    .dataframe tbody tr th {\n",
       "        vertical-align: top;\n",
       "    }\n",
       "\n",
       "    .dataframe thead th {\n",
       "        text-align: right;\n",
       "    }\n",
       "</style>\n",
       "<table border=\"1\" class=\"dataframe\">\n",
       "  <thead>\n",
       "    <tr style=\"text-align: right;\">\n",
       "      <th></th>\n",
       "      <th>mean_test_score</th>\n",
       "      <th>std_test_score</th>\n",
       "      <th>rank_test_score</th>\n",
       "      <th>params</th>\n",
       "    </tr>\n",
       "  </thead>\n",
       "  <tbody>\n",
       "    <tr>\n",
       "      <th>0</th>\n",
       "      <td>0.820</td>\n",
       "      <td>0.013</td>\n",
       "      <td>8</td>\n",
       "      <td>{'batch_size': 32, 'learn_rate': 0.001, 'optim...</td>\n",
       "    </tr>\n",
       "    <tr>\n",
       "      <th>1</th>\n",
       "      <td>0.820</td>\n",
       "      <td>0.012</td>\n",
       "      <td>7</td>\n",
       "      <td>{'batch_size': 32, 'learn_rate': 0.001, 'optim...</td>\n",
       "    </tr>\n",
       "    <tr>\n",
       "      <th>2</th>\n",
       "      <td>0.794</td>\n",
       "      <td>0.016</td>\n",
       "      <td>23</td>\n",
       "      <td>{'batch_size': 32, 'learn_rate': 0.001, 'optim...</td>\n",
       "    </tr>\n",
       "    <tr>\n",
       "      <th>3</th>\n",
       "      <td>0.820</td>\n",
       "      <td>0.012</td>\n",
       "      <td>8</td>\n",
       "      <td>{'batch_size': 32, 'learn_rate': 0.001, 'optim...</td>\n",
       "    </tr>\n",
       "    <tr>\n",
       "      <th>4</th>\n",
       "      <td>0.816</td>\n",
       "      <td>0.016</td>\n",
       "      <td>17</td>\n",
       "      <td>{'batch_size': 32, 'learn_rate': 0.003, 'optim...</td>\n",
       "    </tr>\n",
       "    <tr>\n",
       "      <th>5</th>\n",
       "      <td>0.817</td>\n",
       "      <td>0.014</td>\n",
       "      <td>15</td>\n",
       "      <td>{'batch_size': 32, 'learn_rate': 0.003, 'optim...</td>\n",
       "    </tr>\n",
       "    <tr>\n",
       "      <th>6</th>\n",
       "      <td>0.794</td>\n",
       "      <td>0.016</td>\n",
       "      <td>19</td>\n",
       "      <td>{'batch_size': 32, 'learn_rate': 0.003, 'optim...</td>\n",
       "    </tr>\n",
       "    <tr>\n",
       "      <th>7</th>\n",
       "      <td>0.823</td>\n",
       "      <td>0.012</td>\n",
       "      <td>1</td>\n",
       "      <td>{'batch_size': 32, 'learn_rate': 0.003, 'optim...</td>\n",
       "    </tr>\n",
       "    <tr>\n",
       "      <th>8</th>\n",
       "      <td>0.820</td>\n",
       "      <td>0.014</td>\n",
       "      <td>10</td>\n",
       "      <td>{'batch_size': 32, 'learn_rate': 0.005, 'optim...</td>\n",
       "    </tr>\n",
       "    <tr>\n",
       "      <th>9</th>\n",
       "      <td>0.823</td>\n",
       "      <td>0.016</td>\n",
       "      <td>3</td>\n",
       "      <td>{'batch_size': 32, 'learn_rate': 0.005, 'optim...</td>\n",
       "    </tr>\n",
       "    <tr>\n",
       "      <th>10</th>\n",
       "      <td>0.794</td>\n",
       "      <td>0.016</td>\n",
       "      <td>19</td>\n",
       "      <td>{'batch_size': 32, 'learn_rate': 0.005, 'optim...</td>\n",
       "    </tr>\n",
       "    <tr>\n",
       "      <th>11</th>\n",
       "      <td>0.818</td>\n",
       "      <td>0.015</td>\n",
       "      <td>13</td>\n",
       "      <td>{'batch_size': 32, 'learn_rate': 0.005, 'optim...</td>\n",
       "    </tr>\n",
       "    <tr>\n",
       "      <th>12</th>\n",
       "      <td>0.823</td>\n",
       "      <td>0.013</td>\n",
       "      <td>1</td>\n",
       "      <td>{'batch_size': 64, 'learn_rate': 0.001, 'optim...</td>\n",
       "    </tr>\n",
       "    <tr>\n",
       "      <th>13</th>\n",
       "      <td>0.822</td>\n",
       "      <td>0.011</td>\n",
       "      <td>4</td>\n",
       "      <td>{'batch_size': 64, 'learn_rate': 0.001, 'optim...</td>\n",
       "    </tr>\n",
       "    <tr>\n",
       "      <th>14</th>\n",
       "      <td>0.794</td>\n",
       "      <td>0.016</td>\n",
       "      <td>19</td>\n",
       "      <td>{'batch_size': 64, 'learn_rate': 0.001, 'optim...</td>\n",
       "    </tr>\n",
       "    <tr>\n",
       "      <th>15</th>\n",
       "      <td>0.821</td>\n",
       "      <td>0.013</td>\n",
       "      <td>6</td>\n",
       "      <td>{'batch_size': 64, 'learn_rate': 0.001, 'optim...</td>\n",
       "    </tr>\n",
       "    <tr>\n",
       "      <th>16</th>\n",
       "      <td>0.819</td>\n",
       "      <td>0.017</td>\n",
       "      <td>11</td>\n",
       "      <td>{'batch_size': 64, 'learn_rate': 0.003, 'optim...</td>\n",
       "    </tr>\n",
       "    <tr>\n",
       "      <th>17</th>\n",
       "      <td>0.816</td>\n",
       "      <td>0.014</td>\n",
       "      <td>18</td>\n",
       "      <td>{'batch_size': 64, 'learn_rate': 0.003, 'optim...</td>\n",
       "    </tr>\n",
       "    <tr>\n",
       "      <th>18</th>\n",
       "      <td>0.740</td>\n",
       "      <td>0.170</td>\n",
       "      <td>24</td>\n",
       "      <td>{'batch_size': 64, 'learn_rate': 0.003, 'optim...</td>\n",
       "    </tr>\n",
       "    <tr>\n",
       "      <th>19</th>\n",
       "      <td>0.822</td>\n",
       "      <td>0.015</td>\n",
       "      <td>5</td>\n",
       "      <td>{'batch_size': 64, 'learn_rate': 0.003, 'optim...</td>\n",
       "    </tr>\n",
       "    <tr>\n",
       "      <th>20</th>\n",
       "      <td>0.817</td>\n",
       "      <td>0.015</td>\n",
       "      <td>14</td>\n",
       "      <td>{'batch_size': 64, 'learn_rate': 0.005, 'optim...</td>\n",
       "    </tr>\n",
       "    <tr>\n",
       "      <th>21</th>\n",
       "      <td>0.816</td>\n",
       "      <td>0.011</td>\n",
       "      <td>16</td>\n",
       "      <td>{'batch_size': 64, 'learn_rate': 0.005, 'optim...</td>\n",
       "    </tr>\n",
       "    <tr>\n",
       "      <th>22</th>\n",
       "      <td>0.794</td>\n",
       "      <td>0.016</td>\n",
       "      <td>19</td>\n",
       "      <td>{'batch_size': 64, 'learn_rate': 0.005, 'optim...</td>\n",
       "    </tr>\n",
       "    <tr>\n",
       "      <th>23</th>\n",
       "      <td>0.819</td>\n",
       "      <td>0.009</td>\n",
       "      <td>11</td>\n",
       "      <td>{'batch_size': 64, 'learn_rate': 0.005, 'optim...</td>\n",
       "    </tr>\n",
       "  </tbody>\n",
       "</table>\n",
       "</div>"
      ],
      "text/plain": [
       "    mean_test_score  std_test_score  rank_test_score  \\\n",
       "0             0.820           0.013                8   \n",
       "1             0.820           0.012                7   \n",
       "2             0.794           0.016               23   \n",
       "3             0.820           0.012                8   \n",
       "4             0.816           0.016               17   \n",
       "5             0.817           0.014               15   \n",
       "6             0.794           0.016               19   \n",
       "7             0.823           0.012                1   \n",
       "8             0.820           0.014               10   \n",
       "9             0.823           0.016                3   \n",
       "10            0.794           0.016               19   \n",
       "11            0.818           0.015               13   \n",
       "12            0.823           0.013                1   \n",
       "13            0.822           0.011                4   \n",
       "14            0.794           0.016               19   \n",
       "15            0.821           0.013                6   \n",
       "16            0.819           0.017               11   \n",
       "17            0.816           0.014               18   \n",
       "18            0.740           0.170               24   \n",
       "19            0.822           0.015                5   \n",
       "20            0.817           0.015               14   \n",
       "21            0.816           0.011               16   \n",
       "22            0.794           0.016               19   \n",
       "23            0.819           0.009               11   \n",
       "\n",
       "                                               params  \n",
       "0   {'batch_size': 32, 'learn_rate': 0.001, 'optim...  \n",
       "1   {'batch_size': 32, 'learn_rate': 0.001, 'optim...  \n",
       "2   {'batch_size': 32, 'learn_rate': 0.001, 'optim...  \n",
       "3   {'batch_size': 32, 'learn_rate': 0.001, 'optim...  \n",
       "4   {'batch_size': 32, 'learn_rate': 0.003, 'optim...  \n",
       "5   {'batch_size': 32, 'learn_rate': 0.003, 'optim...  \n",
       "6   {'batch_size': 32, 'learn_rate': 0.003, 'optim...  \n",
       "7   {'batch_size': 32, 'learn_rate': 0.003, 'optim...  \n",
       "8   {'batch_size': 32, 'learn_rate': 0.005, 'optim...  \n",
       "9   {'batch_size': 32, 'learn_rate': 0.005, 'optim...  \n",
       "10  {'batch_size': 32, 'learn_rate': 0.005, 'optim...  \n",
       "11  {'batch_size': 32, 'learn_rate': 0.005, 'optim...  \n",
       "12  {'batch_size': 64, 'learn_rate': 0.001, 'optim...  \n",
       "13  {'batch_size': 64, 'learn_rate': 0.001, 'optim...  \n",
       "14  {'batch_size': 64, 'learn_rate': 0.001, 'optim...  \n",
       "15  {'batch_size': 64, 'learn_rate': 0.001, 'optim...  \n",
       "16  {'batch_size': 64, 'learn_rate': 0.003, 'optim...  \n",
       "17  {'batch_size': 64, 'learn_rate': 0.003, 'optim...  \n",
       "18  {'batch_size': 64, 'learn_rate': 0.003, 'optim...  \n",
       "19  {'batch_size': 64, 'learn_rate': 0.003, 'optim...  \n",
       "20  {'batch_size': 64, 'learn_rate': 0.005, 'optim...  \n",
       "21  {'batch_size': 64, 'learn_rate': 0.005, 'optim...  \n",
       "22  {'batch_size': 64, 'learn_rate': 0.005, 'optim...  \n",
       "23  {'batch_size': 64, 'learn_rate': 0.005, 'optim...  "
      ]
     },
     "execution_count": 77,
     "metadata": {},
     "output_type": "execute_result"
    }
   ],
   "source": [
    "grid_result = pd.DataFrame(grid_model.cv_results_)[[\"mean_test_score\", \"std_test_score\", \"rank_test_score\", \"params\"]]\n",
    "grid_result"
   ]
  },
  {
   "cell_type": "markdown",
   "metadata": {},
   "source": [
    "## Final Model and Model Deployment"
   ]
  },
  {
   "cell_type": "code",
   "execution_count": 78,
   "metadata": {},
   "outputs": [],
   "source": [
    "import pickle\n",
    "pickle.dump(scaler, open(\"churn_prediction\", 'wb'))"
   ]
  },
  {
   "cell_type": "code",
   "execution_count": 80,
   "metadata": {},
   "outputs": [],
   "source": [
    "tf.random.set_seed(101)\n",
    "\n",
    "model = Sequential()\n",
    "\n",
    "model.add(Dense(30, activation = \"relu\", input_dim = X_train.shape[1]))\n",
    "model.add(Dense(15, activation = \"relu\"))\n",
    "model.add(Dense(1, activation = \"sigmoid\"))\n",
    "\n",
    "model.compile(optimizer = \"adam\", loss = \"binary_crossentropy\", metrics = [\"accuracy\"])"
   ]
  },
  {
   "cell_type": "code",
   "execution_count": 81,
   "metadata": {},
   "outputs": [],
   "source": [
    "early_stop = EarlyStopping(monitor = \"val_loss\", mode = \"auto\", verbose = 1, patience = 15)"
   ]
  },
  {
   "cell_type": "code",
   "execution_count": 82,
   "metadata": {
    "scrolled": true
   },
   "outputs": [
    {
     "name": "stdout",
     "output_type": "stream",
     "text": [
      "Epoch 1/1000\n",
      "250/250 [==============================] - 0s 784us/step - loss: 0.5112 - accuracy: 0.7749 - val_loss: 0.4667 - val_accuracy: 0.8085\n",
      "Epoch 2/1000\n",
      "250/250 [==============================] - 0s 545us/step - loss: 0.4754 - accuracy: 0.7951 - val_loss: 0.4597 - val_accuracy: 0.8095\n",
      "Epoch 3/1000\n",
      "250/250 [==============================] - 0s 527us/step - loss: 0.4708 - accuracy: 0.7946 - val_loss: 0.4534 - val_accuracy: 0.8060\n",
      "Epoch 4/1000\n",
      "250/250 [==============================] - 0s 514us/step - loss: 0.4599 - accuracy: 0.7983 - val_loss: 0.4404 - val_accuracy: 0.8050\n",
      "Epoch 5/1000\n",
      "250/250 [==============================] - 0s 562us/step - loss: 0.4391 - accuracy: 0.8048 - val_loss: 0.4227 - val_accuracy: 0.8155\n",
      "Epoch 6/1000\n",
      "250/250 [==============================] - 0s 699us/step - loss: 0.4202 - accuracy: 0.8154 - val_loss: 0.4121 - val_accuracy: 0.8190\n",
      "Epoch 7/1000\n",
      "250/250 [==============================] - 0s 626us/step - loss: 0.4083 - accuracy: 0.8175 - val_loss: 0.4049 - val_accuracy: 0.8290\n",
      "Epoch 8/1000\n",
      "250/250 [==============================] - 0s 544us/step - loss: 0.4035 - accuracy: 0.8189 - val_loss: 0.4040 - val_accuracy: 0.8295\n",
      "Epoch 9/1000\n",
      "250/250 [==============================] - 0s 525us/step - loss: 0.3994 - accuracy: 0.8232 - val_loss: 0.4097 - val_accuracy: 0.8300\n",
      "Epoch 10/1000\n",
      "250/250 [==============================] - 0s 520us/step - loss: 0.3983 - accuracy: 0.8184 - val_loss: 0.4047 - val_accuracy: 0.8340\n",
      "Epoch 11/1000\n",
      "250/250 [==============================] - 0s 523us/step - loss: 0.3975 - accuracy: 0.8207 - val_loss: 0.4031 - val_accuracy: 0.8295\n",
      "Epoch 12/1000\n",
      "250/250 [==============================] - 0s 543us/step - loss: 0.3964 - accuracy: 0.8224 - val_loss: 0.4111 - val_accuracy: 0.8290\n",
      "Epoch 13/1000\n",
      "250/250 [==============================] - 0s 575us/step - loss: 0.3960 - accuracy: 0.8220 - val_loss: 0.4021 - val_accuracy: 0.8285\n",
      "Epoch 14/1000\n",
      "250/250 [==============================] - 0s 677us/step - loss: 0.3960 - accuracy: 0.8211 - val_loss: 0.4030 - val_accuracy: 0.8255\n",
      "Epoch 15/1000\n",
      "250/250 [==============================] - 0s 528us/step - loss: 0.3944 - accuracy: 0.8210 - val_loss: 0.4011 - val_accuracy: 0.8325\n",
      "Epoch 16/1000\n",
      "250/250 [==============================] - 0s 597us/step - loss: 0.3932 - accuracy: 0.8225 - val_loss: 0.4011 - val_accuracy: 0.8310\n",
      "Epoch 17/1000\n",
      "250/250 [==============================] - 0s 611us/step - loss: 0.3937 - accuracy: 0.8238 - val_loss: 0.4047 - val_accuracy: 0.8270\n",
      "Epoch 18/1000\n",
      "250/250 [==============================] - 0s 603us/step - loss: 0.3934 - accuracy: 0.8227 - val_loss: 0.4004 - val_accuracy: 0.8325\n",
      "Epoch 19/1000\n",
      "250/250 [==============================] - 0s 752us/step - loss: 0.3936 - accuracy: 0.8213 - val_loss: 0.4013 - val_accuracy: 0.8310\n",
      "Epoch 20/1000\n",
      "250/250 [==============================] - 0s 691us/step - loss: 0.3918 - accuracy: 0.8245 - val_loss: 0.3994 - val_accuracy: 0.8360\n",
      "Epoch 21/1000\n",
      "250/250 [==============================] - 0s 484us/step - loss: 0.3925 - accuracy: 0.8238 - val_loss: 0.4045 - val_accuracy: 0.8250\n",
      "Epoch 22/1000\n",
      "250/250 [==============================] - 0s 493us/step - loss: 0.3924 - accuracy: 0.8248 - val_loss: 0.4007 - val_accuracy: 0.8295\n",
      "Epoch 23/1000\n",
      "250/250 [==============================] - 0s 518us/step - loss: 0.3919 - accuracy: 0.8241 - val_loss: 0.4000 - val_accuracy: 0.8310\n",
      "Epoch 24/1000\n",
      "250/250 [==============================] - 0s 766us/step - loss: 0.3906 - accuracy: 0.8270 - val_loss: 0.3991 - val_accuracy: 0.8320\n",
      "Epoch 25/1000\n",
      "250/250 [==============================] - 0s 605us/step - loss: 0.3916 - accuracy: 0.8251 - val_loss: 0.3986 - val_accuracy: 0.8265\n",
      "Epoch 26/1000\n",
      "250/250 [==============================] - 0s 725us/step - loss: 0.3906 - accuracy: 0.8235 - val_loss: 0.4016 - val_accuracy: 0.8295\n",
      "Epoch 27/1000\n",
      "250/250 [==============================] - 0s 580us/step - loss: 0.3893 - accuracy: 0.8244 - val_loss: 0.4058 - val_accuracy: 0.8285\n",
      "Epoch 28/1000\n",
      "250/250 [==============================] - 0s 525us/step - loss: 0.3900 - accuracy: 0.8240 - val_loss: 0.4098 - val_accuracy: 0.8250\n",
      "Epoch 29/1000\n",
      "250/250 [==============================] - 0s 591us/step - loss: 0.3911 - accuracy: 0.8244 - val_loss: 0.4016 - val_accuracy: 0.8310\n",
      "Epoch 30/1000\n",
      "250/250 [==============================] - 0s 725us/step - loss: 0.3902 - accuracy: 0.8246 - val_loss: 0.3989 - val_accuracy: 0.8350\n",
      "Epoch 31/1000\n",
      "250/250 [==============================] - 0s 491us/step - loss: 0.3890 - accuracy: 0.8280 - val_loss: 0.4007 - val_accuracy: 0.8295\n",
      "Epoch 32/1000\n",
      "250/250 [==============================] - 0s 612us/step - loss: 0.3890 - accuracy: 0.8240 - val_loss: 0.3974 - val_accuracy: 0.8315\n",
      "Epoch 33/1000\n",
      "250/250 [==============================] - 0s 564us/step - loss: 0.3895 - accuracy: 0.8257 - val_loss: 0.3973 - val_accuracy: 0.8310\n",
      "Epoch 34/1000\n",
      "250/250 [==============================] - 0s 522us/step - loss: 0.3889 - accuracy: 0.8240 - val_loss: 0.3987 - val_accuracy: 0.8350\n",
      "Epoch 35/1000\n",
      "250/250 [==============================] - 0s 514us/step - loss: 0.3880 - accuracy: 0.8248 - val_loss: 0.3999 - val_accuracy: 0.8310\n",
      "Epoch 36/1000\n",
      "250/250 [==============================] - 0s 481us/step - loss: 0.3877 - accuracy: 0.8240 - val_loss: 0.3995 - val_accuracy: 0.8310\n",
      "Epoch 37/1000\n",
      "250/250 [==============================] - 0s 535us/step - loss: 0.3877 - accuracy: 0.8257 - val_loss: 0.3963 - val_accuracy: 0.8310\n",
      "Epoch 38/1000\n",
      "250/250 [==============================] - 0s 533us/step - loss: 0.3887 - accuracy: 0.8261 - val_loss: 0.3966 - val_accuracy: 0.8330\n",
      "Epoch 39/1000\n",
      "250/250 [==============================] - 0s 494us/step - loss: 0.3873 - accuracy: 0.8280 - val_loss: 0.3978 - val_accuracy: 0.8325\n",
      "Epoch 40/1000\n",
      "250/250 [==============================] - 0s 491us/step - loss: 0.3869 - accuracy: 0.8260 - val_loss: 0.3988 - val_accuracy: 0.8330\n",
      "Epoch 41/1000\n",
      "250/250 [==============================] - 0s 510us/step - loss: 0.3876 - accuracy: 0.8261 - val_loss: 0.4031 - val_accuracy: 0.8280\n",
      "Epoch 42/1000\n",
      "250/250 [==============================] - 0s 486us/step - loss: 0.3871 - accuracy: 0.8236 - val_loss: 0.3961 - val_accuracy: 0.8330\n",
      "Epoch 43/1000\n",
      "250/250 [==============================] - 0s 508us/step - loss: 0.3866 - accuracy: 0.8255 - val_loss: 0.3970 - val_accuracy: 0.8325\n",
      "Epoch 44/1000\n",
      "250/250 [==============================] - 0s 531us/step - loss: 0.3872 - accuracy: 0.8275 - val_loss: 0.4014 - val_accuracy: 0.8280\n",
      "Epoch 45/1000\n",
      "250/250 [==============================] - 0s 543us/step - loss: 0.3865 - accuracy: 0.8280 - val_loss: 0.3993 - val_accuracy: 0.8340\n",
      "Epoch 46/1000\n",
      "250/250 [==============================] - 0s 525us/step - loss: 0.3859 - accuracy: 0.8275 - val_loss: 0.4012 - val_accuracy: 0.8290\n",
      "Epoch 47/1000\n",
      "250/250 [==============================] - 0s 665us/step - loss: 0.3856 - accuracy: 0.8271 - val_loss: 0.3967 - val_accuracy: 0.8310\n",
      "Epoch 48/1000\n",
      "250/250 [==============================] - 0s 581us/step - loss: 0.3862 - accuracy: 0.8259 - val_loss: 0.3955 - val_accuracy: 0.8320\n",
      "Epoch 49/1000\n",
      "250/250 [==============================] - 0s 537us/step - loss: 0.3854 - accuracy: 0.8257 - val_loss: 0.3959 - val_accuracy: 0.8320\n",
      "Epoch 50/1000\n",
      "250/250 [==============================] - 0s 521us/step - loss: 0.3853 - accuracy: 0.8282 - val_loss: 0.3954 - val_accuracy: 0.8350\n",
      "Epoch 51/1000\n",
      "250/250 [==============================] - 0s 539us/step - loss: 0.3856 - accuracy: 0.8259 - val_loss: 0.3984 - val_accuracy: 0.8385\n",
      "Epoch 52/1000\n",
      "250/250 [==============================] - 0s 757us/step - loss: 0.3853 - accuracy: 0.8271 - val_loss: 0.3962 - val_accuracy: 0.8320\n",
      "Epoch 53/1000\n",
      "250/250 [==============================] - 0s 581us/step - loss: 0.3851 - accuracy: 0.8275 - val_loss: 0.4004 - val_accuracy: 0.8300\n",
      "Epoch 54/1000\n",
      "250/250 [==============================] - 0s 551us/step - loss: 0.3852 - accuracy: 0.8290 - val_loss: 0.3959 - val_accuracy: 0.8340\n",
      "Epoch 55/1000\n",
      "250/250 [==============================] - 0s 521us/step - loss: 0.3854 - accuracy: 0.8264 - val_loss: 0.3948 - val_accuracy: 0.8345\n",
      "Epoch 56/1000\n",
      "250/250 [==============================] - 0s 502us/step - loss: 0.3846 - accuracy: 0.8271 - val_loss: 0.3957 - val_accuracy: 0.8315\n"
     ]
    },
    {
     "name": "stdout",
     "output_type": "stream",
     "text": [
      "Epoch 57/1000\n",
      "250/250 [==============================] - 0s 500us/step - loss: 0.3848 - accuracy: 0.8278 - val_loss: 0.3967 - val_accuracy: 0.8320\n",
      "Epoch 58/1000\n",
      "250/250 [==============================] - 0s 520us/step - loss: 0.3847 - accuracy: 0.8271 - val_loss: 0.3968 - val_accuracy: 0.8315\n",
      "Epoch 59/1000\n",
      "250/250 [==============================] - 0s 614us/step - loss: 0.3846 - accuracy: 0.8265 - val_loss: 0.3975 - val_accuracy: 0.8320\n",
      "Epoch 60/1000\n",
      "250/250 [==============================] - 0s 530us/step - loss: 0.3842 - accuracy: 0.8265 - val_loss: 0.3995 - val_accuracy: 0.8290\n",
      "Epoch 61/1000\n",
      "250/250 [==============================] - 0s 490us/step - loss: 0.3843 - accuracy: 0.8292 - val_loss: 0.3972 - val_accuracy: 0.8320\n",
      "Epoch 62/1000\n",
      "250/250 [==============================] - 0s 512us/step - loss: 0.3836 - accuracy: 0.8279 - val_loss: 0.3958 - val_accuracy: 0.8315\n",
      "Epoch 63/1000\n",
      "250/250 [==============================] - 0s 579us/step - loss: 0.3843 - accuracy: 0.8291 - val_loss: 0.3956 - val_accuracy: 0.8300\n",
      "Epoch 64/1000\n",
      "250/250 [==============================] - 0s 504us/step - loss: 0.3834 - accuracy: 0.8305 - val_loss: 0.3967 - val_accuracy: 0.8285\n",
      "Epoch 65/1000\n",
      "250/250 [==============================] - 0s 495us/step - loss: 0.3833 - accuracy: 0.8294 - val_loss: 0.3933 - val_accuracy: 0.8320\n",
      "Epoch 66/1000\n",
      "250/250 [==============================] - 0s 628us/step - loss: 0.3825 - accuracy: 0.8271 - val_loss: 0.3976 - val_accuracy: 0.8325\n",
      "Epoch 67/1000\n",
      "250/250 [==============================] - 0s 678us/step - loss: 0.3831 - accuracy: 0.8301 - val_loss: 0.4078 - val_accuracy: 0.8265\n",
      "Epoch 68/1000\n",
      "250/250 [==============================] - 0s 547us/step - loss: 0.3829 - accuracy: 0.8273 - val_loss: 0.3961 - val_accuracy: 0.8275\n",
      "Epoch 69/1000\n",
      "250/250 [==============================] - 0s 507us/step - loss: 0.3821 - accuracy: 0.8278 - val_loss: 0.3979 - val_accuracy: 0.8315\n",
      "Epoch 70/1000\n",
      "250/250 [==============================] - 0s 526us/step - loss: 0.3827 - accuracy: 0.8299 - val_loss: 0.3955 - val_accuracy: 0.8310\n",
      "Epoch 71/1000\n",
      "250/250 [==============================] - 0s 514us/step - loss: 0.3823 - accuracy: 0.8291 - val_loss: 0.3996 - val_accuracy: 0.8260\n",
      "Epoch 72/1000\n",
      "250/250 [==============================] - 0s 499us/step - loss: 0.3828 - accuracy: 0.8280 - val_loss: 0.3986 - val_accuracy: 0.8295\n",
      "Epoch 73/1000\n",
      "250/250 [==============================] - 0s 510us/step - loss: 0.3818 - accuracy: 0.8303 - val_loss: 0.4027 - val_accuracy: 0.8290\n",
      "Epoch 74/1000\n",
      "250/250 [==============================] - 0s 502us/step - loss: 0.3815 - accuracy: 0.8298 - val_loss: 0.3947 - val_accuracy: 0.8335\n",
      "Epoch 75/1000\n",
      "250/250 [==============================] - 0s 581us/step - loss: 0.3813 - accuracy: 0.8289 - val_loss: 0.3953 - val_accuracy: 0.8335\n",
      "Epoch 76/1000\n",
      "250/250 [==============================] - 0s 530us/step - loss: 0.3806 - accuracy: 0.8301 - val_loss: 0.3991 - val_accuracy: 0.8345\n",
      "Epoch 77/1000\n",
      "250/250 [==============================] - 0s 505us/step - loss: 0.3805 - accuracy: 0.8325 - val_loss: 0.3976 - val_accuracy: 0.8340\n",
      "Epoch 78/1000\n",
      "250/250 [==============================] - 0s 518us/step - loss: 0.3819 - accuracy: 0.8292 - val_loss: 0.3968 - val_accuracy: 0.8315\n",
      "Epoch 79/1000\n",
      "250/250 [==============================] - 0s 521us/step - loss: 0.3812 - accuracy: 0.8320 - val_loss: 0.3939 - val_accuracy: 0.8325\n",
      "Epoch 80/1000\n",
      "250/250 [==============================] - 0s 532us/step - loss: 0.3804 - accuracy: 0.8298 - val_loss: 0.3967 - val_accuracy: 0.8325\n",
      "Epoch 00080: early stopping\n"
     ]
    },
    {
     "data": {
      "text/plain": [
       "<tensorflow.python.keras.callbacks.History at 0x1d41806b3a0>"
      ]
     },
     "execution_count": 82,
     "metadata": {},
     "output_type": "execute_result"
    }
   ],
   "source": [
    "model.fit(x = X_train, y = y_train, validation_data = (X_test, y_test), batch_size = 32, epochs = 1000, verbose = 1,\n",
    "          callbacks = [early_stop])"
   ]
  },
  {
   "cell_type": "code",
   "execution_count": 83,
   "metadata": {},
   "outputs": [],
   "source": [
    "model.save('model_churn.h5')"
   ]
  },
  {
   "cell_type": "markdown",
   "metadata": {
    "id": "Cq10ovAX6daY"
   },
   "source": [
    "### Prediction"
   ]
  },
  {
   "cell_type": "code",
   "execution_count": 84,
   "metadata": {},
   "outputs": [],
   "source": [
    "from tensorflow.keras.models import load_model"
   ]
  },
  {
   "cell_type": "code",
   "execution_count": 89,
   "metadata": {},
   "outputs": [],
   "source": [
    "model_churn = load_model('model_churn.h5')\n",
    "scaler_churn = pickle.load(open(\"churn_prediction\", \"rb\"))"
   ]
  },
  {
   "cell_type": "code",
   "execution_count": 90,
   "metadata": {},
   "outputs": [
    {
     "data": {
      "text/html": [
       "<div>\n",
       "<style scoped>\n",
       "    .dataframe tbody tr th:only-of-type {\n",
       "        vertical-align: middle;\n",
       "    }\n",
       "\n",
       "    .dataframe tbody tr th {\n",
       "        vertical-align: top;\n",
       "    }\n",
       "\n",
       "    .dataframe thead th {\n",
       "        text-align: right;\n",
       "    }\n",
       "</style>\n",
       "<table border=\"1\" class=\"dataframe\">\n",
       "  <thead>\n",
       "    <tr style=\"text-align: right;\">\n",
       "      <th></th>\n",
       "      <th>CreditScore</th>\n",
       "      <th>Tenure</th>\n",
       "      <th>Balance</th>\n",
       "      <th>NumOfProducts</th>\n",
       "      <th>HasCrCard</th>\n",
       "      <th>IsActiveMember</th>\n",
       "      <th>EstimatedSalary</th>\n",
       "      <th>Geography_France</th>\n",
       "      <th>Geography_Germany</th>\n",
       "      <th>Geography_Spain</th>\n",
       "      <th>Gender_Female</th>\n",
       "      <th>Gender_Male</th>\n",
       "    </tr>\n",
       "  </thead>\n",
       "  <tbody>\n",
       "    <tr>\n",
       "      <th>0</th>\n",
       "      <td>619</td>\n",
       "      <td>2</td>\n",
       "      <td>0.000</td>\n",
       "      <td>1</td>\n",
       "      <td>1</td>\n",
       "      <td>1</td>\n",
       "      <td>101348.880</td>\n",
       "      <td>1</td>\n",
       "      <td>0</td>\n",
       "      <td>0</td>\n",
       "      <td>1</td>\n",
       "      <td>0</td>\n",
       "    </tr>\n",
       "  </tbody>\n",
       "</table>\n",
       "</div>"
      ],
      "text/plain": [
       "   CreditScore  Tenure  Balance  NumOfProducts  HasCrCard  IsActiveMember  \\\n",
       "0          619       2    0.000              1          1               1   \n",
       "\n",
       "   EstimatedSalary  Geography_France  Geography_Germany  Geography_Spain  \\\n",
       "0       101348.880                 1                  0                0   \n",
       "\n",
       "   Gender_Female  Gender_Male  \n",
       "0              1            0  "
      ]
     },
     "execution_count": 90,
     "metadata": {},
     "output_type": "execute_result"
    }
   ],
   "source": [
    "single_person = df2.drop('Exited', axis = 1).iloc[0:1, :]\n",
    "single_person"
   ]
  },
  {
   "cell_type": "code",
   "execution_count": 94,
   "metadata": {},
   "outputs": [],
   "source": [
    "single_person = model_churn.transform(single_person)"
   ]
  },
  {
   "cell_type": "code",
   "execution_count": 95,
   "metadata": {},
   "outputs": [
    {
     "data": {
      "text/plain": [
       "1"
      ]
     },
     "execution_count": 95,
     "metadata": {},
     "output_type": "execute_result"
    }
   ],
   "source": [
    "df2[\"Exited\"].iloc[0]"
   ]
  },
  {
   "cell_type": "markdown",
   "metadata": {},
   "source": [
    "___\n",
    "\n",
    "<p style=\"text-align: center;\"><img src=\"https://docs.google.com/uc?id=1lY0Uj5R04yMY3-ZppPWxqCr5pvBLYPnV\" class=\"img-fluid\" alt=\"CLRSWY\"></p>\n",
    "\n",
    "___"
   ]
  }
 ],
 "metadata": {
  "colab": {
   "authorship_tag": "ABX9TyPKBWWuNpSuP7DHsa+Zpo3l",
   "collapsed_sections": [],
   "name": "Untitled0.ipynb",
   "provenance": []
  },
  "kernelspec": {
   "display_name": "Python 3 (ipykernel)",
   "language": "python",
   "name": "python3"
  },
  "language_info": {
   "codemirror_mode": {
    "name": "ipython",
    "version": 3
   },
   "file_extension": ".py",
   "mimetype": "text/x-python",
   "name": "python",
   "nbconvert_exporter": "python",
   "pygments_lexer": "ipython3",
   "version": "3.8.8"
  }
 },
 "nbformat": 4,
 "nbformat_minor": 1
}
